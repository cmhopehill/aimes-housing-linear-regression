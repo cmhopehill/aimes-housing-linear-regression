{
 "cells": [
  {
   "cell_type": "markdown",
   "id": "8d895391-08f2-4596-844c-082c98d6eecd",
   "metadata": {},
   "source": [
    "## Background\n",
    "* Millenial generation and housing.\n",
    "    * There has been a near constant discussion of the Millenial generation and husing; especially around Millenials struggles to own a home.\n",
    "    * As this Denver Post article describes the average colorado home price has increased over % 450 in the last 31 years ([*Source*](https://www.denverpost.com/2021/07/04/millennials-debt-wealth-housing-health-care-colorado/)) this price increase coupled with the high student debt many Millenials have has dramatically impacted the rate of home ownership for Millenials.\n",
    "    * In addition to student debt and rising house prices Millenials have also had to live through two recessions. As this article from business insider describes these additional issues coupled with a housing shortage are limiting Millenials opportunitities to own a home ([*Source*](https://www.businessinsider.com/housing-market-forecast-millennials-buying-homes-crisis-2021-4)).\n",
    "* These issues can also be seen in the number of hits for 'millenials and housing':\n",
    "    * Over 10 million hits overall\n",
    "    * Over 200 thousand news articles"
   ]
  },
  {
   "cell_type": "markdown",
   "id": "aa30b6a0-9827-4b82-a351-0cae451c0383",
   "metadata": {},
   "source": [
    "## Problem Statement"
   ]
  },
  {
   "cell_type": "markdown",
   "id": "ad98baff-668a-45f0-b5bb-218160159148",
   "metadata": {},
   "source": [
    "As described in the background Millenials have a low home ownership rate. Having to rent instead of paying into a mortgage can negatively impact Millenials current and future finances as they may be paying more than a mortgage and not seeing any return on those payments. Using linear regression I will attempt to identify important features that predict a homes saleprice in the Ames, IA dataset. I will conduct a Naive or baseline model, a common real estate features model, and a complex feature model. By examing which features are most in the complext model I may be able to illuminate high value features that aren't neccessary for Millenial or other first-time home buyers. Success in the context of this project will be defined as finding at least one impactful feature that is not in the naive or common features model."
   ]
  },
  {
   "cell_type": "markdown",
   "id": "e39f5dca-d53a-4df5-964f-432eef3f57a2",
   "metadata": {},
   "source": [
    "## Standard Imports"
   ]
  },
  {
   "cell_type": "code",
   "execution_count": 26,
   "id": "2b313512-3472-4e06-8e40-748cf790725b",
   "metadata": {},
   "outputs": [],
   "source": [
    "import pandas as pd \n",
    "#intended to solve copy on slice warnings/issues\n",
    "pd.options.mode.chained_assignment = None\n",
    "import numpy as np\n",
    "import seaborn as sns\n",
    "import matplotlib.pyplot as plt\n",
    "\n",
    "from sklearn.linear_model import LinearRegression\n",
    "from sklearn.model_selection import train_test_split, cross_val_score\n",
    "from sklearn.metrics import r2_score, mean_squared_error\n",
    "from sklearn.preprocessing import PolynomialFeatures\n",
    "from sklearn.preprocessing import StandardScaler"
   ]
  },
  {
   "cell_type": "markdown",
   "id": "491c3525-ebb1-4f92-981e-a357b6ee531d",
   "metadata": {},
   "source": [
    "## Data Cleaning Process"
   ]
  },
  {
   "cell_type": "markdown",
   "id": "553708a5-d70e-4aec-b333-ff49ea16fa49",
   "metadata": {},
   "source": [
    "I made a number of notes in ([*this Google Doc*](https://docs.google.com/document/d/1uThpvNZ_xxrwrA9rXgYtPUprQRT2oCxLcL_c94uW4Lk/edit?usp=sharing)) on the type of many of the variables and how to encode them."
   ]
  },
  {
   "cell_type": "code",
   "execution_count": 2,
   "id": "2167e96b-546a-4ba9-a2a4-fd6953579cac",
   "metadata": {},
   "outputs": [
    {
     "data": {
      "text/html": [
       "<div>\n",
       "<style scoped>\n",
       "    .dataframe tbody tr th:only-of-type {\n",
       "        vertical-align: middle;\n",
       "    }\n",
       "\n",
       "    .dataframe tbody tr th {\n",
       "        vertical-align: top;\n",
       "    }\n",
       "\n",
       "    .dataframe thead th {\n",
       "        text-align: right;\n",
       "    }\n",
       "</style>\n",
       "<table border=\"1\" class=\"dataframe\">\n",
       "  <thead>\n",
       "    <tr style=\"text-align: right;\">\n",
       "      <th></th>\n",
       "      <th>Id</th>\n",
       "      <th>PID</th>\n",
       "      <th>MS SubClass</th>\n",
       "      <th>MS Zoning</th>\n",
       "      <th>Lot Frontage</th>\n",
       "      <th>Lot Area</th>\n",
       "      <th>Street</th>\n",
       "      <th>Alley</th>\n",
       "      <th>Lot Shape</th>\n",
       "      <th>Land Contour</th>\n",
       "      <th>...</th>\n",
       "      <th>Screen Porch</th>\n",
       "      <th>Pool Area</th>\n",
       "      <th>Pool QC</th>\n",
       "      <th>Fence</th>\n",
       "      <th>Misc Feature</th>\n",
       "      <th>Misc Val</th>\n",
       "      <th>Mo Sold</th>\n",
       "      <th>Yr Sold</th>\n",
       "      <th>Sale Type</th>\n",
       "      <th>SalePrice</th>\n",
       "    </tr>\n",
       "  </thead>\n",
       "  <tbody>\n",
       "    <tr>\n",
       "      <th>0</th>\n",
       "      <td>109</td>\n",
       "      <td>533352170</td>\n",
       "      <td>60</td>\n",
       "      <td>RL</td>\n",
       "      <td>NaN</td>\n",
       "      <td>13517</td>\n",
       "      <td>Pave</td>\n",
       "      <td>NaN</td>\n",
       "      <td>IR1</td>\n",
       "      <td>Lvl</td>\n",
       "      <td>...</td>\n",
       "      <td>0</td>\n",
       "      <td>0</td>\n",
       "      <td>NaN</td>\n",
       "      <td>NaN</td>\n",
       "      <td>NaN</td>\n",
       "      <td>0</td>\n",
       "      <td>3</td>\n",
       "      <td>2010</td>\n",
       "      <td>WD</td>\n",
       "      <td>130500</td>\n",
       "    </tr>\n",
       "    <tr>\n",
       "      <th>1</th>\n",
       "      <td>544</td>\n",
       "      <td>531379050</td>\n",
       "      <td>60</td>\n",
       "      <td>RL</td>\n",
       "      <td>43.0</td>\n",
       "      <td>11492</td>\n",
       "      <td>Pave</td>\n",
       "      <td>NaN</td>\n",
       "      <td>IR1</td>\n",
       "      <td>Lvl</td>\n",
       "      <td>...</td>\n",
       "      <td>0</td>\n",
       "      <td>0</td>\n",
       "      <td>NaN</td>\n",
       "      <td>NaN</td>\n",
       "      <td>NaN</td>\n",
       "      <td>0</td>\n",
       "      <td>4</td>\n",
       "      <td>2009</td>\n",
       "      <td>WD</td>\n",
       "      <td>220000</td>\n",
       "    </tr>\n",
       "    <tr>\n",
       "      <th>2</th>\n",
       "      <td>153</td>\n",
       "      <td>535304180</td>\n",
       "      <td>20</td>\n",
       "      <td>RL</td>\n",
       "      <td>68.0</td>\n",
       "      <td>7922</td>\n",
       "      <td>Pave</td>\n",
       "      <td>NaN</td>\n",
       "      <td>Reg</td>\n",
       "      <td>Lvl</td>\n",
       "      <td>...</td>\n",
       "      <td>0</td>\n",
       "      <td>0</td>\n",
       "      <td>NaN</td>\n",
       "      <td>NaN</td>\n",
       "      <td>NaN</td>\n",
       "      <td>0</td>\n",
       "      <td>1</td>\n",
       "      <td>2010</td>\n",
       "      <td>WD</td>\n",
       "      <td>109000</td>\n",
       "    </tr>\n",
       "    <tr>\n",
       "      <th>3</th>\n",
       "      <td>318</td>\n",
       "      <td>916386060</td>\n",
       "      <td>60</td>\n",
       "      <td>RL</td>\n",
       "      <td>73.0</td>\n",
       "      <td>9802</td>\n",
       "      <td>Pave</td>\n",
       "      <td>NaN</td>\n",
       "      <td>Reg</td>\n",
       "      <td>Lvl</td>\n",
       "      <td>...</td>\n",
       "      <td>0</td>\n",
       "      <td>0</td>\n",
       "      <td>NaN</td>\n",
       "      <td>NaN</td>\n",
       "      <td>NaN</td>\n",
       "      <td>0</td>\n",
       "      <td>4</td>\n",
       "      <td>2010</td>\n",
       "      <td>WD</td>\n",
       "      <td>174000</td>\n",
       "    </tr>\n",
       "    <tr>\n",
       "      <th>4</th>\n",
       "      <td>255</td>\n",
       "      <td>906425045</td>\n",
       "      <td>50</td>\n",
       "      <td>RL</td>\n",
       "      <td>82.0</td>\n",
       "      <td>14235</td>\n",
       "      <td>Pave</td>\n",
       "      <td>NaN</td>\n",
       "      <td>IR1</td>\n",
       "      <td>Lvl</td>\n",
       "      <td>...</td>\n",
       "      <td>0</td>\n",
       "      <td>0</td>\n",
       "      <td>NaN</td>\n",
       "      <td>NaN</td>\n",
       "      <td>NaN</td>\n",
       "      <td>0</td>\n",
       "      <td>3</td>\n",
       "      <td>2010</td>\n",
       "      <td>WD</td>\n",
       "      <td>138500</td>\n",
       "    </tr>\n",
       "  </tbody>\n",
       "</table>\n",
       "<p>5 rows × 81 columns</p>\n",
       "</div>"
      ],
      "text/plain": [
       "    Id        PID  MS SubClass MS Zoning  Lot Frontage  Lot Area Street Alley  \\\n",
       "0  109  533352170           60        RL           NaN     13517   Pave   NaN   \n",
       "1  544  531379050           60        RL          43.0     11492   Pave   NaN   \n",
       "2  153  535304180           20        RL          68.0      7922   Pave   NaN   \n",
       "3  318  916386060           60        RL          73.0      9802   Pave   NaN   \n",
       "4  255  906425045           50        RL          82.0     14235   Pave   NaN   \n",
       "\n",
       "  Lot Shape Land Contour  ... Screen Porch Pool Area Pool QC Fence  \\\n",
       "0       IR1          Lvl  ...            0         0     NaN   NaN   \n",
       "1       IR1          Lvl  ...            0         0     NaN   NaN   \n",
       "2       Reg          Lvl  ...            0         0     NaN   NaN   \n",
       "3       Reg          Lvl  ...            0         0     NaN   NaN   \n",
       "4       IR1          Lvl  ...            0         0     NaN   NaN   \n",
       "\n",
       "  Misc Feature Misc Val Mo Sold Yr Sold  Sale Type  SalePrice  \n",
       "0          NaN        0       3    2010        WD      130500  \n",
       "1          NaN        0       4    2009        WD      220000  \n",
       "2          NaN        0       1    2010        WD      109000  \n",
       "3          NaN        0       4    2010        WD      174000  \n",
       "4          NaN        0       3    2010        WD      138500  \n",
       "\n",
       "[5 rows x 81 columns]"
      ]
     },
     "execution_count": 2,
     "metadata": {},
     "output_type": "execute_result"
    }
   ],
   "source": [
    "train = pd.read_csv('./datasets/train.csv')\n",
    "train.head()"
   ]
  },
  {
   "cell_type": "code",
   "execution_count": 3,
   "id": "45338ea5-2ab1-4202-a044-5544cc2f5a34",
   "metadata": {},
   "outputs": [
    {
     "data": {
      "text/plain": [
       "(2051, 81)"
      ]
     },
     "execution_count": 3,
     "metadata": {},
     "output_type": "execute_result"
    }
   ],
   "source": [
    "train.shape"
   ]
  },
  {
   "cell_type": "code",
   "execution_count": 6,
   "id": "a03d5713-5e99-44ea-92bc-7517ccaf50b4",
   "metadata": {},
   "outputs": [
    {
     "data": {
      "text/plain": [
       "9822"
      ]
     },
     "execution_count": 6,
     "metadata": {},
     "output_type": "execute_result"
    }
   ],
   "source": [
    "train.isna().sum().sum()"
   ]
  },
  {
   "cell_type": "code",
   "execution_count": 5,
   "id": "387500a7-4fca-45b7-8e99-c8af662f97f6",
   "metadata": {},
   "outputs": [
    {
     "data": {
      "text/plain": [
       "1080       1\n",
       "304        3\n",
       "574        5\n",
       "1673       8\n",
       "458        9\n",
       "        ... \n",
       "1013    2924\n",
       "1478    2926\n",
       "416     2927\n",
       "651     2929\n",
       "522     2930\n",
       "Name: Id, Length: 2051, dtype: int64"
      ]
     },
     "execution_count": 5,
     "metadata": {},
     "output_type": "execute_result"
    }
   ],
   "source": [
    "train['Id'].sort_values()"
   ]
  },
  {
   "cell_type": "code",
   "execution_count": 6,
   "id": "6af89a06-803a-4e53-be61-fa5866714ca2",
   "metadata": {},
   "outputs": [
    {
     "data": {
      "text/plain": [
       "1080    526301100\n",
       "1623    526302030\n",
       "1923    526302040\n",
       "108     526303060\n",
       "304     526351010\n",
       "          ...    \n",
       "507     924100060\n",
       "651     924100070\n",
       "1324    924151040\n",
       "522     924151050\n",
       "1033    924152030\n",
       "Name: PID, Length: 2051, dtype: int64"
      ]
     },
     "execution_count": 6,
     "metadata": {},
     "output_type": "execute_result"
    }
   ],
   "source": [
    "train['PID'].sort_values()"
   ]
  },
  {
   "cell_type": "code",
   "execution_count": 7,
   "id": "59235f8b-2f6a-4c5e-9215-b882185c7fe1",
   "metadata": {},
   "outputs": [],
   "source": [
    "#Neither ID seem important to predicting the price of a house, however ID will be in the test data so we should keep that\n",
    "train.drop(columns=['PID'], inplace=True)"
   ]
  },
  {
   "cell_type": "code",
   "execution_count": 8,
   "id": "09840b6f-ca34-4514-9b47-08792eb0c86b",
   "metadata": {},
   "outputs": [
    {
     "name": "stdout",
     "output_type": "stream",
     "text": [
      "<class 'pandas.core.frame.DataFrame'>\n",
      "RangeIndex: 2051 entries, 0 to 2050\n",
      "Data columns (total 80 columns):\n",
      " #   Column           Non-Null Count  Dtype  \n",
      "---  ------           --------------  -----  \n",
      " 0   Id               2051 non-null   int64  \n",
      " 1   MS SubClass      2051 non-null   int64  \n",
      " 2   MS Zoning        2051 non-null   object \n",
      " 3   Lot Frontage     1721 non-null   float64\n",
      " 4   Lot Area         2051 non-null   int64  \n",
      " 5   Street           2051 non-null   object \n",
      " 6   Alley            140 non-null    object \n",
      " 7   Lot Shape        2051 non-null   object \n",
      " 8   Land Contour     2051 non-null   object \n",
      " 9   Utilities        2051 non-null   object \n",
      " 10  Lot Config       2051 non-null   object \n",
      " 11  Land Slope       2051 non-null   object \n",
      " 12  Neighborhood     2051 non-null   object \n",
      " 13  Condition 1      2051 non-null   object \n",
      " 14  Condition 2      2051 non-null   object \n",
      " 15  Bldg Type        2051 non-null   object \n",
      " 16  House Style      2051 non-null   object \n",
      " 17  Overall Qual     2051 non-null   int64  \n",
      " 18  Overall Cond     2051 non-null   int64  \n",
      " 19  Year Built       2051 non-null   int64  \n",
      " 20  Year Remod/Add   2051 non-null   int64  \n",
      " 21  Roof Style       2051 non-null   object \n",
      " 22  Roof Matl        2051 non-null   object \n",
      " 23  Exterior 1st     2051 non-null   object \n",
      " 24  Exterior 2nd     2051 non-null   object \n",
      " 25  Mas Vnr Type     2029 non-null   object \n",
      " 26  Mas Vnr Area     2029 non-null   float64\n",
      " 27  Exter Qual       2051 non-null   object \n",
      " 28  Exter Cond       2051 non-null   object \n",
      " 29  Foundation       2051 non-null   object \n",
      " 30  Bsmt Qual        1996 non-null   object \n",
      " 31  Bsmt Cond        1996 non-null   object \n",
      " 32  Bsmt Exposure    1993 non-null   object \n",
      " 33  BsmtFin Type 1   1996 non-null   object \n",
      " 34  BsmtFin SF 1     2050 non-null   float64\n",
      " 35  BsmtFin Type 2   1995 non-null   object \n",
      " 36  BsmtFin SF 2     2050 non-null   float64\n",
      " 37  Bsmt Unf SF      2050 non-null   float64\n",
      " 38  Total Bsmt SF    2050 non-null   float64\n",
      " 39  Heating          2051 non-null   object \n",
      " 40  Heating QC       2051 non-null   object \n",
      " 41  Central Air      2051 non-null   object \n",
      " 42  Electrical       2051 non-null   object \n",
      " 43  1st Flr SF       2051 non-null   int64  \n",
      " 44  2nd Flr SF       2051 non-null   int64  \n",
      " 45  Low Qual Fin SF  2051 non-null   int64  \n",
      " 46  Gr Liv Area      2051 non-null   int64  \n",
      " 47  Bsmt Full Bath   2049 non-null   float64\n",
      " 48  Bsmt Half Bath   2049 non-null   float64\n",
      " 49  Full Bath        2051 non-null   int64  \n",
      " 50  Half Bath        2051 non-null   int64  \n",
      " 51  Bedroom AbvGr    2051 non-null   int64  \n",
      " 52  Kitchen AbvGr    2051 non-null   int64  \n",
      " 53  Kitchen Qual     2051 non-null   object \n",
      " 54  TotRms AbvGrd    2051 non-null   int64  \n",
      " 55  Functional       2051 non-null   object \n",
      " 56  Fireplaces       2051 non-null   int64  \n",
      " 57  Fireplace Qu     1051 non-null   object \n",
      " 58  Garage Type      1938 non-null   object \n",
      " 59  Garage Yr Blt    1937 non-null   float64\n",
      " 60  Garage Finish    1937 non-null   object \n",
      " 61  Garage Cars      2050 non-null   float64\n",
      " 62  Garage Area      2050 non-null   float64\n",
      " 63  Garage Qual      1937 non-null   object \n",
      " 64  Garage Cond      1937 non-null   object \n",
      " 65  Paved Drive      2051 non-null   object \n",
      " 66  Wood Deck SF     2051 non-null   int64  \n",
      " 67  Open Porch SF    2051 non-null   int64  \n",
      " 68  Enclosed Porch   2051 non-null   int64  \n",
      " 69  3Ssn Porch       2051 non-null   int64  \n",
      " 70  Screen Porch     2051 non-null   int64  \n",
      " 71  Pool Area        2051 non-null   int64  \n",
      " 72  Pool QC          9 non-null      object \n",
      " 73  Fence            400 non-null    object \n",
      " 74  Misc Feature     65 non-null     object \n",
      " 75  Misc Val         2051 non-null   int64  \n",
      " 76  Mo Sold          2051 non-null   int64  \n",
      " 77  Yr Sold          2051 non-null   int64  \n",
      " 78  Sale Type        2051 non-null   object \n",
      " 79  SalePrice        2051 non-null   int64  \n",
      "dtypes: float64(11), int64(27), object(42)\n",
      "memory usage: 1.3+ MB\n"
     ]
    }
   ],
   "source": [
    "train.info()"
   ]
  },
  {
   "cell_type": "code",
   "execution_count": 10,
   "id": "5579bca9-7881-4e02-884a-1bfd857a97de",
   "metadata": {},
   "outputs": [],
   "source": [
    "#Making columns easier to work with, from pandas document on .rename\n",
    "train.rename(str.lower, axis=1, inplace=True)\n",
    "\n",
    "#from stack overflow https://stackoverflow.com/questions/42462530/how-to-replace-the-white-space-in-a-string-in-a-pandas-dataframe\n",
    "#https://www.geeksforgeeks.org/remove-spaces-from-column-names-in-pandas/\n",
    "train.columns = train.columns.str.replace(' ', '_')\n",
    "\n",
    "train.head()"
   ]
  },
  {
   "cell_type": "code",
   "execution_count": 11,
   "id": "aa7363f6-4ab7-4f9f-af23-180c1cbdd8cc",
   "metadata": {},
   "outputs": [
    {
     "data": {
      "text/plain": [
       "(2051, 80)"
      ]
     },
     "execution_count": 11,
     "metadata": {},
     "output_type": "execute_result"
    }
   ],
   "source": [
    "train.shape"
   ]
  },
  {
   "cell_type": "markdown",
   "id": "078f3d6f-8060-4bbe-9f6c-27492710d338",
   "metadata": {},
   "source": [
    "### Addressing Nulls"
   ]
  },
  {
   "cell_type": "markdown",
   "id": "105896d4-03f5-48a1-b353-e724987060ed",
   "metadata": {},
   "source": [
    "Addressing Columns that were mistakenly read in with NaN values based on the Ames,IA data dictionary"
   ]
  },
  {
   "cell_type": "code",
   "execution_count": 13,
   "id": "426b9575-d340-40d0-8b4c-6fc20aa9c6e0",
   "metadata": {},
   "outputs": [],
   "source": [
    "#pandas is treating na or no alley as a Nan\n",
    "train['alley'] = train['alley'].replace(np.nan, 'no')"
   ]
  },
  {
   "cell_type": "code",
   "execution_count": 14,
   "id": "862198a6-7093-4716-bc31-30024e6fa52b",
   "metadata": {},
   "outputs": [
    {
     "data": {
      "text/plain": [
       "0"
      ]
     },
     "execution_count": 14,
     "metadata": {},
     "output_type": "execute_result"
    }
   ],
   "source": [
    "train['alley'].isna().sum()"
   ]
  },
  {
   "cell_type": "code",
   "execution_count": 15,
   "id": "4148bcbf-be30-4a3a-97df-4fb3d01a2c7d",
   "metadata": {},
   "outputs": [],
   "source": [
    "#same issue for fence\n",
    "train['fence'] = train['fence'].replace(np.nan, 'no')"
   ]
  },
  {
   "cell_type": "code",
   "execution_count": 16,
   "id": "049cd7c4-5df6-462c-9210-766664348092",
   "metadata": {},
   "outputs": [],
   "source": [
    "#only 22 missing in both masonry variables, thats ~1% or less of the data, probably okay to just fill with 0's\n",
    "train['mas_vnr_area'].fillna(0, inplace=True)"
   ]
  },
  {
   "cell_type": "code",
   "execution_count": 18,
   "id": "eca6ac52-d9da-4534-b210-b85d382546b6",
   "metadata": {},
   "outputs": [
    {
     "data": {
      "text/plain": [
       "0"
      ]
     },
     "execution_count": 18,
     "metadata": {},
     "output_type": "execute_result"
    }
   ],
   "source": [
    "train['mas_vnr_area'].isna().sum()"
   ]
  },
  {
   "cell_type": "code",
   "execution_count": 17,
   "id": "23658ff2-8762-48a2-b755-fc077670b4d2",
   "metadata": {},
   "outputs": [
    {
     "data": {
      "text/plain": [
       "None       1218\n",
       "BrkFace     630\n",
       "Stone       168\n",
       "BrkCmn       13\n",
       "Name: mas_vnr_type, dtype: int64"
      ]
     },
     "execution_count": 17,
     "metadata": {},
     "output_type": "execute_result"
    }
   ],
   "source": [
    "train['mas_vnr_type'].value_counts()"
   ]
  },
  {
   "cell_type": "code",
   "execution_count": 18,
   "id": "ef1b4586-e676-4d84-bf31-85d237aae8c6",
   "metadata": {},
   "outputs": [],
   "source": [
    "#only 22 missing in both masonry variables, thats ~1% or less of the data, probably okay to just fill with None's\n",
    "train['mas_vnr_type'].fillna('None', inplace=True)"
   ]
  },
  {
   "cell_type": "code",
   "execution_count": 19,
   "id": "68c24f6f-3afd-4f99-89b4-142f991177b8",
   "metadata": {},
   "outputs": [
    {
     "data": {
      "text/plain": [
       "0"
      ]
     },
     "execution_count": 19,
     "metadata": {},
     "output_type": "execute_result"
    }
   ],
   "source": [
    "train['mas_vnr_type'].isna().sum()"
   ]
  },
  {
   "cell_type": "code",
   "execution_count": 27,
   "id": "7dbd13ca-da5f-4c30-a63b-11c2cc34aab8",
   "metadata": {},
   "outputs": [],
   "source": [
    "#linear feet of street connected to property, I guess it could be possible to get a 0 for this, 330 is a lot, but still lets fill as 0\n",
    "#train['lot_frontage'].isna().sum()\n",
    "train[['lot_frontage']].fillna(0, inplace=True)"
   ]
  },
  {
   "cell_type": "code",
   "execution_count": 28,
   "id": "00cf9714-708d-4eb9-bc38-9af3bf5234af",
   "metadata": {},
   "outputs": [
    {
     "data": {
      "text/plain": [
       "Shed    56\n",
       "Gar2     4\n",
       "Othr     3\n",
       "Elev     1\n",
       "TenC     1\n",
       "Name: misc_feature, dtype: int64"
      ]
     },
     "execution_count": 28,
     "metadata": {},
     "output_type": "execute_result"
    }
   ],
   "source": [
    "#very low non-null counts, but likely has a high impact on price... what to do???? Lets keep and check in later models\n",
    "train['misc_feature'].value_counts()"
   ]
  },
  {
   "cell_type": "code",
   "execution_count": 24,
   "id": "1469b09a-7f99-4487-8ac1-227834ce0a73",
   "metadata": {},
   "outputs": [
    {
     "data": {
      "text/plain": [
       "Index(['pool_area', 'pool_qc', 'fence', 'misc_feature', 'misc_val', 'mo_sold',\n",
       "       'yr_sold', 'sale_type', 'saleprice'],\n",
       "      dtype='object')"
      ]
     },
     "execution_count": 24,
     "metadata": {},
     "output_type": "execute_result"
    }
   ],
   "source": [
    "train.columns[70:81]"
   ]
  },
  {
   "cell_type": "code",
   "execution_count": 29,
   "id": "c2cb377f-6100-408a-99f4-7909b28096ac",
   "metadata": {
    "tags": []
   },
   "outputs": [],
   "source": [
    "#ordinal features pulled from the data dict used the train.columns[:] function above to double check had all variables in linked google doc\n",
    "ord_feat = ['lot_shape', 'utilities', 'land_slope', 'overall_qual', 'overall_cond', 'exter_cond', 'exter_qual', 'bsmtfin_type_1', 'bsmtfin_type_2', 'bsmt_cond', \n",
    "            'bsmt_qual', 'bsmt_exposure', 'electrical', 'heating_qc', 'functional', 'kitchen_qual', 'fireplace_qu', 'garage_finish', 'garage_qual',\n",
    "           'garage_cond', 'paved_drive', 'fence']"
   ]
  },
  {
   "cell_type": "code",
   "execution_count": 30,
   "id": "c5e162ed-6507-4442-b18f-ae7e3ec4161f",
   "metadata": {},
   "outputs": [
    {
     "data": {
      "text/plain": [
       "lot_shape            0\n",
       "utilities            0\n",
       "land_slope           0\n",
       "overall_qual         0\n",
       "overall_cond         0\n",
       "exter_cond           0\n",
       "exter_qual           0\n",
       "bsmtfin_type_1      55\n",
       "bsmtfin_type_2      56\n",
       "bsmt_cond           55\n",
       "bsmt_qual           55\n",
       "bsmt_exposure       58\n",
       "electrical           0\n",
       "heating_qc           0\n",
       "functional           0\n",
       "kitchen_qual         0\n",
       "fireplace_qu      1000\n",
       "garage_finish      114\n",
       "garage_qual        114\n",
       "garage_cond        114\n",
       "paved_drive          0\n",
       "fence                0\n",
       "dtype: int64"
      ]
     },
     "execution_count": 30,
     "metadata": {},
     "output_type": "execute_result"
    }
   ],
   "source": [
    "train[ord_feat].isna().sum()"
   ]
  },
  {
   "cell_type": "code",
   "execution_count": 31,
   "id": "e4c02a56-3410-4d99-a4b8-8a167802816b",
   "metadata": {},
   "outputs": [
    {
     "data": {
      "text/plain": [
       "0    1000\n",
       "1     898\n",
       "2     146\n",
       "3       6\n",
       "4       1\n",
       "Name: fireplaces, dtype: int64"
      ]
     },
     "execution_count": 31,
     "metadata": {},
     "output_type": "execute_result"
    }
   ],
   "source": [
    "train['fireplaces'].value_counts()"
   ]
  },
  {
   "cell_type": "code",
   "execution_count": 32,
   "id": "9ba4f958-57d4-419f-aadb-c267f4a2c8ba",
   "metadata": {},
   "outputs": [
    {
     "data": {
      "text/plain": [
       "0        0\n",
       "1       TA\n",
       "2        0\n",
       "3        0\n",
       "4        0\n",
       "        ..\n",
       "2046    Gd\n",
       "2047     0\n",
       "2048    TA\n",
       "2049    Gd\n",
       "2050    TA\n",
       "Name: fireplace_qu, Length: 2051, dtype: object"
      ]
     },
     "execution_count": 32,
     "metadata": {},
     "output_type": "execute_result"
    }
   ],
   "source": [
    "#mapping NaN in Fireplace_qu to be 0 since NA means no fireplace\n",
    "train['fireplace_qu'].fillna(0)"
   ]
  },
  {
   "cell_type": "code",
   "execution_count": 33,
   "id": "677c7643-aab6-4c3e-be08-4ce33a2d67b1",
   "metadata": {},
   "outputs": [],
   "source": [
    "#function to fill NaN values\n",
    "def NaN_to_zero(df, col):\n",
    "    if df[col].isna().sum() >= 1:\n",
    "        df[col].fillna(0, inplace = True)\n",
    "    else:\n",
    "        print('f{col} has no nulls')\n",
    "    return df[col].value_counts()"
   ]
  },
  {
   "cell_type": "code",
   "execution_count": 34,
   "id": "c6ab6b30-6256-407a-b7ae-1f796855a45f",
   "metadata": {},
   "outputs": [
    {
     "data": {
      "text/plain": [
       "0     1000\n",
       "Gd     523\n",
       "TA     407\n",
       "Fa      59\n",
       "Po      31\n",
       "Ex      31\n",
       "Name: fireplace_qu, dtype: int64"
      ]
     },
     "execution_count": 34,
     "metadata": {},
     "output_type": "execute_result"
    }
   ],
   "source": [
    "NaN_to_zero(train, 'fireplace_qu')"
   ]
  },
  {
   "cell_type": "code",
   "execution_count": 35,
   "id": "b0a3ea5e-025b-4a6e-a3b0-1c9847c3b644",
   "metadata": {},
   "outputs": [
    {
     "data": {
      "text/plain": [
       "2042"
      ]
     },
     "execution_count": 35,
     "metadata": {},
     "output_type": "execute_result"
    }
   ],
   "source": [
    "train['pool_qc'].isna().sum()"
   ]
  },
  {
   "cell_type": "code",
   "execution_count": 36,
   "id": "15e2636c-46d2-47e5-b9b6-a041d1edf9a6",
   "metadata": {},
   "outputs": [],
   "source": [
    "null_is_0_list = ['alley', 'bsmt_cond', 'bsmt_qual', 'bsmt_exposure', 'bsmtfin_type_1', 'bsmtfin_type_2', 'fireplace_qu', \n",
    "                  'garage_type', 'garage_finish', 'garage_cond', 'garage_qual', 'pool_qc', 'fence']"
   ]
  },
  {
   "cell_type": "code",
   "execution_count": 38,
   "id": "3ecdff39-15e3-4de9-8354-d1ea613eadd6",
   "metadata": {},
   "outputs": [
    {
     "name": "stdout",
     "output_type": "stream",
     "text": [
      "f{col} has no nulls\n",
      "f{col} has no nulls\n",
      "f{col} has no nulls\n",
      "f{col} has no nulls\n",
      "f{col} has no nulls\n",
      "f{col} has no nulls\n",
      "f{col} has no nulls\n",
      "f{col} has no nulls\n",
      "f{col} has no nulls\n",
      "f{col} has no nulls\n",
      "f{col} has no nulls\n",
      "f{col} has no nulls\n",
      "f{col} has no nulls\n"
     ]
    },
    {
     "data": {
      "text/plain": [
       "[no      1911\n",
       " Grvl      85\n",
       " Pave      55\n",
       " Name: alley, dtype: int64,\n",
       " TA    1834\n",
       " Gd      89\n",
       " Fa      65\n",
       " 0       55\n",
       " Po       5\n",
       " Ex       3\n",
       " Name: bsmt_cond, dtype: int64,\n",
       " TA    887\n",
       " Gd    864\n",
       " Ex    184\n",
       " Fa     60\n",
       " 0      55\n",
       " Po      1\n",
       " Name: bsmt_qual, dtype: int64,\n",
       " No    1339\n",
       " Av     288\n",
       " Gd     203\n",
       " Mn     163\n",
       " 0       58\n",
       " Name: bsmt_exposure, dtype: int64,\n",
       " GLQ    615\n",
       " Unf    603\n",
       " ALQ    293\n",
       " BLQ    200\n",
       " Rec    183\n",
       " LwQ    102\n",
       " 0       55\n",
       " Name: bsmtfin_type_1, dtype: int64,\n",
       " Unf    1749\n",
       " Rec      80\n",
       " LwQ      60\n",
       " 0        56\n",
       " BLQ      48\n",
       " ALQ      35\n",
       " GLQ      23\n",
       " Name: bsmtfin_type_2, dtype: int64,\n",
       " 0     1000\n",
       " Gd     523\n",
       " TA     407\n",
       " Fa      59\n",
       " Po      31\n",
       " Ex      31\n",
       " Name: fireplace_qu, dtype: int64,\n",
       " Attchd     1213\n",
       " Detchd      536\n",
       " BuiltIn     132\n",
       " 0           113\n",
       " Basment      27\n",
       " 2Types       19\n",
       " CarPort      11\n",
       " Name: garage_type, dtype: int64,\n",
       " Unf    849\n",
       " RFn    579\n",
       " Fin    509\n",
       " 0      114\n",
       " Name: garage_finish, dtype: int64,\n",
       " TA    1868\n",
       " 0      114\n",
       " Fa      47\n",
       " Gd      12\n",
       " Po       8\n",
       " Ex       2\n",
       " Name: garage_cond, dtype: int64,\n",
       " TA    1832\n",
       " 0      114\n",
       " Fa      82\n",
       " Gd      18\n",
       " Ex       3\n",
       " Po       2\n",
       " Name: garage_qual, dtype: int64,\n",
       " 0     2042\n",
       " Gd       4\n",
       " Fa       2\n",
       " TA       2\n",
       " Ex       1\n",
       " Name: pool_qc, dtype: int64,\n",
       " no       1651\n",
       " MnPrv     227\n",
       " GdPrv      83\n",
       " GdWo       80\n",
       " MnWw       10\n",
       " Name: fence, dtype: int64]"
      ]
     },
     "execution_count": 38,
     "metadata": {},
     "output_type": "execute_result"
    }
   ],
   "source": [
    "#function used on columns found to have nulls that should be 0s\n",
    "[NaN_to_zero(train, col) for col in null_is_0_list]"
   ]
  },
  {
   "cell_type": "code",
   "execution_count": 40,
   "id": "34ce4199-cbcf-4904-97c9-62e2023a4909",
   "metadata": {},
   "outputs": [
    {
     "data": {
      "text/plain": [
       "['lot_frontage',\n",
       " 'bsmt_full_bath',\n",
       " 'bsmt_half_bath',\n",
       " 'garage_yr_blt',\n",
       " 'misc_feature']"
      ]
     },
     "execution_count": 40,
     "metadata": {},
     "output_type": "execute_result"
    }
   ],
   "source": [
    "#double checking that all Nulls were addressed\n",
    "[col for col in train.columns if train[col].isna().sum() > 1]"
   ]
  },
  {
   "cell_type": "code",
   "execution_count": 41,
   "id": "c45c6ba5-0d94-456b-8658-3a803d73c935",
   "metadata": {},
   "outputs": [
    {
     "data": {
      "text/plain": [
       "330"
      ]
     },
     "execution_count": 41,
     "metadata": {},
     "output_type": "execute_result"
    }
   ],
   "source": [
    "train['lot_frontage'].isna().sum()"
   ]
  },
  {
   "cell_type": "code",
   "execution_count": 47,
   "id": "ebbbf72d-af36-4a55-a0ec-e5edf1d1d4be",
   "metadata": {},
   "outputs": [
    {
     "data": {
      "text/plain": [
       "2"
      ]
     },
     "execution_count": 47,
     "metadata": {},
     "output_type": "execute_result"
    }
   ],
   "source": [
    "#drop 2 from bsmnt bath columns as they are from the same rows\n",
    "train['bsmt_full_bath'].isna().sum()"
   ]
  },
  {
   "cell_type": "code",
   "execution_count": 48,
   "id": "8efe1c02-e8b0-45e6-b6db-a98ba541d3c4",
   "metadata": {},
   "outputs": [
    {
     "data": {
      "text/plain": [
       "2"
      ]
     },
     "execution_count": 48,
     "metadata": {},
     "output_type": "execute_result"
    }
   ],
   "source": [
    "train['bsmt_half_bath'].isna().sum()"
   ]
  },
  {
   "cell_type": "code",
   "execution_count": 49,
   "id": "14a1ca60-a22b-4453-8852-df92fcf2e46c",
   "metadata": {},
   "outputs": [
    {
     "data": {
      "text/plain": [
       "0.0    1923\n",
       "1.0     122\n",
       "2.0       4\n",
       "Name: bsmt_half_bath, dtype: int64"
      ]
     },
     "execution_count": 49,
     "metadata": {},
     "output_type": "execute_result"
    }
   ],
   "source": [
    "train['bsmt_half_bath'].value_counts()"
   ]
  },
  {
   "cell_type": "code",
   "execution_count": 50,
   "id": "45a1053e-8c85-4014-b4f9-c53bcb4ed335",
   "metadata": {},
   "outputs": [
    {
     "data": {
      "text/plain": [
       "616    NaN\n",
       "1327   NaN\n",
       "Name: bsmt_full_bath, dtype: float64"
      ]
     },
     "execution_count": 50,
     "metadata": {},
     "output_type": "execute_result"
    }
   ],
   "source": [
    "train[(train['bsmt_full_bath'] != 0 ) & (train['bsmt_full_bath'] != 1 ) & (train['bsmt_full_bath'] != 2) & (train['bsmt_full_bath'] != 3)]['bsmt_full_bath']"
   ]
  },
  {
   "cell_type": "code",
   "execution_count": 51,
   "id": "afc22c76-8e6d-42e4-9d73-7a32b9c0dc35",
   "metadata": {},
   "outputs": [
    {
     "data": {
      "text/plain": [
       "616    NaN\n",
       "1327   NaN\n",
       "Name: bsmt_full_bath, dtype: float64"
      ]
     },
     "execution_count": 51,
     "metadata": {},
     "output_type": "execute_result"
    }
   ],
   "source": [
    "train[(train['bsmt_half_bath'] != 0 ) & (train['bsmt_half_bath'] != 1 ) & (train['bsmt_half_bath'] != 2) & (train['bsmt_full_bath'] != 3)]['bsmt_full_bath']"
   ]
  },
  {
   "cell_type": "code",
   "execution_count": 52,
   "id": "7380c8a2-f9a0-4f11-9b6b-152f50d6b759",
   "metadata": {
    "tags": []
   },
   "outputs": [
    {
     "data": {
      "text/plain": [
       "(2051, 80)"
      ]
     },
     "execution_count": 52,
     "metadata": {},
     "output_type": "execute_result"
    }
   ],
   "source": [
    "train.shape"
   ]
  },
  {
   "cell_type": "code",
   "execution_count": 53,
   "id": "d1124167-0d81-4530-ad77-1ad224196de4",
   "metadata": {},
   "outputs": [],
   "source": [
    "train['bsmt_full_bath'].fillna(value= 0, inplace=True)"
   ]
  },
  {
   "cell_type": "code",
   "execution_count": 54,
   "id": "9867b103-b055-4ca9-acae-ebed7f1466d4",
   "metadata": {},
   "outputs": [],
   "source": [
    "train['bsmt_half_bath'].fillna(value= 0, inplace=True)"
   ]
  },
  {
   "cell_type": "code",
   "execution_count": 56,
   "id": "65c51ec1-7cae-4d43-a57d-9f5dd25baf36",
   "metadata": {},
   "outputs": [
    {
     "data": {
      "text/plain": [
       "['lot_frontage', 'garage_yr_blt', 'misc_feature']"
      ]
     },
     "execution_count": 56,
     "metadata": {},
     "output_type": "execute_result"
    }
   ],
   "source": [
    "#checking nulls again\n",
    "[col for col in train.columns if train[col].isna().sum() > 1]"
   ]
  },
  {
   "cell_type": "code",
   "execution_count": 57,
   "id": "2c314502-d7bf-4241-88c3-70329d394a72",
   "metadata": {},
   "outputs": [
    {
     "data": {
      "text/plain": [
       "0.0      330\n",
       "60.0     179\n",
       "70.0      96\n",
       "80.0      94\n",
       "50.0      90\n",
       "        ... \n",
       "115.0      1\n",
       "22.0       1\n",
       "116.0      1\n",
       "138.0      1\n",
       "137.0      1\n",
       "Name: lot_frontage, Length: 119, dtype: int64"
      ]
     },
     "execution_count": 57,
     "metadata": {},
     "output_type": "execute_result"
    }
   ],
   "source": [
    "NaN_to_zero(train, 'lot_frontage')"
   ]
  },
  {
   "cell_type": "code",
   "execution_count": 58,
   "id": "7d71fc62-e66a-4d7d-9ab3-16465b21ac19",
   "metadata": {},
   "outputs": [
    {
     "data": {
      "text/plain": [
       "['garage_yr_blt', 'misc_feature']"
      ]
     },
     "execution_count": 58,
     "metadata": {},
     "output_type": "execute_result"
    }
   ],
   "source": [
    "[col for col in train.columns if train[col].isna().sum() > 1]"
   ]
  },
  {
   "cell_type": "code",
   "execution_count": 59,
   "id": "2bce69b7-933a-448f-a7a6-71fda71f2bdf",
   "metadata": {},
   "outputs": [
    {
     "data": {
      "text/plain": [
       "114"
      ]
     },
     "execution_count": 59,
     "metadata": {},
     "output_type": "execute_result"
    }
   ],
   "source": [
    "train['garage_yr_blt'].isna().sum()"
   ]
  },
  {
   "cell_type": "code",
   "execution_count": 60,
   "id": "4bd962d2-257b-4116-8bdb-e06cd411738c",
   "metadata": {},
   "outputs": [
    {
     "data": {
      "text/plain": [
       "0.0       113\n",
       "440.0      70\n",
       "576.0      69\n",
       "484.0      52\n",
       "528.0      46\n",
       "         ... \n",
       "808.0       1\n",
       "752.0       1\n",
       "858.0       1\n",
       "422.0       1\n",
       "1174.0      1\n",
       "Name: garage_area, Length: 514, dtype: int64"
      ]
     },
     "execution_count": 60,
     "metadata": {},
     "output_type": "execute_result"
    }
   ],
   "source": [
    "train['garage_area'].value_counts()"
   ]
  },
  {
   "cell_type": "code",
   "execution_count": 61,
   "id": "7b37ae39-5876-4536-8d68-67e753522f49",
   "metadata": {},
   "outputs": [],
   "source": [
    "#113 as 0 for garage area and 114 that are 0 for garage year built, so 1 that's actually a missing value"
   ]
  },
  {
   "cell_type": "code",
   "execution_count": 62,
   "id": "1f7974cc-85fc-4d03-8e27-0435919faeb6",
   "metadata": {},
   "outputs": [
    {
     "data": {
      "text/plain": [
       "0.0       114\n",
       "2005.0    105\n",
       "2007.0     84\n",
       "2006.0     80\n",
       "2004.0     72\n",
       "         ... \n",
       "2207.0      1\n",
       "1895.0      1\n",
       "1918.0      1\n",
       "1933.0      1\n",
       "1919.0      1\n",
       "Name: garage_yr_blt, Length: 101, dtype: int64"
      ]
     },
     "execution_count": 62,
     "metadata": {},
     "output_type": "execute_result"
    }
   ],
   "source": [
    "NaN_to_zero(train, 'garage_yr_blt')"
   ]
  },
  {
   "cell_type": "code",
   "execution_count": 63,
   "id": "f474c031-6387-4a35-970e-cb736a8bec4f",
   "metadata": {},
   "outputs": [
    {
     "data": {
      "text/plain": [
       "Shed    56\n",
       "Gar2     4\n",
       "Othr     3\n",
       "Elev     1\n",
       "TenC     1\n",
       "Name: misc_feature, dtype: int64"
      ]
     },
     "execution_count": 63,
     "metadata": {},
     "output_type": "execute_result"
    }
   ],
   "source": [
    "train['misc_feature'].value_counts()"
   ]
  },
  {
   "cell_type": "code",
   "execution_count": 64,
   "id": "995145e3-3640-4330-a602-490d9e477d04",
   "metadata": {},
   "outputs": [
    {
     "data": {
      "text/plain": [
       "1986"
      ]
     },
     "execution_count": 64,
     "metadata": {},
     "output_type": "execute_result"
    }
   ],
   "source": [
    "train['misc_feature'].isna().sum()"
   ]
  },
  {
   "cell_type": "code",
   "execution_count": 65,
   "id": "06f8072e-8790-4670-98e1-bd55bb424feb",
   "metadata": {},
   "outputs": [
    {
     "data": {
      "text/plain": [
       "0       1986\n",
       "Shed      56\n",
       "Gar2       4\n",
       "Othr       3\n",
       "Elev       1\n",
       "TenC       1\n",
       "Name: misc_feature, dtype: int64"
      ]
     },
     "execution_count": 65,
     "metadata": {},
     "output_type": "execute_result"
    }
   ],
   "source": [
    "NaN_to_zero(train, 'misc_feature')"
   ]
  },
  {
   "cell_type": "code",
   "execution_count": 66,
   "id": "004921cd-b9f6-4248-b5b5-eec5eccc85be",
   "metadata": {},
   "outputs": [
    {
     "data": {
      "text/plain": [
       "[]"
      ]
     },
     "execution_count": 66,
     "metadata": {},
     "output_type": "execute_result"
    }
   ],
   "source": [
    "[col for col in train.columns if train[col].isna().sum() > 1]"
   ]
  },
  {
   "cell_type": "code",
   "execution_count": 55,
   "id": "ceb01ed6-0f54-4c00-b208-13efae0f7a4f",
   "metadata": {},
   "outputs": [],
   "source": [
    "#finally got all of the NaNs out of the dataset."
   ]
  },
  {
   "cell_type": "markdown",
   "id": "b412d450-a0d2-4a89-927d-d5c969d0f174",
   "metadata": {},
   "source": [
    "#### Dropping Specific Outliers as suggested in Data Dictionary Special Note"
   ]
  },
  {
   "cell_type": "markdown",
   "id": "0cd832ca-d56f-4060-b4f5-194657758881",
   "metadata": {},
   "source": [
    "There was a note at the end of the Data Dict indicating that there were 5 outliers that the originator of the dataset suggested be dropped. The following code and plots aatempts to ilsolate these outliers and then drop them. Specifically the instructions are to \"I would remove any houses with more than 4000 square feet from the data set...\" The author suggests using the Ground Living Area variable to find these outliers."
   ]
  },
  {
   "cell_type": "code",
   "execution_count": 68,
   "id": "b41d2928-459e-44eb-ba9c-68f5e41cc6a7",
   "metadata": {},
   "outputs": [
    {
     "data": {
      "image/png": "[encoded data removed]",
      "text/plain": [
       "<Figure size 432x288 with 1 Axes>"
      ]
     },
     "metadata": {
      "needs_background": "light"
     },
     "output_type": "display_data"
    }
   ],
   "source": [
    "plt.scatter(x= 'gr_liv_area', y= 'saleprice', data=train)\n",
    "plt.title('Ground Living Area vs. SalePrice of Home')\n",
    "\n",
    "plt.xlabel('Ground Living Area')\n",
    "\n",
    "plt.ylabel('Sale Price of Home');"
   ]
  },
  {
   "cell_type": "code",
   "execution_count": 69,
   "id": "9c20c217-1e31-4b7c-ba60-632751e8c6d5",
   "metadata": {},
   "outputs": [
    {
     "data": {
      "text/html": [
       "<div>\n",
       "<style scoped>\n",
       "    .dataframe tbody tr th:only-of-type {\n",
       "        vertical-align: middle;\n",
       "    }\n",
       "\n",
       "    .dataframe tbody tr th {\n",
       "        vertical-align: top;\n",
       "    }\n",
       "\n",
       "    .dataframe thead th {\n",
       "        text-align: right;\n",
       "    }\n",
       "</style>\n",
       "<table border=\"1\" class=\"dataframe\">\n",
       "  <thead>\n",
       "    <tr style=\"text-align: right;\">\n",
       "      <th></th>\n",
       "      <th>1st_flr_sf</th>\n",
       "      <th>2nd_flr_sf</th>\n",
       "      <th>total_bsmt_sf</th>\n",
       "      <th>gr_liv_area</th>\n",
       "    </tr>\n",
       "  </thead>\n",
       "  <tbody>\n",
       "    <tr>\n",
       "      <th>960</th>\n",
       "      <td>4692</td>\n",
       "      <td>950</td>\n",
       "      <td>6110.0</td>\n",
       "      <td>5642</td>\n",
       "    </tr>\n",
       "    <tr>\n",
       "      <th>1885</th>\n",
       "      <td>5095</td>\n",
       "      <td>0</td>\n",
       "      <td>5095.0</td>\n",
       "      <td>5095</td>\n",
       "    </tr>\n",
       "    <tr>\n",
       "      <th>616</th>\n",
       "      <td>3820</td>\n",
       "      <td>0</td>\n",
       "      <td>0.0</td>\n",
       "      <td>3820</td>\n",
       "    </tr>\n",
       "    <tr>\n",
       "      <th>1897</th>\n",
       "      <td>1836</td>\n",
       "      <td>1836</td>\n",
       "      <td>1836.0</td>\n",
       "      <td>3672</td>\n",
       "    </tr>\n",
       "    <tr>\n",
       "      <th>1035</th>\n",
       "      <td>1518</td>\n",
       "      <td>1518</td>\n",
       "      <td>1107.0</td>\n",
       "      <td>3608</td>\n",
       "    </tr>\n",
       "  </tbody>\n",
       "</table>\n",
       "</div>"
      ],
      "text/plain": [
       "      1st_flr_sf  2nd_flr_sf  total_bsmt_sf  gr_liv_area\n",
       "960         4692         950         6110.0         5642\n",
       "1885        5095           0         5095.0         5095\n",
       "616         3820           0            0.0         3820\n",
       "1897        1836        1836         1836.0         3672\n",
       "1035        1518        1518         1107.0         3608"
      ]
     },
     "execution_count": 69,
     "metadata": {},
     "output_type": "execute_result"
    }
   ],
   "source": [
    "train[['1st_flr_sf', '2nd_flr_sf', 'total_bsmt_sf', 'gr_liv_area']].sort_values('gr_liv_area', ascending=False).head()"
   ]
  },
  {
   "cell_type": "code",
   "execution_count": 70,
   "id": "b60c5087-bba5-45ec-8876-22edc2da29eb",
   "metadata": {},
   "outputs": [],
   "source": [
    "#I found 2 and am dropping 960 & 1885 based on the special note at the end of the dat dictionary\n",
    "train.drop([960, 1885], inplace=True)"
   ]
  },
  {
   "cell_type": "code",
   "execution_count": 71,
   "id": "235a396b-3286-47ee-92ec-279dea46c947",
   "metadata": {},
   "outputs": [
    {
     "data": {
      "text/html": [
       "<div>\n",
       "<style scoped>\n",
       "    .dataframe tbody tr th:only-of-type {\n",
       "        vertical-align: middle;\n",
       "    }\n",
       "\n",
       "    .dataframe tbody tr th {\n",
       "        vertical-align: top;\n",
       "    }\n",
       "\n",
       "    .dataframe thead th {\n",
       "        text-align: right;\n",
       "    }\n",
       "</style>\n",
       "<table border=\"1\" class=\"dataframe\">\n",
       "  <thead>\n",
       "    <tr style=\"text-align: right;\">\n",
       "      <th></th>\n",
       "      <th>1st_flr_sf</th>\n",
       "      <th>2nd_flr_sf</th>\n",
       "      <th>total_bsmt_sf</th>\n",
       "      <th>gr_liv_area</th>\n",
       "    </tr>\n",
       "  </thead>\n",
       "  <tbody>\n",
       "    <tr>\n",
       "      <th>616</th>\n",
       "      <td>3820</td>\n",
       "      <td>0</td>\n",
       "      <td>0.0</td>\n",
       "      <td>3820</td>\n",
       "    </tr>\n",
       "    <tr>\n",
       "      <th>1897</th>\n",
       "      <td>1836</td>\n",
       "      <td>1836</td>\n",
       "      <td>1836.0</td>\n",
       "      <td>3672</td>\n",
       "    </tr>\n",
       "    <tr>\n",
       "      <th>1035</th>\n",
       "      <td>1518</td>\n",
       "      <td>1518</td>\n",
       "      <td>1107.0</td>\n",
       "      <td>3608</td>\n",
       "    </tr>\n",
       "    <tr>\n",
       "      <th>1692</th>\n",
       "      <td>1933</td>\n",
       "      <td>1567</td>\n",
       "      <td>1733.0</td>\n",
       "      <td>3500</td>\n",
       "    </tr>\n",
       "    <tr>\n",
       "      <th>1939</th>\n",
       "      <td>1675</td>\n",
       "      <td>1818</td>\n",
       "      <td>1470.0</td>\n",
       "      <td>3493</td>\n",
       "    </tr>\n",
       "  </tbody>\n",
       "</table>\n",
       "</div>"
      ],
      "text/plain": [
       "      1st_flr_sf  2nd_flr_sf  total_bsmt_sf  gr_liv_area\n",
       "616         3820           0            0.0         3820\n",
       "1897        1836        1836         1836.0         3672\n",
       "1035        1518        1518         1107.0         3608\n",
       "1692        1933        1567         1733.0         3500\n",
       "1939        1675        1818         1470.0         3493"
      ]
     },
     "execution_count": 71,
     "metadata": {},
     "output_type": "execute_result"
    }
   ],
   "source": [
    "train[['1st_flr_sf', '2nd_flr_sf', 'total_bsmt_sf', 'gr_liv_area']].sort_values('gr_liv_area', ascending=False).head()"
   ]
  },
  {
   "cell_type": "code",
   "execution_count": 72,
   "id": "1794a70d-0cb1-411e-bab7-d7e0da052567",
   "metadata": {},
   "outputs": [
    {
     "data": {
      "text/plain": [
       "(2049, 80)"
      ]
     },
     "execution_count": 72,
     "metadata": {},
     "output_type": "execute_result"
    }
   ],
   "source": [
    "train.shape"
   ]
  },
  {
   "cell_type": "code",
   "execution_count": 61,
   "id": "979aa35a-67f8-4569-baed-f8d7b0e7207f",
   "metadata": {},
   "outputs": [],
   "source": [
    "# Saving the cleaned up file to CSV for use in other notebooks\n",
    "train.to_csv('./datasets/train_data_cleaned_v1')"
   ]
  },
  {
   "cell_type": "code",
   "execution_count": null,
   "id": "9acc1fe6-547d-41ac-bc25-9d097327ffcf",
   "metadata": {},
   "outputs": [],
   "source": []
  }
 ],
 "metadata": {
  "kernelspec": {
   "display_name": "Python 3",
   "language": "python",
   "name": "python3"
  },
  "language_info": {
   "codemirror_mode": {
    "name": "ipython",
    "version": 3
   },
   "file_extension": ".py",
   "mimetype": "text/x-python",
   "name": "python",
   "nbconvert_exporter": "python",
   "pygments_lexer": "ipython3",
   "version": "3.8.8"
  }
 },
 "nbformat": 4,
 "nbformat_minor": 5
}
