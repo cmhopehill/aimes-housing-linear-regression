{
 "cells": [
  {
   "cell_type": "markdown",
   "id": "2d05a686-c3f9-451f-bbb0-45a98db1b19a",
   "metadata": {},
   "source": [
    "## Common Features Model"
   ]
  },
  {
   "cell_type": "markdown",
   "id": "6b5b7d31-92de-437a-8421-3c9c5599e263",
   "metadata": {},
   "source": [
    "The model in this notebook will be built based off of features options that home-buyers have when searching for houses using two major real estate sites:\n",
    "* Zillow\n",
    "* MLS Real Estate"
   ]
  },
  {
   "cell_type": "markdown",
   "id": "540c9061-d0e9-4f2e-9d7a-4b3187dceb5f",
   "metadata": {},
   "source": [
    "### Zillow Search Features"
   ]
  },
  {
   "cell_type": "markdown",
   "id": "dd1f09be-0c8e-482c-a51a-755b58845716",
   "metadata": {},
   "source": [
    "Zillow offers the following options when searching for homes for sale through their site:\n",
    "1. Price range (e.g. 250,000 - 500,000)\n",
    "1. Number of Bedrooms\n",
    "1. Number of Bathrooms\n",
    "1. Home Type:\n",
    "    * Houses, Townhouses, Multi-Family, Condos, lots/land, etc.\n",
    "1. HOA Max Fee (0, 50/month, 100/month, etc.)\n",
    "1. Garage?\n",
    "1. Square Feet\n",
    "1. Lot Size\n",
    "1. Year Built Range \n",
    "1. Basement?\n",
    "1. Number of stories\n",
    "1. Amenities\n",
    "    * A/C, Pool, Waterfront\n",
    "1. View (city, mountain, water, park)\n",
    "1. Days on Zillow\n",
    "1. Keyword Search Function\n",
    "\n",
    "Source: ('https://www.zillow.com/loveland-co/')"
   ]
  },
  {
   "cell_type": "markdown",
   "id": "b9014b3c-b12a-4a82-8f99-aae2fc766397",
   "metadata": {},
   "source": [
    "### MLS Search Features"
   ]
  },
  {
   "cell_type": "markdown",
   "id": "c7523ff8-7960-44d1-832c-a69b302b2402",
   "metadata": {},
   "source": [
    "MLS Real Estate offers the following options when searching for homes for sale through their site:\n",
    "1. Area/Location (search function via zip code, street address, or city)\n",
    "1. Price range (e.g. 250,000 - 500,000)\n",
    "1. Number of Bedrooms\n",
    "1. Number of Bathrooms\n",
    "1. Square Feet\n",
    "1. Lot Size\n",
    "1. Property Type:\n",
    "    * Houses, Townhouses/Condos/Co-Op, Multi-Family, lots/land, rentals\n",
    "1. Listing Type:\n",
    "    * Resale/Ne, Foreclosure, Short Sale, Lease/Rental\n",
    "\n",
    "Source ('https://www.buyorsellnocohomes.com/advancedsearch/areas/42388/')"
   ]
  },
  {
   "cell_type": "markdown",
   "id": "3b5ce1e2-5e23-4c5e-94de-97e812bf8a55",
   "metadata": {},
   "source": [
    "### Features Common to Zillow and MLS"
   ]
  },
  {
   "cell_type": "markdown",
   "id": "fd05c043-b204-4df6-8a43-06ba7d197cd9",
   "metadata": {},
   "source": [
    "Zillow appears to have nearly twice the number of features for home-buyers to use to search through vs. MLS Real Estate. This is a bit surprising to me as I have personally had many realtors advise me to use MLS over Zillow. This difference could also be due to using the public MLS search options vs. a search option that a specific realtor has setup for a client.\n",
    "\n",
    "Still to get an accurate model that represents the common features that an average home-buyer or realtor might use I will only be using the features that are in both MLS and Zillow:\n",
    "1. Number of Bedrooms\n",
    "1. Number of Bathrooms\n",
    "1. Square Feet\n",
    "1. Lot Size\n",
    "1. Property Type:\n",
    "    * Houses, Townhouses/Condos/Co-Op, Multi-Family, lots/land, rentals"
   ]
  },
  {
   "cell_type": "markdown",
   "id": "ca801591-e41c-479f-b7ed-a31e7705aa73",
   "metadata": {},
   "source": [
    "### Cleaning and EDA"
   ]
  },
  {
   "cell_type": "code",
   "execution_count": 1,
   "id": "a0525de6-2a1e-4ecf-9f1f-17875a9adecc",
   "metadata": {},
   "outputs": [],
   "source": [
    "import numpy as np \n",
    "import pandas as pd\n",
    "pd.options.mode.chained_assignment = None  # default='warn'\n",
    "import matplotlib.pyplot as plt \n",
    "import seaborn as sns"
   ]
  },
  {
   "cell_type": "code",
   "execution_count": 2,
   "id": "76761878-b2b7-41df-80b8-e7bba49b105f",
   "metadata": {},
   "outputs": [],
   "source": [
    "from sklearn.linear_model import LinearRegression\n",
    "from sklearn.model_selection import train_test_split, cross_val_score\n",
    "from sklearn.metrics import r2_score, mean_squared_error\n",
    "from sklearn.preprocessing import PolynomialFeatures\n",
    "from sklearn.preprocessing import StandardScaler"
   ]
  },
  {
   "cell_type": "code",
   "execution_count": 3,
   "id": "441ed73a-3430-4b80-89fe-760ef04192d7",
   "metadata": {},
   "outputs": [],
   "source": [
    "train_clean = pd.read_csv('./datasets/train_data_cleaned_v1')"
   ]
  },
  {
   "cell_type": "code",
   "execution_count": 4,
   "id": "aab95384-b754-4be5-995c-d9fddb50d71e",
   "metadata": {},
   "outputs": [
    {
     "data": {
      "text/html": [
       "<div>\n",
       "<style scoped>\n",
       "    .dataframe tbody tr th:only-of-type {\n",
       "        vertical-align: middle;\n",
       "    }\n",
       "\n",
       "    .dataframe tbody tr th {\n",
       "        vertical-align: top;\n",
       "    }\n",
       "\n",
       "    .dataframe thead th {\n",
       "        text-align: right;\n",
       "    }\n",
       "</style>\n",
       "<table border=\"1\" class=\"dataframe\">\n",
       "  <thead>\n",
       "    <tr style=\"text-align: right;\">\n",
       "      <th></th>\n",
       "      <th>Unnamed: 0</th>\n",
       "      <th>ms_subclass</th>\n",
       "      <th>ms_zoning</th>\n",
       "      <th>lot_frontage</th>\n",
       "      <th>lot_area</th>\n",
       "      <th>street</th>\n",
       "      <th>alley</th>\n",
       "      <th>lot_shape</th>\n",
       "      <th>land_contour</th>\n",
       "      <th>utilities</th>\n",
       "      <th>...</th>\n",
       "      <th>screen_porch</th>\n",
       "      <th>pool_area</th>\n",
       "      <th>pool_qc</th>\n",
       "      <th>fence</th>\n",
       "      <th>misc_feature</th>\n",
       "      <th>misc_val</th>\n",
       "      <th>mo_sold</th>\n",
       "      <th>yr_sold</th>\n",
       "      <th>sale_type</th>\n",
       "      <th>saleprice</th>\n",
       "    </tr>\n",
       "  </thead>\n",
       "  <tbody>\n",
       "    <tr>\n",
       "      <th>0</th>\n",
       "      <td>0</td>\n",
       "      <td>60</td>\n",
       "      <td>RL</td>\n",
       "      <td>0.0</td>\n",
       "      <td>13517</td>\n",
       "      <td>Pave</td>\n",
       "      <td>no</td>\n",
       "      <td>IR1</td>\n",
       "      <td>Lvl</td>\n",
       "      <td>AllPub</td>\n",
       "      <td>...</td>\n",
       "      <td>0</td>\n",
       "      <td>0</td>\n",
       "      <td>0</td>\n",
       "      <td>no</td>\n",
       "      <td>0</td>\n",
       "      <td>0</td>\n",
       "      <td>3</td>\n",
       "      <td>2010</td>\n",
       "      <td>WD</td>\n",
       "      <td>130500</td>\n",
       "    </tr>\n",
       "    <tr>\n",
       "      <th>1</th>\n",
       "      <td>1</td>\n",
       "      <td>60</td>\n",
       "      <td>RL</td>\n",
       "      <td>43.0</td>\n",
       "      <td>11492</td>\n",
       "      <td>Pave</td>\n",
       "      <td>no</td>\n",
       "      <td>IR1</td>\n",
       "      <td>Lvl</td>\n",
       "      <td>AllPub</td>\n",
       "      <td>...</td>\n",
       "      <td>0</td>\n",
       "      <td>0</td>\n",
       "      <td>0</td>\n",
       "      <td>no</td>\n",
       "      <td>0</td>\n",
       "      <td>0</td>\n",
       "      <td>4</td>\n",
       "      <td>2009</td>\n",
       "      <td>WD</td>\n",
       "      <td>220000</td>\n",
       "    </tr>\n",
       "    <tr>\n",
       "      <th>2</th>\n",
       "      <td>2</td>\n",
       "      <td>20</td>\n",
       "      <td>RL</td>\n",
       "      <td>68.0</td>\n",
       "      <td>7922</td>\n",
       "      <td>Pave</td>\n",
       "      <td>no</td>\n",
       "      <td>Reg</td>\n",
       "      <td>Lvl</td>\n",
       "      <td>AllPub</td>\n",
       "      <td>...</td>\n",
       "      <td>0</td>\n",
       "      <td>0</td>\n",
       "      <td>0</td>\n",
       "      <td>no</td>\n",
       "      <td>0</td>\n",
       "      <td>0</td>\n",
       "      <td>1</td>\n",
       "      <td>2010</td>\n",
       "      <td>WD</td>\n",
       "      <td>109000</td>\n",
       "    </tr>\n",
       "  </tbody>\n",
       "</table>\n",
       "<p>3 rows × 80 columns</p>\n",
       "</div>"
      ],
      "text/plain": [
       "   Unnamed: 0  ms_subclass ms_zoning  lot_frontage  lot_area street alley  \\\n",
       "0           0           60        RL           0.0     13517   Pave    no   \n",
       "1           1           60        RL          43.0     11492   Pave    no   \n",
       "2           2           20        RL          68.0      7922   Pave    no   \n",
       "\n",
       "  lot_shape land_contour utilities  ... screen_porch pool_area pool_qc fence  \\\n",
       "0       IR1          Lvl    AllPub  ...            0         0       0    no   \n",
       "1       IR1          Lvl    AllPub  ...            0         0       0    no   \n",
       "2       Reg          Lvl    AllPub  ...            0         0       0    no   \n",
       "\n",
       "  misc_feature misc_val mo_sold  yr_sold  sale_type  saleprice  \n",
       "0            0        0       3     2010        WD      130500  \n",
       "1            0        0       4     2009        WD      220000  \n",
       "2            0        0       1     2010        WD      109000  \n",
       "\n",
       "[3 rows x 80 columns]"
      ]
     },
     "execution_count": 4,
     "metadata": {},
     "output_type": "execute_result"
    }
   ],
   "source": [
    "train_clean.head(3)"
   ]
  },
  {
   "cell_type": "code",
   "execution_count": 5,
   "id": "c4b8e10b-389c-4f88-894a-ed61c617ff6c",
   "metadata": {},
   "outputs": [
    {
     "data": {
      "text/plain": [
       "ms_subclass\n",
       "20             769\n",
       "60             393\n",
       "50             198\n",
       "120            132\n",
       "30             101\n",
       "70              90\n",
       "160             88\n",
       "80              86\n",
       "90              75\n",
       "190             46\n",
       "85              28\n",
       "75              16\n",
       "45              11\n",
       "180             11\n",
       "40               4\n",
       "150              1\n",
       "dtype: int64"
      ]
     },
     "execution_count": 5,
     "metadata": {},
     "output_type": "execute_result"
    }
   ],
   "source": [
    "train_clean[['ms_subclass']].value_counts()"
   ]
  },
  {
   "cell_type": "code",
   "execution_count": 6,
   "id": "b3de5148-1573-4cc7-8f50-731b65ac26a0",
   "metadata": {},
   "outputs": [],
   "source": [
    "ms_class_dummies = pd.get_dummies(data=train_clean['ms_subclass'], prefix='ms_subclass_', drop_first=True)"
   ]
  },
  {
   "cell_type": "code",
   "execution_count": 7,
   "id": "0c81de49-b647-4f07-bc2d-a6f33171af7e",
   "metadata": {},
   "outputs": [
    {
     "data": {
      "text/plain": [
       "Index(['ms_subclass__30', 'ms_subclass__40', 'ms_subclass__45',\n",
       "       'ms_subclass__50', 'ms_subclass__60', 'ms_subclass__70',\n",
       "       'ms_subclass__75', 'ms_subclass__80', 'ms_subclass__85',\n",
       "       'ms_subclass__90', 'ms_subclass__120', 'ms_subclass__150',\n",
       "       'ms_subclass__160', 'ms_subclass__180', 'ms_subclass__190'],\n",
       "      dtype='object')"
      ]
     },
     "execution_count": 7,
     "metadata": {},
     "output_type": "execute_result"
    }
   ],
   "source": [
    "ms_class_dummies.columns"
   ]
  },
  {
   "cell_type": "code",
   "execution_count": 8,
   "id": "3e0088bc-28ed-4f7a-9adf-419d6e76a0dd",
   "metadata": {},
   "outputs": [],
   "source": [
    "#Features for model: \n",
    "#Number of Bedrooms X\n",
    "#Number of Bathrooms X\n",
    "#Square Feet X\n",
    "#Lot Size X\n",
    "# Property Type, likely need to one hot encode property type\n",
    "ms_class_dummies = pd.get_dummies(data=train_clean['ms_subclass'], prefix='ms_subclass_', drop_first=True)\n",
    "\n",
    "#create total sqft variable\n",
    "train_clean['total_sf'] = train_clean['total_bsmt_sf'] + train_clean['gr_liv_area']\n",
    "#joining with overall DF\n",
    "#train_clean = train_clean.join(other= ms_class_dummies)\n",
    "#references (https://stackoverflow.com/questions/20602947/append-column-to-pandas-dataframe ; https://pandas.pydata.org/docs/user_guide/merging.html)\n",
    "\n",
    "#features\n",
    "features = ['bedroom_abvgr', 'full_bath', 'totrms_abvgrd', 'total_sf', 'lot_area', 'ms_subclass__30', 'ms_subclass__40', 'ms_subclass__45',\n",
    "            'ms_subclass__50', 'ms_subclass__60', 'ms_subclass__70', 'ms_subclass__75', 'ms_subclass__80', 'ms_subclass__85',\n",
    "            'ms_subclass__90', 'ms_subclass__120', 'ms_subclass__160', 'ms_subclass__180', 'ms_subclass__190']"
   ]
  },
  {
   "cell_type": "code",
   "execution_count": 9,
   "id": "2b08341e-44d3-4886-9463-760b94b34302",
   "metadata": {},
   "outputs": [],
   "source": [
    "train_clean.fillna(0, inplace=True)"
   ]
  },
  {
   "cell_type": "code",
   "execution_count": 10,
   "id": "a1f239c2-701e-4b80-b50e-2f9fafea1878",
   "metadata": {},
   "outputs": [
    {
     "data": {
      "text/plain": [
       "0"
      ]
     },
     "execution_count": 10,
     "metadata": {},
     "output_type": "execute_result"
    }
   ],
   "source": [
    "train_clean.isna().sum().sum()"
   ]
  },
  {
   "cell_type": "code",
   "execution_count": 11,
   "id": "ce3d93a7-3985-4184-9b9d-9580087a8cd4",
   "metadata": {},
   "outputs": [],
   "source": [
    "#had to drop ms_150 as it is not in the test set\n",
    "features = ['bedroom_abvgr', 'full_bath', 'totrms_abvgrd', 'total_sf', 'lot_area', 'ms_subclass__30', 'ms_subclass__40', 'ms_subclass__45',\n",
    "            'ms_subclass__50', 'ms_subclass__60', 'ms_subclass__70', 'ms_subclass__75', 'ms_subclass__80', 'ms_subclass__85',\n",
    "            'ms_subclass__90', 'ms_subclass__120', 'ms_subclass__160', 'ms_subclass__180', 'ms_subclass__190']"
   ]
  },
  {
   "cell_type": "code",
   "execution_count": 12,
   "id": "87158cdf-f95c-41a0-b1f7-c4597bd41004",
   "metadata": {},
   "outputs": [],
   "source": [
    "train_clean = train_clean.join(other= ms_class_dummies)"
   ]
  },
  {
   "cell_type": "code",
   "execution_count": 13,
   "id": "25212927-0e37-430d-b191-d9e60e8ee448",
   "metadata": {},
   "outputs": [
    {
     "data": {
      "text/html": [
       "<div>\n",
       "<style scoped>\n",
       "    .dataframe tbody tr th:only-of-type {\n",
       "        vertical-align: middle;\n",
       "    }\n",
       "\n",
       "    .dataframe tbody tr th {\n",
       "        vertical-align: top;\n",
       "    }\n",
       "\n",
       "    .dataframe thead th {\n",
       "        text-align: right;\n",
       "    }\n",
       "</style>\n",
       "<table border=\"1\" class=\"dataframe\">\n",
       "  <thead>\n",
       "    <tr style=\"text-align: right;\">\n",
       "      <th></th>\n",
       "      <th>bedroom_abvgr</th>\n",
       "      <th>full_bath</th>\n",
       "      <th>totrms_abvgrd</th>\n",
       "      <th>total_sf</th>\n",
       "      <th>lot_area</th>\n",
       "      <th>ms_subclass__30</th>\n",
       "      <th>ms_subclass__40</th>\n",
       "      <th>ms_subclass__45</th>\n",
       "      <th>ms_subclass__50</th>\n",
       "      <th>ms_subclass__60</th>\n",
       "      <th>ms_subclass__70</th>\n",
       "      <th>ms_subclass__75</th>\n",
       "      <th>ms_subclass__80</th>\n",
       "      <th>ms_subclass__85</th>\n",
       "      <th>ms_subclass__90</th>\n",
       "      <th>ms_subclass__120</th>\n",
       "      <th>ms_subclass__160</th>\n",
       "      <th>ms_subclass__180</th>\n",
       "      <th>ms_subclass__190</th>\n",
       "    </tr>\n",
       "  </thead>\n",
       "  <tbody>\n",
       "    <tr>\n",
       "      <th>0</th>\n",
       "      <td>3</td>\n",
       "      <td>2</td>\n",
       "      <td>6</td>\n",
       "      <td>2204.0</td>\n",
       "      <td>13517</td>\n",
       "      <td>0</td>\n",
       "      <td>0</td>\n",
       "      <td>0</td>\n",
       "      <td>0</td>\n",
       "      <td>1</td>\n",
       "      <td>0</td>\n",
       "      <td>0</td>\n",
       "      <td>0</td>\n",
       "      <td>0</td>\n",
       "      <td>0</td>\n",
       "      <td>0</td>\n",
       "      <td>0</td>\n",
       "      <td>0</td>\n",
       "      <td>0</td>\n",
       "    </tr>\n",
       "    <tr>\n",
       "      <th>1</th>\n",
       "      <td>4</td>\n",
       "      <td>2</td>\n",
       "      <td>8</td>\n",
       "      <td>3035.0</td>\n",
       "      <td>11492</td>\n",
       "      <td>0</td>\n",
       "      <td>0</td>\n",
       "      <td>0</td>\n",
       "      <td>0</td>\n",
       "      <td>1</td>\n",
       "      <td>0</td>\n",
       "      <td>0</td>\n",
       "      <td>0</td>\n",
       "      <td>0</td>\n",
       "      <td>0</td>\n",
       "      <td>0</td>\n",
       "      <td>0</td>\n",
       "      <td>0</td>\n",
       "      <td>0</td>\n",
       "    </tr>\n",
       "    <tr>\n",
       "      <th>2</th>\n",
       "      <td>3</td>\n",
       "      <td>1</td>\n",
       "      <td>5</td>\n",
       "      <td>2114.0</td>\n",
       "      <td>7922</td>\n",
       "      <td>0</td>\n",
       "      <td>0</td>\n",
       "      <td>0</td>\n",
       "      <td>0</td>\n",
       "      <td>0</td>\n",
       "      <td>0</td>\n",
       "      <td>0</td>\n",
       "      <td>0</td>\n",
       "      <td>0</td>\n",
       "      <td>0</td>\n",
       "      <td>0</td>\n",
       "      <td>0</td>\n",
       "      <td>0</td>\n",
       "      <td>0</td>\n",
       "    </tr>\n",
       "    <tr>\n",
       "      <th>3</th>\n",
       "      <td>3</td>\n",
       "      <td>2</td>\n",
       "      <td>7</td>\n",
       "      <td>1828.0</td>\n",
       "      <td>9802</td>\n",
       "      <td>0</td>\n",
       "      <td>0</td>\n",
       "      <td>0</td>\n",
       "      <td>0</td>\n",
       "      <td>1</td>\n",
       "      <td>0</td>\n",
       "      <td>0</td>\n",
       "      <td>0</td>\n",
       "      <td>0</td>\n",
       "      <td>0</td>\n",
       "      <td>0</td>\n",
       "      <td>0</td>\n",
       "      <td>0</td>\n",
       "      <td>0</td>\n",
       "    </tr>\n",
       "    <tr>\n",
       "      <th>4</th>\n",
       "      <td>3</td>\n",
       "      <td>2</td>\n",
       "      <td>6</td>\n",
       "      <td>2121.0</td>\n",
       "      <td>14235</td>\n",
       "      <td>0</td>\n",
       "      <td>0</td>\n",
       "      <td>0</td>\n",
       "      <td>1</td>\n",
       "      <td>0</td>\n",
       "      <td>0</td>\n",
       "      <td>0</td>\n",
       "      <td>0</td>\n",
       "      <td>0</td>\n",
       "      <td>0</td>\n",
       "      <td>0</td>\n",
       "      <td>0</td>\n",
       "      <td>0</td>\n",
       "      <td>0</td>\n",
       "    </tr>\n",
       "    <tr>\n",
       "      <th>...</th>\n",
       "      <td>...</td>\n",
       "      <td>...</td>\n",
       "      <td>...</td>\n",
       "      <td>...</td>\n",
       "      <td>...</td>\n",
       "      <td>...</td>\n",
       "      <td>...</td>\n",
       "      <td>...</td>\n",
       "      <td>...</td>\n",
       "      <td>...</td>\n",
       "      <td>...</td>\n",
       "      <td>...</td>\n",
       "      <td>...</td>\n",
       "      <td>...</td>\n",
       "      <td>...</td>\n",
       "      <td>...</td>\n",
       "      <td>...</td>\n",
       "      <td>...</td>\n",
       "      <td>...</td>\n",
       "    </tr>\n",
       "    <tr>\n",
       "      <th>2044</th>\n",
       "      <td>3</td>\n",
       "      <td>2</td>\n",
       "      <td>7</td>\n",
       "      <td>3612.0</td>\n",
       "      <td>11449</td>\n",
       "      <td>0</td>\n",
       "      <td>0</td>\n",
       "      <td>0</td>\n",
       "      <td>0</td>\n",
       "      <td>0</td>\n",
       "      <td>0</td>\n",
       "      <td>0</td>\n",
       "      <td>0</td>\n",
       "      <td>0</td>\n",
       "      <td>0</td>\n",
       "      <td>0</td>\n",
       "      <td>0</td>\n",
       "      <td>0</td>\n",
       "      <td>0</td>\n",
       "    </tr>\n",
       "    <tr>\n",
       "      <th>2045</th>\n",
       "      <td>1</td>\n",
       "      <td>1</td>\n",
       "      <td>4</td>\n",
       "      <td>1722.0</td>\n",
       "      <td>12342</td>\n",
       "      <td>1</td>\n",
       "      <td>0</td>\n",
       "      <td>0</td>\n",
       "      <td>0</td>\n",
       "      <td>0</td>\n",
       "      <td>0</td>\n",
       "      <td>0</td>\n",
       "      <td>0</td>\n",
       "      <td>0</td>\n",
       "      <td>0</td>\n",
       "      <td>0</td>\n",
       "      <td>0</td>\n",
       "      <td>0</td>\n",
       "      <td>0</td>\n",
       "    </tr>\n",
       "    <tr>\n",
       "      <th>2046</th>\n",
       "      <td>3</td>\n",
       "      <td>1</td>\n",
       "      <td>9</td>\n",
       "      <td>2809.0</td>\n",
       "      <td>7558</td>\n",
       "      <td>0</td>\n",
       "      <td>0</td>\n",
       "      <td>0</td>\n",
       "      <td>1</td>\n",
       "      <td>0</td>\n",
       "      <td>0</td>\n",
       "      <td>0</td>\n",
       "      <td>0</td>\n",
       "      <td>0</td>\n",
       "      <td>0</td>\n",
       "      <td>0</td>\n",
       "      <td>0</td>\n",
       "      <td>0</td>\n",
       "      <td>0</td>\n",
       "    </tr>\n",
       "    <tr>\n",
       "      <th>2047</th>\n",
       "      <td>3</td>\n",
       "      <td>1</td>\n",
       "      <td>6</td>\n",
       "      <td>2400.0</td>\n",
       "      <td>10400</td>\n",
       "      <td>0</td>\n",
       "      <td>0</td>\n",
       "      <td>0</td>\n",
       "      <td>0</td>\n",
       "      <td>0</td>\n",
       "      <td>0</td>\n",
       "      <td>0</td>\n",
       "      <td>0</td>\n",
       "      <td>0</td>\n",
       "      <td>0</td>\n",
       "      <td>0</td>\n",
       "      <td>0</td>\n",
       "      <td>0</td>\n",
       "      <td>0</td>\n",
       "    </tr>\n",
       "    <tr>\n",
       "      <th>2048</th>\n",
       "      <td>3</td>\n",
       "      <td>2</td>\n",
       "      <td>7</td>\n",
       "      <td>2798.0</td>\n",
       "      <td>7500</td>\n",
       "      <td>0</td>\n",
       "      <td>0</td>\n",
       "      <td>0</td>\n",
       "      <td>0</td>\n",
       "      <td>1</td>\n",
       "      <td>0</td>\n",
       "      <td>0</td>\n",
       "      <td>0</td>\n",
       "      <td>0</td>\n",
       "      <td>0</td>\n",
       "      <td>0</td>\n",
       "      <td>0</td>\n",
       "      <td>0</td>\n",
       "      <td>0</td>\n",
       "    </tr>\n",
       "  </tbody>\n",
       "</table>\n",
       "<p>2049 rows × 19 columns</p>\n",
       "</div>"
      ],
      "text/plain": [
       "      bedroom_abvgr  full_bath  totrms_abvgrd  total_sf  lot_area  \\\n",
       "0                 3          2              6    2204.0     13517   \n",
       "1                 4          2              8    3035.0     11492   \n",
       "2                 3          1              5    2114.0      7922   \n",
       "3                 3          2              7    1828.0      9802   \n",
       "4                 3          2              6    2121.0     14235   \n",
       "...             ...        ...            ...       ...       ...   \n",
       "2044              3          2              7    3612.0     11449   \n",
       "2045              1          1              4    1722.0     12342   \n",
       "2046              3          1              9    2809.0      7558   \n",
       "2047              3          1              6    2400.0     10400   \n",
       "2048              3          2              7    2798.0      7500   \n",
       "\n",
       "      ms_subclass__30  ms_subclass__40  ms_subclass__45  ms_subclass__50  \\\n",
       "0                   0                0                0                0   \n",
       "1                   0                0                0                0   \n",
       "2                   0                0                0                0   \n",
       "3                   0                0                0                0   \n",
       "4                   0                0                0                1   \n",
       "...               ...              ...              ...              ...   \n",
       "2044                0                0                0                0   \n",
       "2045                1                0                0                0   \n",
       "2046                0                0                0                1   \n",
       "2047                0                0                0                0   \n",
       "2048                0                0                0                0   \n",
       "\n",
       "      ms_subclass__60  ms_subclass__70  ms_subclass__75  ms_subclass__80  \\\n",
       "0                   1                0                0                0   \n",
       "1                   1                0                0                0   \n",
       "2                   0                0                0                0   \n",
       "3                   1                0                0                0   \n",
       "4                   0                0                0                0   \n",
       "...               ...              ...              ...              ...   \n",
       "2044                0                0                0                0   \n",
       "2045                0                0                0                0   \n",
       "2046                0                0                0                0   \n",
       "2047                0                0                0                0   \n",
       "2048                1                0                0                0   \n",
       "\n",
       "      ms_subclass__85  ms_subclass__90  ms_subclass__120  ms_subclass__160  \\\n",
       "0                   0                0                 0                 0   \n",
       "1                   0                0                 0                 0   \n",
       "2                   0                0                 0                 0   \n",
       "3                   0                0                 0                 0   \n",
       "4                   0                0                 0                 0   \n",
       "...               ...              ...               ...               ...   \n",
       "2044                0                0                 0                 0   \n",
       "2045                0                0                 0                 0   \n",
       "2046                0                0                 0                 0   \n",
       "2047                0                0                 0                 0   \n",
       "2048                0                0                 0                 0   \n",
       "\n",
       "      ms_subclass__180  ms_subclass__190  \n",
       "0                    0                 0  \n",
       "1                    0                 0  \n",
       "2                    0                 0  \n",
       "3                    0                 0  \n",
       "4                    0                 0  \n",
       "...                ...               ...  \n",
       "2044                 0                 0  \n",
       "2045                 0                 0  \n",
       "2046                 0                 0  \n",
       "2047                 0                 0  \n",
       "2048                 0                 0  \n",
       "\n",
       "[2049 rows x 19 columns]"
      ]
     },
     "execution_count": 13,
     "metadata": {},
     "output_type": "execute_result"
    }
   ],
   "source": [
    "train_clean[features]"
   ]
  },
  {
   "cell_type": "markdown",
   "id": "f0711a41-ab39-4ec0-9b94-0b6953699955",
   "metadata": {},
   "source": [
    "#### Visualizatons Check"
   ]
  },
  {
   "cell_type": "code",
   "execution_count": 45,
   "id": "e9f12884-f0d6-40b9-b6f8-a453d1421b32",
   "metadata": {},
   "outputs": [
    {
     "data": {
      "image/png": "[encoded data removed]",
      "text/plain": [
       "<Figure size 1296x1296 with 2 Axes>"
      ]
     },
     "metadata": {
      "needs_background": "light"
     },
     "output_type": "display_data"
    }
   ],
   "source": [
    "plt.figure(figsize= (18,18))\n",
    "\n",
    "sns.heatmap(train_clean[features].corr() , annot= True,\n",
    "           vmin= -1, vmax= 1);"
   ]
  },
  {
   "cell_type": "code",
   "execution_count": 15,
   "id": "776aadc9-c800-4054-ba46-58725f3f2cd9",
   "metadata": {},
   "outputs": [
    {
     "name": "stdout",
     "output_type": "stream",
     "text": [
      "<class 'pandas.core.frame.DataFrame'>\n",
      "RangeIndex: 2049 entries, 0 to 2048\n",
      "Data columns (total 19 columns):\n",
      " #   Column            Non-Null Count  Dtype  \n",
      "---  ------            --------------  -----  \n",
      " 0   bedroom_abvgr     2049 non-null   int64  \n",
      " 1   full_bath         2049 non-null   int64  \n",
      " 2   totrms_abvgrd     2049 non-null   int64  \n",
      " 3   total_sf          2049 non-null   float64\n",
      " 4   lot_area          2049 non-null   int64  \n",
      " 5   ms_subclass__30   2049 non-null   uint8  \n",
      " 6   ms_subclass__40   2049 non-null   uint8  \n",
      " 7   ms_subclass__45   2049 non-null   uint8  \n",
      " 8   ms_subclass__50   2049 non-null   uint8  \n",
      " 9   ms_subclass__60   2049 non-null   uint8  \n",
      " 10  ms_subclass__70   2049 non-null   uint8  \n",
      " 11  ms_subclass__75   2049 non-null   uint8  \n",
      " 12  ms_subclass__80   2049 non-null   uint8  \n",
      " 13  ms_subclass__85   2049 non-null   uint8  \n",
      " 14  ms_subclass__90   2049 non-null   uint8  \n",
      " 15  ms_subclass__120  2049 non-null   uint8  \n",
      " 16  ms_subclass__160  2049 non-null   uint8  \n",
      " 17  ms_subclass__180  2049 non-null   uint8  \n",
      " 18  ms_subclass__190  2049 non-null   uint8  \n",
      "dtypes: float64(1), int64(4), uint8(14)\n",
      "memory usage: 108.2 KB\n"
     ]
    }
   ],
   "source": [
    "### value type check, looks like were good to head straight to modeling\n",
    "train_clean[features].info()"
   ]
  },
  {
   "cell_type": "markdown",
   "id": "94923bf3-2484-4e1d-a5b6-9efab944f08c",
   "metadata": {},
   "source": [
    "### Modeling"
   ]
  },
  {
   "cell_type": "code",
   "execution_count": 16,
   "id": "b4286ec1-3f9a-4415-98d0-d9d9c013a0b8",
   "metadata": {},
   "outputs": [],
   "source": [
    "#setup our X and y and train, test, split\n",
    "X = train_clean[features]\n",
    "y = train_clean['saleprice']\n",
    "\n",
    "X_train, X_test, y_train, y_test = train_test_split(X, y, random_state= 3792)"
   ]
  },
  {
   "cell_type": "code",
   "execution_count": 17,
   "id": "e770d342-dd8b-4b6a-80bb-6e7030aaef66",
   "metadata": {},
   "outputs": [
    {
     "data": {
      "text/plain": [
       "LinearRegression()"
      ]
     },
     "execution_count": 17,
     "metadata": {},
     "output_type": "execute_result"
    }
   ],
   "source": [
    "#instantiate Lin Reg and fit it on X_train and y_train\n",
    "lr = LinearRegression()\n",
    "\n",
    "lr.fit(X_train, y_train)"
   ]
  },
  {
   "cell_type": "code",
   "execution_count": 18,
   "id": "be43754e-5cb0-4449-9291-79c64b348eaf",
   "metadata": {},
   "outputs": [
    {
     "data": {
      "text/plain": [
       "0.7767"
      ]
     },
     "execution_count": 18,
     "metadata": {},
     "output_type": "execute_result"
    }
   ],
   "source": [
    "#check the training set scores\n",
    "round(lr.score(X_train, y_train), 4)"
   ]
  },
  {
   "cell_type": "code",
   "execution_count": 19,
   "id": "6342bde8-cdf6-49c2-a5db-d75f8016985d",
   "metadata": {},
   "outputs": [
    {
     "data": {
      "text/plain": [
       "0.7341"
      ]
     },
     "execution_count": 19,
     "metadata": {},
     "output_type": "execute_result"
    }
   ],
   "source": [
    "#check the testing set scores\n",
    "round(lr.score(X_test, y_test), 4)"
   ]
  },
  {
   "cell_type": "code",
   "execution_count": 20,
   "id": "84d6c132-bd92-4d4a-8e84-cee295e83cd8",
   "metadata": {},
   "outputs": [
    {
     "data": {
      "text/plain": [
       "0.7676674059749482"
      ]
     },
     "execution_count": 20,
     "metadata": {},
     "output_type": "execute_result"
    }
   ],
   "source": [
    "#check the cross val score\n",
    "cross_val_score(lr, X_train, y_train).mean()"
   ]
  },
  {
   "cell_type": "markdown",
   "id": "aaf2684a-1597-4347-8e3e-cdc92bc2c662",
   "metadata": {},
   "source": [
    "Interpretation of Above Scores:\n",
    "* We may have ended up with a bit of a sampling issue given the discrepancy between the testing score and the cross val, lets try a larger K-Fold and see if that fixes it."
   ]
  },
  {
   "cell_type": "code",
   "execution_count": 21,
   "id": "7e8199b9-a049-47eb-bd52-762aa869762f",
   "metadata": {},
   "outputs": [
    {
     "data": {
      "text/plain": [
       "0.7651083852027901"
      ]
     },
     "execution_count": 21,
     "metadata": {},
     "output_type": "execute_result"
    }
   ],
   "source": [
    "#still off by about .03\n",
    "cross_val_score(lr, X_train, y_train, cv= 10).mean()"
   ]
  },
  {
   "cell_type": "markdown",
   "id": "ef42f47d-81a9-4611-99e2-980ba6ff883c",
   "metadata": {},
   "source": [
    "#### Predictions and Checking MSE and RMSE"
   ]
  },
  {
   "cell_type": "code",
   "execution_count": 22,
   "id": "c44b08bc-1e48-486d-a6f5-47efd2090557",
   "metadata": {},
   "outputs": [],
   "source": [
    "preds = lr.predict(X_test)"
   ]
  },
  {
   "cell_type": "code",
   "execution_count": 23,
   "id": "7f44a291-da6b-44f9-aa49-3fca9fbd732b",
   "metadata": {},
   "outputs": [
    {
     "data": {
      "text/plain": [
       "1440112309.4408896"
      ]
     },
     "execution_count": 23,
     "metadata": {},
     "output_type": "execute_result"
    }
   ],
   "source": [
    "#MSE for Train\n",
    "mean_squared_error(y_train, lr.predict(X_train))"
   ]
  },
  {
   "cell_type": "code",
   "execution_count": 24,
   "id": "c6918e11-a0d3-4d5c-b8a1-fb4603670511",
   "metadata": {},
   "outputs": [
    {
     "data": {
      "text/plain": [
       "37948.81"
      ]
     },
     "execution_count": 24,
     "metadata": {},
     "output_type": "execute_result"
    }
   ],
   "source": [
    "#RMSE for Train\n",
    "round((mean_squared_error(y_train, lr.predict(X_train)) ** .5), 2)"
   ]
  },
  {
   "cell_type": "code",
   "execution_count": 25,
   "id": "a4f9fecb-5c54-4a76-9dce-1a82d5d7bce1",
   "metadata": {},
   "outputs": [
    {
     "data": {
      "text/plain": [
       "1534029322.84"
      ]
     },
     "execution_count": 25,
     "metadata": {},
     "output_type": "execute_result"
    }
   ],
   "source": [
    "#MSE for Train\n",
    "round(mean_squared_error(y_test, lr.predict(X_test)), 2)"
   ]
  },
  {
   "cell_type": "code",
   "execution_count": 26,
   "id": "07913a5e-3052-42d1-bd6f-8162dd2b5cc9",
   "metadata": {},
   "outputs": [
    {
     "data": {
      "text/plain": [
       "39166.69"
      ]
     },
     "execution_count": 26,
     "metadata": {},
     "output_type": "execute_result"
    }
   ],
   "source": [
    "#RMSE for Test\n",
    "round((mean_squared_error(y_test, lr.predict(X_test)) ** .5), 2)"
   ]
  },
  {
   "cell_type": "code",
   "execution_count": 27,
   "id": "e5d50281-20f1-4375-8dc1-5bdf2fc86665",
   "metadata": {},
   "outputs": [
    {
     "data": {
      "text/plain": [
       "[('bedroom_abvgr', -25308.751223395117),\n",
       " ('full_bath', 10392.427271889526),\n",
       " ('totrms_abvgrd', 6801.936571301558),\n",
       " ('total_sf', 74.63029247635586),\n",
       " ('lot_area', 0.8231512245220074),\n",
       " ('ms_subclass__30', -21443.65426138036),\n",
       " ('ms_subclass__40', -32347.22906277918),\n",
       " ('ms_subclass__45', -15983.039893324709),\n",
       " ('ms_subclass__50', -24931.10337150382),\n",
       " ('ms_subclass__60', 23645.568515498882),\n",
       " ('ms_subclass__70', -6437.25016976122),\n",
       " ('ms_subclass__75', -40680.79262137717),\n",
       " ('ms_subclass__80', 11174.15684124604),\n",
       " ('ms_subclass__85', 14972.144703959162),\n",
       " ('ms_subclass__90', -44718.07745353788),\n",
       " ('ms_subclass__120', 428.3018178749534),\n",
       " ('ms_subclass__160', -322.1127481059796),\n",
       " ('ms_subclass__180', 2606.440188076961),\n",
       " ('ms_subclass__190', -41437.81501364814)]"
      ]
     },
     "execution_count": 27,
     "metadata": {},
     "output_type": "execute_result"
    }
   ],
   "source": [
    "#Lets check the coefficients\n",
    "list(zip(features, lr.coef_))"
   ]
  },
  {
   "cell_type": "code",
   "execution_count": 28,
   "id": "9799ea3d-7905-4c3f-b8c0-a7af8c8c7e7d",
   "metadata": {},
   "outputs": [],
   "source": [
    "saleprice = lr.predict(X_test)"
   ]
  },
  {
   "cell_type": "markdown",
   "id": "8773975c-d10e-4203-86ed-dc1d34bc8d5e",
   "metadata": {},
   "source": [
    "##### Fitting on the testing Data"
   ]
  },
  {
   "cell_type": "code",
   "execution_count": 29,
   "id": "87cd0e11-30ce-4e3a-8bc2-c16c2a0b0b15",
   "metadata": {},
   "outputs": [],
   "source": [
    "test_df = pd.read_csv('./datasets/test.csv')"
   ]
  },
  {
   "cell_type": "code",
   "execution_count": 30,
   "id": "1054e17c-4e2f-4234-a7c5-047c58b94428",
   "metadata": {},
   "outputs": [],
   "source": [
    "#making columns same as train dataset\n",
    "test_df.rename(str.lower, axis=1, inplace=True)"
   ]
  },
  {
   "cell_type": "code",
   "execution_count": 31,
   "id": "5bacd265-592c-4003-a632-91cf55a2f76a",
   "metadata": {},
   "outputs": [],
   "source": [
    "test_df.columns = test_df.columns.str.replace(' ', '_')"
   ]
  },
  {
   "cell_type": "code",
   "execution_count": 32,
   "id": "ad93c850-04b3-41b1-9a62-4b41ab8ad8c1",
   "metadata": {},
   "outputs": [],
   "source": [
    "#features for test\n",
    "#Features for model: \n",
    "#Number of Bedrooms X\n",
    "#Number of Bathrooms X\n",
    "#Square Feet X\n",
    "#Lot Size X\n",
    "# Property Type, likely need to one hot encode property type\n",
    "ms_class_dummies = pd.get_dummies(data=test_df['ms_subclass'], prefix='ms_subclass_', drop_first=True)\n",
    "\n",
    "#create total sqft variable\n",
    "test_df['total_sf'] = test_df['total_bsmt_sf'] + test_df['gr_liv_area']\n",
    "#joining with overall DF\n",
    "#train_clean = train_clean.join(other= ms_class_dummies)\n",
    "#references (https://stackoverflow.com/questions/20602947/append-column-to-pandas-dataframe ; https://pandas.pydata.org/docs/user_guide/merging.html)\n",
    "\n",
    "#features\n",
    "features = ['bedroom_abvgr', 'full_bath', 'totrms_abvgrd', 'total_sf', 'lot_area', 'ms_subclass__30', 'ms_subclass__40', 'ms_subclass__45',\n",
    "            'ms_subclass__50', 'ms_subclass__60', 'ms_subclass__70', 'ms_subclass__75', 'ms_subclass__80', 'ms_subclass__85',\n",
    "            'ms_subclass__90', 'ms_subclass__120', 'ms_subclass__150','ms_subclass__160', 'ms_subclass__180', 'ms_subclass__190']"
   ]
  },
  {
   "cell_type": "code",
   "execution_count": 33,
   "id": "2240aacb-adf3-49aa-92b4-49a3aa5f3c4b",
   "metadata": {},
   "outputs": [],
   "source": [
    "test_df = test_df.join(other= ms_class_dummies)"
   ]
  },
  {
   "cell_type": "code",
   "execution_count": 34,
   "id": "844dad60-4187-45b3-a5a2-7b64820f712e",
   "metadata": {},
   "outputs": [
    {
     "data": {
      "text/html": [
       "<div>\n",
       "<style scoped>\n",
       "    .dataframe tbody tr th:only-of-type {\n",
       "        vertical-align: middle;\n",
       "    }\n",
       "\n",
       "    .dataframe tbody tr th {\n",
       "        vertical-align: top;\n",
       "    }\n",
       "\n",
       "    .dataframe thead th {\n",
       "        text-align: right;\n",
       "    }\n",
       "</style>\n",
       "<table border=\"1\" class=\"dataframe\">\n",
       "  <thead>\n",
       "    <tr style=\"text-align: right;\">\n",
       "      <th></th>\n",
       "      <th>id</th>\n",
       "      <th>pid</th>\n",
       "      <th>ms_subclass</th>\n",
       "      <th>ms_zoning</th>\n",
       "      <th>lot_frontage</th>\n",
       "      <th>lot_area</th>\n",
       "      <th>street</th>\n",
       "      <th>alley</th>\n",
       "      <th>lot_shape</th>\n",
       "      <th>land_contour</th>\n",
       "      <th>...</th>\n",
       "      <th>ms_subclass__60</th>\n",
       "      <th>ms_subclass__70</th>\n",
       "      <th>ms_subclass__75</th>\n",
       "      <th>ms_subclass__80</th>\n",
       "      <th>ms_subclass__85</th>\n",
       "      <th>ms_subclass__90</th>\n",
       "      <th>ms_subclass__120</th>\n",
       "      <th>ms_subclass__160</th>\n",
       "      <th>ms_subclass__180</th>\n",
       "      <th>ms_subclass__190</th>\n",
       "    </tr>\n",
       "  </thead>\n",
       "  <tbody>\n",
       "    <tr>\n",
       "      <th>0</th>\n",
       "      <td>2658</td>\n",
       "      <td>902301120</td>\n",
       "      <td>190</td>\n",
       "      <td>RM</td>\n",
       "      <td>69.0</td>\n",
       "      <td>9142</td>\n",
       "      <td>Pave</td>\n",
       "      <td>Grvl</td>\n",
       "      <td>Reg</td>\n",
       "      <td>Lvl</td>\n",
       "      <td>...</td>\n",
       "      <td>0</td>\n",
       "      <td>0</td>\n",
       "      <td>0</td>\n",
       "      <td>0</td>\n",
       "      <td>0</td>\n",
       "      <td>0</td>\n",
       "      <td>0</td>\n",
       "      <td>0</td>\n",
       "      <td>0</td>\n",
       "      <td>1</td>\n",
       "    </tr>\n",
       "    <tr>\n",
       "      <th>1</th>\n",
       "      <td>2718</td>\n",
       "      <td>905108090</td>\n",
       "      <td>90</td>\n",
       "      <td>RL</td>\n",
       "      <td>NaN</td>\n",
       "      <td>9662</td>\n",
       "      <td>Pave</td>\n",
       "      <td>NaN</td>\n",
       "      <td>IR1</td>\n",
       "      <td>Lvl</td>\n",
       "      <td>...</td>\n",
       "      <td>0</td>\n",
       "      <td>0</td>\n",
       "      <td>0</td>\n",
       "      <td>0</td>\n",
       "      <td>0</td>\n",
       "      <td>1</td>\n",
       "      <td>0</td>\n",
       "      <td>0</td>\n",
       "      <td>0</td>\n",
       "      <td>0</td>\n",
       "    </tr>\n",
       "    <tr>\n",
       "      <th>2</th>\n",
       "      <td>2414</td>\n",
       "      <td>528218130</td>\n",
       "      <td>60</td>\n",
       "      <td>RL</td>\n",
       "      <td>58.0</td>\n",
       "      <td>17104</td>\n",
       "      <td>Pave</td>\n",
       "      <td>NaN</td>\n",
       "      <td>IR1</td>\n",
       "      <td>Lvl</td>\n",
       "      <td>...</td>\n",
       "      <td>1</td>\n",
       "      <td>0</td>\n",
       "      <td>0</td>\n",
       "      <td>0</td>\n",
       "      <td>0</td>\n",
       "      <td>0</td>\n",
       "      <td>0</td>\n",
       "      <td>0</td>\n",
       "      <td>0</td>\n",
       "      <td>0</td>\n",
       "    </tr>\n",
       "    <tr>\n",
       "      <th>3</th>\n",
       "      <td>1989</td>\n",
       "      <td>902207150</td>\n",
       "      <td>30</td>\n",
       "      <td>RM</td>\n",
       "      <td>60.0</td>\n",
       "      <td>8520</td>\n",
       "      <td>Pave</td>\n",
       "      <td>NaN</td>\n",
       "      <td>Reg</td>\n",
       "      <td>Lvl</td>\n",
       "      <td>...</td>\n",
       "      <td>0</td>\n",
       "      <td>0</td>\n",
       "      <td>0</td>\n",
       "      <td>0</td>\n",
       "      <td>0</td>\n",
       "      <td>0</td>\n",
       "      <td>0</td>\n",
       "      <td>0</td>\n",
       "      <td>0</td>\n",
       "      <td>0</td>\n",
       "    </tr>\n",
       "    <tr>\n",
       "      <th>4</th>\n",
       "      <td>625</td>\n",
       "      <td>535105100</td>\n",
       "      <td>20</td>\n",
       "      <td>RL</td>\n",
       "      <td>NaN</td>\n",
       "      <td>9500</td>\n",
       "      <td>Pave</td>\n",
       "      <td>NaN</td>\n",
       "      <td>IR1</td>\n",
       "      <td>Lvl</td>\n",
       "      <td>...</td>\n",
       "      <td>0</td>\n",
       "      <td>0</td>\n",
       "      <td>0</td>\n",
       "      <td>0</td>\n",
       "      <td>0</td>\n",
       "      <td>0</td>\n",
       "      <td>0</td>\n",
       "      <td>0</td>\n",
       "      <td>0</td>\n",
       "      <td>0</td>\n",
       "    </tr>\n",
       "  </tbody>\n",
       "</table>\n",
       "<p>5 rows × 95 columns</p>\n",
       "</div>"
      ],
      "text/plain": [
       "     id        pid  ms_subclass ms_zoning  lot_frontage  lot_area street  \\\n",
       "0  2658  902301120          190        RM          69.0      9142   Pave   \n",
       "1  2718  905108090           90        RL           NaN      9662   Pave   \n",
       "2  2414  528218130           60        RL          58.0     17104   Pave   \n",
       "3  1989  902207150           30        RM          60.0      8520   Pave   \n",
       "4   625  535105100           20        RL           NaN      9500   Pave   \n",
       "\n",
       "  alley lot_shape land_contour  ... ms_subclass__60 ms_subclass__70  \\\n",
       "0  Grvl       Reg          Lvl  ...               0               0   \n",
       "1   NaN       IR1          Lvl  ...               0               0   \n",
       "2   NaN       IR1          Lvl  ...               1               0   \n",
       "3   NaN       Reg          Lvl  ...               0               0   \n",
       "4   NaN       IR1          Lvl  ...               0               0   \n",
       "\n",
       "  ms_subclass__75 ms_subclass__80 ms_subclass__85 ms_subclass__90  \\\n",
       "0               0               0               0               0   \n",
       "1               0               0               0               1   \n",
       "2               0               0               0               0   \n",
       "3               0               0               0               0   \n",
       "4               0               0               0               0   \n",
       "\n",
       "  ms_subclass__120 ms_subclass__160  ms_subclass__180  ms_subclass__190  \n",
       "0                0                0                 0                 1  \n",
       "1                0                0                 0                 0  \n",
       "2                0                0                 0                 0  \n",
       "3                0                0                 0                 0  \n",
       "4                0                0                 0                 0  \n",
       "\n",
       "[5 rows x 95 columns]"
      ]
     },
     "execution_count": 34,
     "metadata": {},
     "output_type": "execute_result"
    }
   ],
   "source": [
    "test_df.head()"
   ]
  },
  {
   "cell_type": "code",
   "execution_count": 35,
   "id": "e1a2c6cd-8bbf-4667-96dd-fdbb356fc124",
   "metadata": {},
   "outputs": [],
   "source": [
    "features = ['bedroom_abvgr', 'full_bath', 'totrms_abvgrd', 'total_sf', 'lot_area', 'ms_subclass__30', 'ms_subclass__40', 'ms_subclass__45',\n",
    "            'ms_subclass__50', 'ms_subclass__60', 'ms_subclass__70', 'ms_subclass__75', 'ms_subclass__80', 'ms_subclass__85',\n",
    "            'ms_subclass__90', 'ms_subclass__120', 'ms_subclass__160', 'ms_subclass__180', 'ms_subclass__190']"
   ]
  },
  {
   "cell_type": "code",
   "execution_count": 36,
   "id": "eface95d-f1e9-4880-ba43-a497b4c8ad76",
   "metadata": {},
   "outputs": [],
   "source": [
    "test=  test_df[features]"
   ]
  },
  {
   "cell_type": "code",
   "execution_count": 37,
   "id": "2ea92a51-7f0d-41a0-ad6d-36929eb94f7d",
   "metadata": {},
   "outputs": [
    {
     "data": {
      "text/plain": [
       "bedroom_abvgr       0\n",
       "full_bath           0\n",
       "totrms_abvgrd       0\n",
       "total_sf            0\n",
       "lot_area            0\n",
       "ms_subclass__30     0\n",
       "ms_subclass__40     0\n",
       "ms_subclass__45     0\n",
       "ms_subclass__50     0\n",
       "ms_subclass__60     0\n",
       "ms_subclass__70     0\n",
       "ms_subclass__75     0\n",
       "ms_subclass__80     0\n",
       "ms_subclass__85     0\n",
       "ms_subclass__90     0\n",
       "ms_subclass__120    0\n",
       "ms_subclass__160    0\n",
       "ms_subclass__180    0\n",
       "ms_subclass__190    0\n",
       "dtype: int64"
      ]
     },
     "execution_count": 37,
     "metadata": {},
     "output_type": "execute_result"
    }
   ],
   "source": [
    "test.isna().sum()"
   ]
  },
  {
   "cell_type": "code",
   "execution_count": 38,
   "id": "77753a34-659d-4157-a6fa-5090f7a24694",
   "metadata": {},
   "outputs": [
    {
     "data": {
      "text/html": [
       "<div>\n",
       "<style scoped>\n",
       "    .dataframe tbody tr th:only-of-type {\n",
       "        vertical-align: middle;\n",
       "    }\n",
       "\n",
       "    .dataframe tbody tr th {\n",
       "        vertical-align: top;\n",
       "    }\n",
       "\n",
       "    .dataframe thead th {\n",
       "        text-align: right;\n",
       "    }\n",
       "</style>\n",
       "<table border=\"1\" class=\"dataframe\">\n",
       "  <thead>\n",
       "    <tr style=\"text-align: right;\">\n",
       "      <th></th>\n",
       "      <th>bedroom_abvgr</th>\n",
       "      <th>full_bath</th>\n",
       "      <th>totrms_abvgrd</th>\n",
       "      <th>total_sf</th>\n",
       "      <th>lot_area</th>\n",
       "      <th>ms_subclass__30</th>\n",
       "      <th>ms_subclass__40</th>\n",
       "      <th>ms_subclass__45</th>\n",
       "      <th>ms_subclass__50</th>\n",
       "      <th>ms_subclass__60</th>\n",
       "      <th>ms_subclass__70</th>\n",
       "      <th>ms_subclass__75</th>\n",
       "      <th>ms_subclass__80</th>\n",
       "      <th>ms_subclass__85</th>\n",
       "      <th>ms_subclass__90</th>\n",
       "      <th>ms_subclass__120</th>\n",
       "      <th>ms_subclass__160</th>\n",
       "      <th>ms_subclass__180</th>\n",
       "      <th>ms_subclass__190</th>\n",
       "    </tr>\n",
       "  </thead>\n",
       "  <tbody>\n",
       "    <tr>\n",
       "      <th>0</th>\n",
       "      <td>4</td>\n",
       "      <td>2</td>\n",
       "      <td>9</td>\n",
       "      <td>2948</td>\n",
       "      <td>9142</td>\n",
       "      <td>0</td>\n",
       "      <td>0</td>\n",
       "      <td>0</td>\n",
       "      <td>0</td>\n",
       "      <td>0</td>\n",
       "      <td>0</td>\n",
       "      <td>0</td>\n",
       "      <td>0</td>\n",
       "      <td>0</td>\n",
       "      <td>0</td>\n",
       "      <td>0</td>\n",
       "      <td>0</td>\n",
       "      <td>0</td>\n",
       "      <td>1</td>\n",
       "    </tr>\n",
       "    <tr>\n",
       "      <th>1</th>\n",
       "      <td>6</td>\n",
       "      <td>2</td>\n",
       "      <td>10</td>\n",
       "      <td>3934</td>\n",
       "      <td>9662</td>\n",
       "      <td>0</td>\n",
       "      <td>0</td>\n",
       "      <td>0</td>\n",
       "      <td>0</td>\n",
       "      <td>0</td>\n",
       "      <td>0</td>\n",
       "      <td>0</td>\n",
       "      <td>0</td>\n",
       "      <td>0</td>\n",
       "      <td>1</td>\n",
       "      <td>0</td>\n",
       "      <td>0</td>\n",
       "      <td>0</td>\n",
       "      <td>0</td>\n",
       "    </tr>\n",
       "    <tr>\n",
       "      <th>2</th>\n",
       "      <td>3</td>\n",
       "      <td>2</td>\n",
       "      <td>7</td>\n",
       "      <td>2150</td>\n",
       "      <td>17104</td>\n",
       "      <td>0</td>\n",
       "      <td>0</td>\n",
       "      <td>0</td>\n",
       "      <td>0</td>\n",
       "      <td>1</td>\n",
       "      <td>0</td>\n",
       "      <td>0</td>\n",
       "      <td>0</td>\n",
       "      <td>0</td>\n",
       "      <td>0</td>\n",
       "      <td>0</td>\n",
       "      <td>0</td>\n",
       "      <td>0</td>\n",
       "      <td>0</td>\n",
       "    </tr>\n",
       "    <tr>\n",
       "      <th>3</th>\n",
       "      <td>2</td>\n",
       "      <td>1</td>\n",
       "      <td>5</td>\n",
       "      <td>1936</td>\n",
       "      <td>8520</td>\n",
       "      <td>1</td>\n",
       "      <td>0</td>\n",
       "      <td>0</td>\n",
       "      <td>0</td>\n",
       "      <td>0</td>\n",
       "      <td>0</td>\n",
       "      <td>0</td>\n",
       "      <td>0</td>\n",
       "      <td>0</td>\n",
       "      <td>0</td>\n",
       "      <td>0</td>\n",
       "      <td>0</td>\n",
       "      <td>0</td>\n",
       "      <td>0</td>\n",
       "    </tr>\n",
       "    <tr>\n",
       "      <th>4</th>\n",
       "      <td>3</td>\n",
       "      <td>1</td>\n",
       "      <td>6</td>\n",
       "      <td>2788</td>\n",
       "      <td>9500</td>\n",
       "      <td>0</td>\n",
       "      <td>0</td>\n",
       "      <td>0</td>\n",
       "      <td>0</td>\n",
       "      <td>0</td>\n",
       "      <td>0</td>\n",
       "      <td>0</td>\n",
       "      <td>0</td>\n",
       "      <td>0</td>\n",
       "      <td>0</td>\n",
       "      <td>0</td>\n",
       "      <td>0</td>\n",
       "      <td>0</td>\n",
       "      <td>0</td>\n",
       "    </tr>\n",
       "    <tr>\n",
       "      <th>...</th>\n",
       "      <td>...</td>\n",
       "      <td>...</td>\n",
       "      <td>...</td>\n",
       "      <td>...</td>\n",
       "      <td>...</td>\n",
       "      <td>...</td>\n",
       "      <td>...</td>\n",
       "      <td>...</td>\n",
       "      <td>...</td>\n",
       "      <td>...</td>\n",
       "      <td>...</td>\n",
       "      <td>...</td>\n",
       "      <td>...</td>\n",
       "      <td>...</td>\n",
       "      <td>...</td>\n",
       "      <td>...</td>\n",
       "      <td>...</td>\n",
       "      <td>...</td>\n",
       "      <td>...</td>\n",
       "    </tr>\n",
       "    <tr>\n",
       "      <th>873</th>\n",
       "      <td>4</td>\n",
       "      <td>2</td>\n",
       "      <td>8</td>\n",
       "      <td>2961</td>\n",
       "      <td>8000</td>\n",
       "      <td>0</td>\n",
       "      <td>0</td>\n",
       "      <td>0</td>\n",
       "      <td>0</td>\n",
       "      <td>1</td>\n",
       "      <td>0</td>\n",
       "      <td>0</td>\n",
       "      <td>0</td>\n",
       "      <td>0</td>\n",
       "      <td>0</td>\n",
       "      <td>0</td>\n",
       "      <td>0</td>\n",
       "      <td>0</td>\n",
       "      <td>0</td>\n",
       "    </tr>\n",
       "    <tr>\n",
       "      <th>874</th>\n",
       "      <td>4</td>\n",
       "      <td>2</td>\n",
       "      <td>9</td>\n",
       "      <td>3092</td>\n",
       "      <td>14670</td>\n",
       "      <td>0</td>\n",
       "      <td>0</td>\n",
       "      <td>0</td>\n",
       "      <td>0</td>\n",
       "      <td>1</td>\n",
       "      <td>0</td>\n",
       "      <td>0</td>\n",
       "      <td>0</td>\n",
       "      <td>0</td>\n",
       "      <td>0</td>\n",
       "      <td>0</td>\n",
       "      <td>0</td>\n",
       "      <td>0</td>\n",
       "      <td>0</td>\n",
       "    </tr>\n",
       "    <tr>\n",
       "      <th>875</th>\n",
       "      <td>3</td>\n",
       "      <td>1</td>\n",
       "      <td>5</td>\n",
       "      <td>2163</td>\n",
       "      <td>8250</td>\n",
       "      <td>0</td>\n",
       "      <td>0</td>\n",
       "      <td>0</td>\n",
       "      <td>0</td>\n",
       "      <td>0</td>\n",
       "      <td>0</td>\n",
       "      <td>0</td>\n",
       "      <td>0</td>\n",
       "      <td>0</td>\n",
       "      <td>0</td>\n",
       "      <td>0</td>\n",
       "      <td>0</td>\n",
       "      <td>0</td>\n",
       "      <td>0</td>\n",
       "    </tr>\n",
       "    <tr>\n",
       "      <th>876</th>\n",
       "      <td>3</td>\n",
       "      <td>1</td>\n",
       "      <td>5</td>\n",
       "      <td>1728</td>\n",
       "      <td>9000</td>\n",
       "      <td>0</td>\n",
       "      <td>0</td>\n",
       "      <td>0</td>\n",
       "      <td>0</td>\n",
       "      <td>0</td>\n",
       "      <td>0</td>\n",
       "      <td>0</td>\n",
       "      <td>0</td>\n",
       "      <td>0</td>\n",
       "      <td>0</td>\n",
       "      <td>0</td>\n",
       "      <td>0</td>\n",
       "      <td>0</td>\n",
       "      <td>0</td>\n",
       "    </tr>\n",
       "    <tr>\n",
       "      <th>877</th>\n",
       "      <td>3</td>\n",
       "      <td>1</td>\n",
       "      <td>5</td>\n",
       "      <td>1848</td>\n",
       "      <td>8400</td>\n",
       "      <td>0</td>\n",
       "      <td>0</td>\n",
       "      <td>0</td>\n",
       "      <td>0</td>\n",
       "      <td>0</td>\n",
       "      <td>0</td>\n",
       "      <td>0</td>\n",
       "      <td>0</td>\n",
       "      <td>0</td>\n",
       "      <td>0</td>\n",
       "      <td>0</td>\n",
       "      <td>0</td>\n",
       "      <td>0</td>\n",
       "      <td>0</td>\n",
       "    </tr>\n",
       "  </tbody>\n",
       "</table>\n",
       "<p>878 rows × 19 columns</p>\n",
       "</div>"
      ],
      "text/plain": [
       "     bedroom_abvgr  full_bath  totrms_abvgrd  total_sf  lot_area  \\\n",
       "0                4          2              9      2948      9142   \n",
       "1                6          2             10      3934      9662   \n",
       "2                3          2              7      2150     17104   \n",
       "3                2          1              5      1936      8520   \n",
       "4                3          1              6      2788      9500   \n",
       "..             ...        ...            ...       ...       ...   \n",
       "873              4          2              8      2961      8000   \n",
       "874              4          2              9      3092     14670   \n",
       "875              3          1              5      2163      8250   \n",
       "876              3          1              5      1728      9000   \n",
       "877              3          1              5      1848      8400   \n",
       "\n",
       "     ms_subclass__30  ms_subclass__40  ms_subclass__45  ms_subclass__50  \\\n",
       "0                  0                0                0                0   \n",
       "1                  0                0                0                0   \n",
       "2                  0                0                0                0   \n",
       "3                  1                0                0                0   \n",
       "4                  0                0                0                0   \n",
       "..               ...              ...              ...              ...   \n",
       "873                0                0                0                0   \n",
       "874                0                0                0                0   \n",
       "875                0                0                0                0   \n",
       "876                0                0                0                0   \n",
       "877                0                0                0                0   \n",
       "\n",
       "     ms_subclass__60  ms_subclass__70  ms_subclass__75  ms_subclass__80  \\\n",
       "0                  0                0                0                0   \n",
       "1                  0                0                0                0   \n",
       "2                  1                0                0                0   \n",
       "3                  0                0                0                0   \n",
       "4                  0                0                0                0   \n",
       "..               ...              ...              ...              ...   \n",
       "873                1                0                0                0   \n",
       "874                1                0                0                0   \n",
       "875                0                0                0                0   \n",
       "876                0                0                0                0   \n",
       "877                0                0                0                0   \n",
       "\n",
       "     ms_subclass__85  ms_subclass__90  ms_subclass__120  ms_subclass__160  \\\n",
       "0                  0                0                 0                 0   \n",
       "1                  0                1                 0                 0   \n",
       "2                  0                0                 0                 0   \n",
       "3                  0                0                 0                 0   \n",
       "4                  0                0                 0                 0   \n",
       "..               ...              ...               ...               ...   \n",
       "873                0                0                 0                 0   \n",
       "874                0                0                 0                 0   \n",
       "875                0                0                 0                 0   \n",
       "876                0                0                 0                 0   \n",
       "877                0                0                 0                 0   \n",
       "\n",
       "     ms_subclass__180  ms_subclass__190  \n",
       "0                   0                 1  \n",
       "1                   0                 0  \n",
       "2                   0                 0  \n",
       "3                   0                 0  \n",
       "4                   0                 0  \n",
       "..                ...               ...  \n",
       "873                 0                 0  \n",
       "874                 0                 0  \n",
       "875                 0                 0  \n",
       "876                 0                 0  \n",
       "877                 0                 0  \n",
       "\n",
       "[878 rows x 19 columns]"
      ]
     },
     "execution_count": 38,
     "metadata": {},
     "output_type": "execute_result"
    }
   ],
   "source": [
    "test"
   ]
  },
  {
   "cell_type": "code",
   "execution_count": 39,
   "id": "464bf635-002f-44e6-912e-8b76b6b99346",
   "metadata": {},
   "outputs": [
    {
     "data": {
      "text/plain": [
       "220079.6271955636"
      ]
     },
     "execution_count": 39,
     "metadata": {},
     "output_type": "execute_result"
    }
   ],
   "source": [
    "lr.predict(test)[14]"
   ]
  },
  {
   "cell_type": "code",
   "execution_count": 40,
   "id": "0d15d020-444f-468e-a232-e6b0b1804adf",
   "metadata": {},
   "outputs": [],
   "source": [
    "test_df['saleprice'] = lr.predict(test)"
   ]
  },
  {
   "cell_type": "code",
   "execution_count": 41,
   "id": "d238a03a-ee7c-4758-a2cd-efd710373950",
   "metadata": {},
   "outputs": [],
   "source": [
    "common_feature_model = test_df[['id', 'saleprice']]"
   ]
  },
  {
   "cell_type": "code",
   "execution_count": 42,
   "id": "40891a50-21b5-48a2-b5b8-df13ab69a994",
   "metadata": {},
   "outputs": [],
   "source": [
    "common_feature_model.set_index('id', inplace=True)"
   ]
  },
  {
   "cell_type": "code",
   "execution_count": 43,
   "id": "dc84d553-c0dd-4e27-90dc-95f218f1fc92",
   "metadata": {},
   "outputs": [],
   "source": [
    "common_feature_model.to_csv('./datasets/common_feature_model.csv')"
   ]
  },
  {
   "cell_type": "code",
   "execution_count": null,
   "id": "dfe27c1d-233d-440e-b828-e9c7180f144b",
   "metadata": {},
   "outputs": [],
   "source": []
  }
 ],
 "metadata": {
  "kernelspec": {
   "display_name": "Python 3",
   "language": "python",
   "name": "python3"
  },
  "language_info": {
   "codemirror_mode": {
    "name": "ipython",
    "version": 3
   },
   "file_extension": ".py",
   "mimetype": "text/x-python",
   "name": "python",
   "nbconvert_exporter": "python",
   "pygments_lexer": "ipython3",
   "version": "3.8.8"
  }
 },
 "nbformat": 4,
 "nbformat_minor": 5
}
