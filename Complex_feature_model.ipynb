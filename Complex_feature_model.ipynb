{
 "cells": [
  {
   "cell_type": "markdown",
   "id": "1dab43ab-b349-438a-ae1d-2f20b6d617f7",
   "metadata": {},
   "source": [
    "## Complex Feature Model"
   ]
  },
  {
   "cell_type": "markdown",
   "id": "fee35abd-18eb-41b0-aec1-d89180a2a1f9",
   "metadata": {},
   "source": [
    "The model(s) that follow are intended to be more complex than those in the Naive and Common Features models. These may include:\n",
    "* Dummied Features\n",
    "* Many more features \n",
    "* Use of regularization, scaling, and normalization\n",
    "* Further exploration of bias and variance tradeoffs"
   ]
  },
  {
   "cell_type": "markdown",
   "id": "1e47c6ec-83b6-4ef8-b329-dca92ba465b9",
   "metadata": {},
   "source": [
    "### Cleaning and EDA"
   ]
  },
  {
   "cell_type": "code",
   "execution_count": 1,
   "id": "a0322c52-ef92-4574-ab6b-98f2a4b51b07",
   "metadata": {},
   "outputs": [],
   "source": [
    "#standard imports\n",
    "import pandas as pd \n",
    "pd.options.mode.chained_assignment = None\n",
    "import numpy as np\n",
    "import seaborn as sns\n",
    "import matplotlib.pyplot as plt\n",
    "\n",
    "#modeling imports\n",
    "from sklearn.linear_model import LinearRegression, LassoCV, RidgeCV\n",
    "from sklearn.metrics import mean_squared_error, r2_score\n",
    "from sklearn.model_selection import train_test_split, cross_val_score, cross_validate\n",
    "from sklearn.preprocessing import StandardScaler, PolynomialFeatures"
   ]
  },
  {
   "cell_type": "code",
   "execution_count": 2,
   "id": "51c60309-2148-4e96-badf-b0623a48a4fe",
   "metadata": {},
   "outputs": [
    {
     "data": {
      "text/html": [
       "<div>\n",
       "<style scoped>\n",
       "    .dataframe tbody tr th:only-of-type {\n",
       "        vertical-align: middle;\n",
       "    }\n",
       "\n",
       "    .dataframe tbody tr th {\n",
       "        vertical-align: top;\n",
       "    }\n",
       "\n",
       "    .dataframe thead th {\n",
       "        text-align: right;\n",
       "    }\n",
       "</style>\n",
       "<table border=\"1\" class=\"dataframe\">\n",
       "  <thead>\n",
       "    <tr style=\"text-align: right;\">\n",
       "      <th></th>\n",
       "      <th>ms_subclass</th>\n",
       "      <th>ms_zoning</th>\n",
       "      <th>lot_frontage</th>\n",
       "      <th>lot_area</th>\n",
       "      <th>street</th>\n",
       "      <th>alley</th>\n",
       "      <th>lot_shape</th>\n",
       "      <th>land_contour</th>\n",
       "      <th>utilities</th>\n",
       "      <th>lot_config</th>\n",
       "      <th>...</th>\n",
       "      <th>screen_porch</th>\n",
       "      <th>pool_area</th>\n",
       "      <th>pool_qc</th>\n",
       "      <th>fence</th>\n",
       "      <th>misc_feature</th>\n",
       "      <th>misc_val</th>\n",
       "      <th>mo_sold</th>\n",
       "      <th>yr_sold</th>\n",
       "      <th>sale_type</th>\n",
       "      <th>saleprice</th>\n",
       "    </tr>\n",
       "  </thead>\n",
       "  <tbody>\n",
       "    <tr>\n",
       "      <th>0</th>\n",
       "      <td>60</td>\n",
       "      <td>RL</td>\n",
       "      <td>0.0</td>\n",
       "      <td>13517</td>\n",
       "      <td>Pave</td>\n",
       "      <td>no</td>\n",
       "      <td>IR1</td>\n",
       "      <td>Lvl</td>\n",
       "      <td>AllPub</td>\n",
       "      <td>CulDSac</td>\n",
       "      <td>...</td>\n",
       "      <td>0</td>\n",
       "      <td>0</td>\n",
       "      <td>0</td>\n",
       "      <td>no</td>\n",
       "      <td>0</td>\n",
       "      <td>0</td>\n",
       "      <td>3</td>\n",
       "      <td>2010</td>\n",
       "      <td>WD</td>\n",
       "      <td>130500</td>\n",
       "    </tr>\n",
       "    <tr>\n",
       "      <th>1</th>\n",
       "      <td>60</td>\n",
       "      <td>RL</td>\n",
       "      <td>43.0</td>\n",
       "      <td>11492</td>\n",
       "      <td>Pave</td>\n",
       "      <td>no</td>\n",
       "      <td>IR1</td>\n",
       "      <td>Lvl</td>\n",
       "      <td>AllPub</td>\n",
       "      <td>CulDSac</td>\n",
       "      <td>...</td>\n",
       "      <td>0</td>\n",
       "      <td>0</td>\n",
       "      <td>0</td>\n",
       "      <td>no</td>\n",
       "      <td>0</td>\n",
       "      <td>0</td>\n",
       "      <td>4</td>\n",
       "      <td>2009</td>\n",
       "      <td>WD</td>\n",
       "      <td>220000</td>\n",
       "    </tr>\n",
       "    <tr>\n",
       "      <th>2</th>\n",
       "      <td>20</td>\n",
       "      <td>RL</td>\n",
       "      <td>68.0</td>\n",
       "      <td>7922</td>\n",
       "      <td>Pave</td>\n",
       "      <td>no</td>\n",
       "      <td>Reg</td>\n",
       "      <td>Lvl</td>\n",
       "      <td>AllPub</td>\n",
       "      <td>Inside</td>\n",
       "      <td>...</td>\n",
       "      <td>0</td>\n",
       "      <td>0</td>\n",
       "      <td>0</td>\n",
       "      <td>no</td>\n",
       "      <td>0</td>\n",
       "      <td>0</td>\n",
       "      <td>1</td>\n",
       "      <td>2010</td>\n",
       "      <td>WD</td>\n",
       "      <td>109000</td>\n",
       "    </tr>\n",
       "    <tr>\n",
       "      <th>3</th>\n",
       "      <td>60</td>\n",
       "      <td>RL</td>\n",
       "      <td>73.0</td>\n",
       "      <td>9802</td>\n",
       "      <td>Pave</td>\n",
       "      <td>no</td>\n",
       "      <td>Reg</td>\n",
       "      <td>Lvl</td>\n",
       "      <td>AllPub</td>\n",
       "      <td>Inside</td>\n",
       "      <td>...</td>\n",
       "      <td>0</td>\n",
       "      <td>0</td>\n",
       "      <td>0</td>\n",
       "      <td>no</td>\n",
       "      <td>0</td>\n",
       "      <td>0</td>\n",
       "      <td>4</td>\n",
       "      <td>2010</td>\n",
       "      <td>WD</td>\n",
       "      <td>174000</td>\n",
       "    </tr>\n",
       "    <tr>\n",
       "      <th>4</th>\n",
       "      <td>50</td>\n",
       "      <td>RL</td>\n",
       "      <td>82.0</td>\n",
       "      <td>14235</td>\n",
       "      <td>Pave</td>\n",
       "      <td>no</td>\n",
       "      <td>IR1</td>\n",
       "      <td>Lvl</td>\n",
       "      <td>AllPub</td>\n",
       "      <td>Inside</td>\n",
       "      <td>...</td>\n",
       "      <td>0</td>\n",
       "      <td>0</td>\n",
       "      <td>0</td>\n",
       "      <td>no</td>\n",
       "      <td>0</td>\n",
       "      <td>0</td>\n",
       "      <td>3</td>\n",
       "      <td>2010</td>\n",
       "      <td>WD</td>\n",
       "      <td>138500</td>\n",
       "    </tr>\n",
       "  </tbody>\n",
       "</table>\n",
       "<p>5 rows × 79 columns</p>\n",
       "</div>"
      ],
      "text/plain": [
       "   ms_subclass ms_zoning  lot_frontage  lot_area street alley lot_shape  \\\n",
       "0           60        RL           0.0     13517   Pave    no       IR1   \n",
       "1           60        RL          43.0     11492   Pave    no       IR1   \n",
       "2           20        RL          68.0      7922   Pave    no       Reg   \n",
       "3           60        RL          73.0      9802   Pave    no       Reg   \n",
       "4           50        RL          82.0     14235   Pave    no       IR1   \n",
       "\n",
       "  land_contour utilities lot_config  ... screen_porch pool_area pool_qc fence  \\\n",
       "0          Lvl    AllPub    CulDSac  ...            0         0       0    no   \n",
       "1          Lvl    AllPub    CulDSac  ...            0         0       0    no   \n",
       "2          Lvl    AllPub     Inside  ...            0         0       0    no   \n",
       "3          Lvl    AllPub     Inside  ...            0         0       0    no   \n",
       "4          Lvl    AllPub     Inside  ...            0         0       0    no   \n",
       "\n",
       "  misc_feature misc_val  mo_sold  yr_sold  sale_type  saleprice  \n",
       "0            0        0        3     2010        WD      130500  \n",
       "1            0        0        4     2009        WD      220000  \n",
       "2            0        0        1     2010        WD      109000  \n",
       "3            0        0        4     2010        WD      174000  \n",
       "4            0        0        3     2010        WD      138500  \n",
       "\n",
       "[5 rows x 79 columns]"
      ]
     },
     "execution_count": 2,
     "metadata": {},
     "output_type": "execute_result"
    }
   ],
   "source": [
    "#load in the data\n",
    "train = pd.read_csv('./datasets/train_data_cleaned_v2') #after the updates\n",
    "train.drop(columns= ['Unnamed: 0'], inplace=True)\n",
    "train.head()"
   ]
  },
  {
   "cell_type": "code",
   "execution_count": 3,
   "id": "049d3bd6-ab36-445c-bb70-c459a1c10c40",
   "metadata": {},
   "outputs": [
    {
     "data": {
      "text/plain": [
       "0"
      ]
     },
     "execution_count": 3,
     "metadata": {},
     "output_type": "execute_result"
    }
   ],
   "source": [
    "#recheck for any nulls or weirdness\n",
    "train.isna().sum().sum()"
   ]
  },
  {
   "cell_type": "code",
   "execution_count": 4,
   "id": "f230b102-65e0-49d2-aa40-49f0baec553b",
   "metadata": {},
   "outputs": [],
   "source": [
    "#only 6 lets fill those and resave it\n",
    "train.fillna(0, inplace=True)"
   ]
  },
  {
   "cell_type": "code",
   "execution_count": 5,
   "id": "c16a6338-7d49-4588-93aa-69cf76546d9c",
   "metadata": {},
   "outputs": [
    {
     "data": {
      "text/plain": [
       "0"
      ]
     },
     "execution_count": 5,
     "metadata": {},
     "output_type": "execute_result"
    }
   ],
   "source": [
    "train.isna().sum().sum()"
   ]
  },
  {
   "cell_type": "code",
   "execution_count": 6,
   "id": "08fadaed-05b8-413d-be6d-0d9d23329a46",
   "metadata": {},
   "outputs": [],
   "source": [
    "#train.to_csv('./datasets/train_data_cleaned_v2')"
   ]
  },
  {
   "cell_type": "code",
   "execution_count": 7,
   "id": "6e0df283-8757-4907-b629-300d9d43192d",
   "metadata": {},
   "outputs": [
    {
     "data": {
      "text/plain": [
       "ms_subclass       int64\n",
       "ms_zoning        object\n",
       "lot_frontage    float64\n",
       "lot_area          int64\n",
       "street           object\n",
       "                 ...   \n",
       "misc_val          int64\n",
       "mo_sold           int64\n",
       "yr_sold           int64\n",
       "sale_type        object\n",
       "saleprice         int64\n",
       "Length: 79, dtype: object"
      ]
     },
     "execution_count": 7,
     "metadata": {},
     "output_type": "execute_result"
    }
   ],
   "source": [
    "train.dtypes"
   ]
  },
  {
   "cell_type": "code",
   "execution_count": 8,
   "id": "e32313aa-83fe-4939-933c-8e0ffc15a00e",
   "metadata": {},
   "outputs": [
    {
     "data": {
      "text/html": [
       "<div>\n",
       "<style scoped>\n",
       "    .dataframe tbody tr th:only-of-type {\n",
       "        vertical-align: middle;\n",
       "    }\n",
       "\n",
       "    .dataframe tbody tr th {\n",
       "        vertical-align: top;\n",
       "    }\n",
       "\n",
       "    .dataframe thead th {\n",
       "        text-align: right;\n",
       "    }\n",
       "</style>\n",
       "<table border=\"1\" class=\"dataframe\">\n",
       "  <thead>\n",
       "    <tr style=\"text-align: right;\">\n",
       "      <th></th>\n",
       "      <th>ms_subclass</th>\n",
       "      <th>ms_zoning</th>\n",
       "      <th>lot_frontage</th>\n",
       "      <th>lot_area</th>\n",
       "      <th>street</th>\n",
       "      <th>alley</th>\n",
       "      <th>lot_shape</th>\n",
       "      <th>land_contour</th>\n",
       "      <th>utilities</th>\n",
       "      <th>lot_config</th>\n",
       "      <th>...</th>\n",
       "      <th>screen_porch</th>\n",
       "      <th>pool_area</th>\n",
       "      <th>pool_qc</th>\n",
       "      <th>fence</th>\n",
       "      <th>misc_feature</th>\n",
       "      <th>misc_val</th>\n",
       "      <th>mo_sold</th>\n",
       "      <th>yr_sold</th>\n",
       "      <th>sale_type</th>\n",
       "      <th>saleprice</th>\n",
       "    </tr>\n",
       "  </thead>\n",
       "  <tbody>\n",
       "    <tr>\n",
       "      <th>0</th>\n",
       "      <td>60</td>\n",
       "      <td>RL</td>\n",
       "      <td>0.0</td>\n",
       "      <td>13517</td>\n",
       "      <td>Pave</td>\n",
       "      <td>no</td>\n",
       "      <td>IR1</td>\n",
       "      <td>Lvl</td>\n",
       "      <td>AllPub</td>\n",
       "      <td>CulDSac</td>\n",
       "      <td>...</td>\n",
       "      <td>0</td>\n",
       "      <td>0</td>\n",
       "      <td>0</td>\n",
       "      <td>no</td>\n",
       "      <td>0</td>\n",
       "      <td>0</td>\n",
       "      <td>3</td>\n",
       "      <td>2010</td>\n",
       "      <td>WD</td>\n",
       "      <td>130500</td>\n",
       "    </tr>\n",
       "    <tr>\n",
       "      <th>1</th>\n",
       "      <td>60</td>\n",
       "      <td>RL</td>\n",
       "      <td>43.0</td>\n",
       "      <td>11492</td>\n",
       "      <td>Pave</td>\n",
       "      <td>no</td>\n",
       "      <td>IR1</td>\n",
       "      <td>Lvl</td>\n",
       "      <td>AllPub</td>\n",
       "      <td>CulDSac</td>\n",
       "      <td>...</td>\n",
       "      <td>0</td>\n",
       "      <td>0</td>\n",
       "      <td>0</td>\n",
       "      <td>no</td>\n",
       "      <td>0</td>\n",
       "      <td>0</td>\n",
       "      <td>4</td>\n",
       "      <td>2009</td>\n",
       "      <td>WD</td>\n",
       "      <td>220000</td>\n",
       "    </tr>\n",
       "    <tr>\n",
       "      <th>2</th>\n",
       "      <td>20</td>\n",
       "      <td>RL</td>\n",
       "      <td>68.0</td>\n",
       "      <td>7922</td>\n",
       "      <td>Pave</td>\n",
       "      <td>no</td>\n",
       "      <td>Reg</td>\n",
       "      <td>Lvl</td>\n",
       "      <td>AllPub</td>\n",
       "      <td>Inside</td>\n",
       "      <td>...</td>\n",
       "      <td>0</td>\n",
       "      <td>0</td>\n",
       "      <td>0</td>\n",
       "      <td>no</td>\n",
       "      <td>0</td>\n",
       "      <td>0</td>\n",
       "      <td>1</td>\n",
       "      <td>2010</td>\n",
       "      <td>WD</td>\n",
       "      <td>109000</td>\n",
       "    </tr>\n",
       "  </tbody>\n",
       "</table>\n",
       "<p>3 rows × 79 columns</p>\n",
       "</div>"
      ],
      "text/plain": [
       "   ms_subclass ms_zoning  lot_frontage  lot_area street alley lot_shape  \\\n",
       "0           60        RL           0.0     13517   Pave    no       IR1   \n",
       "1           60        RL          43.0     11492   Pave    no       IR1   \n",
       "2           20        RL          68.0      7922   Pave    no       Reg   \n",
       "\n",
       "  land_contour utilities lot_config  ... screen_porch pool_area pool_qc fence  \\\n",
       "0          Lvl    AllPub    CulDSac  ...            0         0       0    no   \n",
       "1          Lvl    AllPub    CulDSac  ...            0         0       0    no   \n",
       "2          Lvl    AllPub     Inside  ...            0         0       0    no   \n",
       "\n",
       "  misc_feature misc_val  mo_sold  yr_sold  sale_type  saleprice  \n",
       "0            0        0        3     2010        WD      130500  \n",
       "1            0        0        4     2009        WD      220000  \n",
       "2            0        0        1     2010        WD      109000  \n",
       "\n",
       "[3 rows x 79 columns]"
      ]
     },
     "execution_count": 8,
     "metadata": {},
     "output_type": "execute_result"
    }
   ],
   "source": [
    "train.head(3)"
   ]
  },
  {
   "cell_type": "code",
   "execution_count": 9,
   "id": "3e4cc886-3f8c-4a98-ac7b-2584ed5392e5",
   "metadata": {},
   "outputs": [
    {
     "data": {
      "text/html": [
       "<div>\n",
       "<style scoped>\n",
       "    .dataframe tbody tr th:only-of-type {\n",
       "        vertical-align: middle;\n",
       "    }\n",
       "\n",
       "    .dataframe tbody tr th {\n",
       "        vertical-align: top;\n",
       "    }\n",
       "\n",
       "    .dataframe thead th {\n",
       "        text-align: right;\n",
       "    }\n",
       "</style>\n",
       "<table border=\"1\" class=\"dataframe\">\n",
       "  <thead>\n",
       "    <tr style=\"text-align: right;\">\n",
       "      <th></th>\n",
       "      <th>ms_subclass</th>\n",
       "      <th>ms_zoning</th>\n",
       "      <th>lot_frontage</th>\n",
       "      <th>lot_area</th>\n",
       "      <th>street</th>\n",
       "      <th>alley</th>\n",
       "      <th>lot_shape</th>\n",
       "      <th>land_contour</th>\n",
       "      <th>utilities</th>\n",
       "      <th>lot_config</th>\n",
       "      <th>...</th>\n",
       "      <th>screen_porch</th>\n",
       "      <th>pool_area</th>\n",
       "      <th>pool_qc</th>\n",
       "      <th>fence</th>\n",
       "      <th>misc_feature</th>\n",
       "      <th>misc_val</th>\n",
       "      <th>mo_sold</th>\n",
       "      <th>yr_sold</th>\n",
       "      <th>sale_type</th>\n",
       "      <th>saleprice</th>\n",
       "    </tr>\n",
       "  </thead>\n",
       "  <tbody>\n",
       "    <tr>\n",
       "      <th>1514</th>\n",
       "      <td>150</td>\n",
       "      <td>RL</td>\n",
       "      <td>0.0</td>\n",
       "      <td>1700</td>\n",
       "      <td>Pave</td>\n",
       "      <td>no</td>\n",
       "      <td>Reg</td>\n",
       "      <td>HLS</td>\n",
       "      <td>AllPub</td>\n",
       "      <td>Inside</td>\n",
       "      <td>...</td>\n",
       "      <td>200</td>\n",
       "      <td>0</td>\n",
       "      <td>0</td>\n",
       "      <td>no</td>\n",
       "      <td>0</td>\n",
       "      <td>0</td>\n",
       "      <td>4</td>\n",
       "      <td>2006</td>\n",
       "      <td>WD</td>\n",
       "      <td>148400</td>\n",
       "    </tr>\n",
       "  </tbody>\n",
       "</table>\n",
       "<p>1 rows × 79 columns</p>\n",
       "</div>"
      ],
      "text/plain": [
       "      ms_subclass ms_zoning  lot_frontage  lot_area street alley lot_shape  \\\n",
       "1514          150        RL           0.0      1700   Pave    no       Reg   \n",
       "\n",
       "     land_contour utilities lot_config  ... screen_porch pool_area pool_qc  \\\n",
       "1514          HLS    AllPub     Inside  ...          200         0       0   \n",
       "\n",
       "     fence misc_feature misc_val  mo_sold  yr_sold  sale_type  saleprice  \n",
       "1514    no            0        0        4     2006        WD      148400  \n",
       "\n",
       "[1 rows x 79 columns]"
      ]
     },
     "execution_count": 9,
     "metadata": {},
     "output_type": "execute_result"
    }
   ],
   "source": [
    "train[train['ms_subclass'] == 150]"
   ]
  },
  {
   "cell_type": "code",
   "execution_count": 10,
   "id": "0a83fe4e-0311-43a8-9541-b38e98819ce5",
   "metadata": {},
   "outputs": [],
   "source": [
    "#we know from the common features model that the test data set does not have any values that are ms_subclass == 150, so we drop the one here\n",
    "#150 is a 1-1/2 story PUD or planned unit development this article (https://www.redfin.com/guides/what-is-a-planned-unit-development) suggests it is similar to a condo or townhouse\n",
    "train.drop([1514], inplace= True)"
   ]
  },
  {
   "cell_type": "markdown",
   "id": "4f4761a0-2d7b-4617-ba6b-2d80b2a95660",
   "metadata": {},
   "source": [
    "### Let's Try a Kitchen Sink Model"
   ]
  },
  {
   "cell_type": "code",
   "execution_count": 11,
   "id": "7ad461e0-2dcf-4b29-928a-44274547e461",
   "metadata": {},
   "outputs": [],
   "source": [
    "#not duplicates\n",
    "#train[['condition_1', 'condition_2']].sort_values('condition_1')"
   ]
  },
  {
   "cell_type": "code",
   "execution_count": 12,
   "id": "584682c3-e19b-4a76-9463-a37f4f958e33",
   "metadata": {},
   "outputs": [],
   "source": [
    "#pd.get_dummies(train['misc_feature'], drop_first=True)"
   ]
  },
  {
   "cell_type": "code",
   "execution_count": 13,
   "id": "76b3eb5c-0f32-447b-b1a8-787be6b2008c",
   "metadata": {},
   "outputs": [],
   "source": [
    "### One Hot Encode or Dummy variables to transform categorical variables into a format that can be used in regression\n",
    "ms_subclass = pd.get_dummies(data=train['ms_subclass'], prefix= 'ms_subclass', drop_first=True)\n",
    "ms_zoning   = pd.get_dummies(data=train['ms_zoning'], prefix= 'ms_zoning', drop_first=True)\n",
    "street      = pd.get_dummies(data=train['street'], prefix= 'access_', drop_first=True)\n",
    "alley       = pd.get_dummies(data=train['alley'], prefix= 'alley_', drop_first=True)\n",
    "land_countour = pd.get_dummies(data=train['land_contour'], prefix= 'land_contour_', drop_first=True)\n",
    "lot_config  = pd.get_dummies(data=train['lot_config'], prefix= 'lot_config_', drop_first=True)\n",
    "neighborhood  = pd.get_dummies(data=train['neighborhood'], prefix='neighborhood_', drop_first=True)\n",
    "condition_1 = pd.get_dummies(train['condition_1'], prefix= 'cnd_1_', drop_first=True)\n",
    "condition_2 = pd.get_dummies(train['condition_2'], prefix= 'cnd_2_', drop_first=True)\n",
    "bldg_type   = pd.get_dummies(train['bldg_type'], prefix= 'bldg_type_', drop_first=True)\n",
    "house_style  = pd.get_dummies(train['house_style'], prefix= 'house_style_', drop_first=True)\n",
    "roof_style  = pd.get_dummies(train['roof_style'], prefix= 'roof_style_', drop_first=True)\n",
    "roof_matl   = pd.get_dummies(train['roof_matl'], prefix= 'roof_matl_', drop_first=True)\n",
    "extr_1      = pd.get_dummies(train['exterior_1st'], prefix = 'ext_1_', drop_first=True)\n",
    "extr_2      = pd.get_dummies(train['exterior_2nd'], prefix = 'ext_2_', drop_first=True)\n",
    "mas_vnr_type = pd.get_dummies(train['mas_vnr_type'], prefix = 'mas_vnr_type_', drop_first=True)\n",
    "foundation  = pd.get_dummies(train['foundation'], prefix= 'foundation_', drop_first=True)\n",
    "heating     = pd.get_dummies(train['heating'], prefix= 'heating_', drop_first=True)\n",
    "central_air = pd.get_dummies(train['central_air'], prefix= 'central_air_', drop_first=True)\n",
    "garage_type = pd.get_dummies(train['garage_type'], prefix= 'garage_type', drop_first=True)\n",
    "misc_feat   = pd.get_dummies(train['misc_feature'], prefix='misc_feat_', drop_first=True)\n",
    "\n",
    "dummies=[ms_subclass, ms_zoning, street, alley, land_countour, lot_config, neighborhood, condition_1, condition_2, bldg_type, house_style, roof_style, roof_matl,\n",
    "        extr_1, extr_2, mas_vnr_type, foundation, heating, central_air, garage_type, misc_feat]"
   ]
  },
  {
   "cell_type": "code",
   "execution_count": 14,
   "id": "b6781ac6-b33d-4ae5-81ba-600d5d9dad42",
   "metadata": {},
   "outputs": [
    {
     "name": "stdout",
     "output_type": "stream",
     "text": [
      "Index(['ms_subclass', 'ms_zoning', 'lot_frontage', 'lot_area', 'street',\n",
      "       'alley', 'lot_shape', 'land_contour', 'utilities', 'lot_config',\n",
      "       ...\n",
      "       'garage_type_2Types', 'garage_type_Attchd', 'garage_type_Basment',\n",
      "       'garage_type_BuiltIn', 'garage_type_CarPort', 'garage_type_Detchd',\n",
      "       'misc_feat__Gar2', 'misc_feat__Othr', 'misc_feat__Shed',\n",
      "       'misc_feat__TenC'],\n",
      "      dtype='object', length=222)\n"
     ]
    }
   ],
   "source": [
    "for dummy in dummies:\n",
    "    train = train.join(other=dummy)\n",
    "    \n",
    "print(train.columns)"
   ]
  },
  {
   "cell_type": "code",
   "execution_count": 15,
   "id": "f51e4d13-532d-4263-93a9-2b7a4763a5c6",
   "metadata": {},
   "outputs": [],
   "source": [
    "# casting/mapping out ordinal variables\n",
    "train['lot_shape'] = train['lot_shape'].map({'Reg': 4, 'IR1' : 3, 'IR2' : 2, 'IR3' : 1})\n",
    "train['utilities'] = train['utilities'].map({'AllPub': 1, 'NoSewr' : 0, 'NoSeWa' : 0, 'ELO' : 0})\n",
    "train['land_slope'] = train['land_slope'].map({'Gtl' : 3, 'Mod': 2, 'Sev': 1})\n",
    "train['bsmt_cond'] = train['bsmt_cond'].map({'Ex' : 5, 'Gd' : 4, 'TA' : 3, 'Fa' : 2, 'Po': 1,})\n",
    "train['bsmt_exposure'] = train['bsmt_exposure'].map({'Gd': 3, 'Av' : 2, 'Mn' : 1, 'No' : 0, 0: 0})\n",
    "train['bsmtfin_type_1'] = train['bsmtfin_type_1'].map({'GLQ' : 4, 'ALQ' : 3, 'BLQ' : 2, 'Rec' : 3, 'LwQ' : 1, 'Unf' : 1, 0 : 0})\n",
    "train['bsmtfin_type_2'] = train['bsmtfin_type_2'].map({'GLQ' : 4, 'ALQ' : 3, 'BLQ' : 2, 'Rec' : 3, 'LwQ' : 1, 'Unf' : 1, 0 : 0})\n",
    "train['heating_qc'] = train['heating_qc'].map({'Ex' : 5, 'Gd' : 4, 'TA' : 3, 'Fa' : 2, 'Po': 1})\n",
    "train['electrical'] = train['electrical'].map({'Sbrkr' : 4, 'FuseA' : 3, 'FuseF' : 2, 'FuseP' : 1, 'Mix' : 2})\n",
    "train['kitchen_qual'] = train['kitchen_qual'].map({'Ex' : 5, 'Gd' : 4, 'TA' : 3, 'Fa' : 2, 'Po': 1})\n",
    "train['functional'] = train['functional'].map({'Typ': 7, 'Min1' : 6, 'Min2' : 5, 'Mod' : 4, 'Maj1' : 3, 'Maj2' : 2, 'Sev' : 1, 'Sal' : 0})\n",
    "train['fireplace_qu'] = train['fireplace_qu'].map({'Ex' : 5, 'Gd' : 4, 'TA' : 3, 'Fa' : 2, 'Po': 1, 0 : 0})\n",
    "train['garage_finish'] = train['garage_finish'].map({'Fin': 3, 'RFn' : 2, 'Unf' : 1, 0 :0})\n",
    "train['garage_qual'] = train['garage_qual'].map({'Ex' : 5, 'Gd' : 4, 'TA' : 3, 'Fa' : 2, 'Po': 1})\n",
    "train['garage_cond'] = train['garage_cond'].map({'Ex' : 5, 'Gd' : 4, 'TA' : 3, 'Fa' : 2, 'Po' : 1, 0 : 0})\n",
    "train['paved_drive'] = train['paved_drive'].map({'Y' : 2, 'P' : 1, 'N' : 0})\n",
    "train['pool_qc'] = train['pool_qc'].map({'Ex' : 4, 'Gd' : 3, 'TA' : 2, 'Fa' : 1, 0 : 0})\n",
    "train['fence'] = train['fence'].map({'GdPrv': 4, 'MnPrv' : 3, 'GdWo' : 2, 'MnWw' : 1, 'no' : 0})\n",
    "train['exter_cond'] = train['exter_cond'].map({'Ex' : 5, 'Gd' : 4, 'TA' : 3, 'Fa' : 2, 'Po': 1, 0 : 0})\n",
    "train['exter_qual'] = train['exter_qual'].map({'Ex' : 5, 'Gd' : 4, 'TA' : 3, 'Fa' : 2, 'Po': 1, 0 : 0})"
   ]
  },
  {
   "cell_type": "code",
   "execution_count": 16,
   "id": "1851d29f-8d03-4991-8e17-941c49252622",
   "metadata": {},
   "outputs": [
    {
     "data": {
      "text/plain": [
       "5470"
      ]
     },
     "execution_count": 16,
     "metadata": {},
     "output_type": "execute_result"
    }
   ],
   "source": [
    "train.isna().sum().sum()"
   ]
  },
  {
   "cell_type": "code",
   "execution_count": 17,
   "id": "4498ec71-5d19-4ddf-9ae5-85d991e4a46d",
   "metadata": {},
   "outputs": [
    {
     "data": {
      "text/plain": [
       "0"
      ]
     },
     "execution_count": 17,
     "metadata": {},
     "output_type": "execute_result"
    }
   ],
   "source": [
    "#itrated through above columns to ensure they have no nulls\n",
    "train['exter_qual'].isna().sum()"
   ]
  },
  {
   "cell_type": "code",
   "execution_count": 18,
   "id": "094d4806-6984-48a0-8f82-c5bb19edaed9",
   "metadata": {},
   "outputs": [],
   "source": [
    "train['exter_qual'] = train.exter_qual.map(lambda exter_qual : int(exter_qual))"
   ]
  },
  {
   "cell_type": "code",
   "execution_count": 19,
   "id": "9be8c2f8-eba7-451c-9162-e9b50027d49a",
   "metadata": {},
   "outputs": [
    {
     "data": {
      "text/plain": [
       "3    1247\n",
       "4     696\n",
       "5      79\n",
       "2      26\n",
       "Name: exter_qual, dtype: int64"
      ]
     },
     "execution_count": 19,
     "metadata": {},
     "output_type": "execute_result"
    }
   ],
   "source": [
    "train['exter_qual'].value_counts()"
   ]
  },
  {
   "cell_type": "code",
   "execution_count": 20,
   "id": "384cc0d7-0447-46ef-b830-96d89ee8945d",
   "metadata": {},
   "outputs": [],
   "source": [
    "def col_to_int_no_nulls(col):\n",
    "    if train[col].isna().sum() <1:\n",
    "            train[col] = train[col].map(lambda col : int(col))\n",
    "    else:\n",
    "        train[col].fillna(0, inplace = True)\n",
    "        train[col] = train[col].map(lambda col : int(col))\n",
    "    \n",
    "    return train[col].value_counts()"
   ]
  },
  {
   "cell_type": "code",
   "execution_count": 24,
   "id": "23979b89-36d2-4651-a826-58dc5a634fa8",
   "metadata": {},
   "outputs": [],
   "source": [
    "features = train.drop(columns= 'saleprice')"
   ]
  },
  {
   "cell_type": "code",
   "execution_count": 32,
   "id": "d3596e08-b22f-4f5b-88fb-e77e338220a2",
   "metadata": {},
   "outputs": [
    {
     "data": {
      "text/plain": [
       "[]"
      ]
     },
     "execution_count": 32,
     "metadata": {},
     "output_type": "execute_result"
    }
   ],
   "source": [
    "[col_to_int_no_nulls(col) for col in features if type(col) == float]"
   ]
  },
  {
   "cell_type": "code",
   "execution_count": 50,
   "id": "bbf63781-d285-4f42-b5a2-406944bbbfec",
   "metadata": {},
   "outputs": [
    {
     "data": {
      "text/plain": [
       "3    1247\n",
       "4     696\n",
       "5      79\n",
       "2      26\n",
       "Name: exter_qual, dtype: int64"
      ]
     },
     "execution_count": 50,
     "metadata": {},
     "output_type": "execute_result"
    }
   ],
   "source": [
    "col_to_int_no_nulls('exter_qual')"
   ]
  },
  {
   "cell_type": "code",
   "execution_count": 51,
   "id": "e292c26d-db24-4978-88e0-4c4bc3415f3e",
   "metadata": {},
   "outputs": [],
   "source": [
    "#feature interactions \n",
    "train['total_sf'] = train['total_bsmt_sf'] + train['gr_liv_area']\n",
    "\n",
    "train['overalls'] = train['overall_cond'] * train['overall_qual']\n",
    "\n",
    "train['extr_overalls'] = train['exter_cond'] * train['exter_qual']\n",
    "\n",
    "train['bedbathbynd']  = train['full_bath'] * train['totrms_abvgrd'] * train['bedroom_abvgr']\n",
    "\n",
    "train['bsmt_overall'] = train['bsmt_cond'] * train['bsmt_qual']\n",
    "\n",
    "train['garage_overalls'] = train['garage_qual'] * train['garage_cond'] * train['garage_finish'] * train['garage_cars']"
   ]
  },
  {
   "cell_type": "code",
   "execution_count": 52,
   "id": "e88aae06-6ab8-4631-9732-91216a4e6da4",
   "metadata": {},
   "outputs": [],
   "source": [
    "#from hackathon find found here (https://stackoverflow.com/questions/25039626/how-do-i-find-numeric-columns-in-pandas)\n",
    "numerics = ['uint8', 'float64', 'int32', 'float16', 'float32', 'int64']\n",
    "\n",
    "train_numeric = train.select_dtypes(include=numerics)"
   ]
  },
  {
   "cell_type": "code",
   "execution_count": 53,
   "id": "154dcac6-056e-4818-a0d1-72259fccd4bf",
   "metadata": {},
   "outputs": [
    {
     "data": {
      "text/plain": [
       "ms_subclass        0\n",
       "lot_frontage       0\n",
       "lot_area           0\n",
       "lot_shape          0\n",
       "utilities          0\n",
       "                  ..\n",
       "total_sf           0\n",
       "overalls           0\n",
       "extr_overalls      0\n",
       "bedbathbynd        0\n",
       "garage_overalls    0\n",
       "Length: 205, dtype: int64"
      ]
     },
     "execution_count": 53,
     "metadata": {},
     "output_type": "execute_result"
    }
   ],
   "source": [
    "train_numeric.isna().sum()"
   ]
  },
  {
   "cell_type": "code",
   "execution_count": 54,
   "id": "36562552-9f90-47be-beb4-32f15a3d9524",
   "metadata": {},
   "outputs": [
    {
     "data": {
      "text/plain": [
       "(2048, 205)"
      ]
     },
     "execution_count": 54,
     "metadata": {},
     "output_type": "execute_result"
    }
   ],
   "source": [
    "train_numeric.shape"
   ]
  },
  {
   "cell_type": "markdown",
   "id": "4c0d9961-0959-4b4f-9019-bad844f56e53",
   "metadata": {},
   "source": [
    "We now have a very large dataframe, with a number of features. However we need to drop the columns that were used to create the feature interactions to protect against multicollinearity. "
   ]
  },
  {
   "cell_type": "code",
   "execution_count": 55,
   "id": "9ac51667-f3ea-417b-8109-c186678a16d2",
   "metadata": {},
   "outputs": [
    {
     "data": {
      "text/plain": [
       "0        754\n",
       "1       1209\n",
       "2          0\n",
       "3        700\n",
       "4        614\n",
       "        ... \n",
       "2044       0\n",
       "2045       0\n",
       "2046     741\n",
       "2047       0\n",
       "2048     776\n",
       "Name: 2nd_flr_sf, Length: 2048, dtype: int64"
      ]
     },
     "execution_count": 55,
     "metadata": {},
     "output_type": "execute_result"
    }
   ],
   "source": [
    "train['2nd_flr_sf'] "
   ]
  },
  {
   "cell_type": "code",
   "execution_count": 58,
   "id": "56b923a6-57db-4c63-9772-db5486e0a831",
   "metadata": {},
   "outputs": [],
   "source": [
    "train_numeric.drop(columns=['total_bsmt_sf', 'gr_liv_area', 'overall_cond', 'overall_qual', 'exter_cond', 'exter_qual', 'full_bath', 'half_bath', 'totrms_abvgrd',\n",
    "                            'bedroom_abvgr', 'bsmt_cond', 'garage_qual', 'garage_cond', 'garage_finish', 'garage_cars', '1st_flr_sf', '2nd_flr_sf'], inplace=True)"
   ]
  },
  {
   "cell_type": "code",
   "execution_count": 119,
   "id": "56af32a4-5c58-43d5-b70c-c706e23a9dc0",
   "metadata": {},
   "outputs": [],
   "source": [
    "#additional features to drop that are not in the test set\n",
    "train_numeric.drop(columns=['ms_zoning_C (all)','alley__no', 'neighborhood__GrnHill','neighborhood__Landmrk','cnd_2__Feedr','cnd_2__PosN','cnd_2__RRAe','cnd_2__RRAn',\n",
    "                   'cnd_2__RRNn', 'roof_matl__Membran', 'ext_1__CBlock', 'ext_1__ImStucc', 'ext_1__Stone', 'ext_2__Stone', 'heating__OthW', 'heating__Wall', 'garage_type_2Types',\n",
    "                    'misc_feat__Gar2', 'misc_feat__TenC'], inplace= True)"
   ]
  },
  {
   "cell_type": "code",
   "execution_count": 125,
   "id": "32526cd9-66e8-448b-a238-373cfe375c5e",
   "metadata": {},
   "outputs": [],
   "source": [
    "#saleprice = train['saleprice']"
   ]
  },
  {
   "cell_type": "code",
   "execution_count": 130,
   "id": "2673ddb4-29c1-4138-ad00-86a8736a7eb7",
   "metadata": {},
   "outputs": [],
   "source": [
    "#train_numeric = train_numeric.join(other= saleprice)"
   ]
  },
  {
   "cell_type": "code",
   "execution_count": 120,
   "id": "e1a5099d-36f7-42eb-a4bc-934ed25f9cba",
   "metadata": {},
   "outputs": [],
   "source": [
    "#need to regularize the year built/remodeled to have an accurate age of the houses as opposed to just the year\n",
    "#the max year is 2010, so we'll set is as 2010 - year\n",
    "train_numeric['year_built']     = 2010 - train_numeric['year_built']\n",
    "train_numeric['year_remod/add'] = 2010 - train_numeric['year_remod/add']"
   ]
  },
  {
   "cell_type": "code",
   "execution_count": 131,
   "id": "657c3be8-6f8a-4033-9798-e0b8600b8cfe",
   "metadata": {},
   "outputs": [],
   "source": [
    "#fitting variables and using a 1/3 test, 2/3 train split\n",
    "X = train_numeric.drop(columns= 'saleprice')\n",
    "y = train_numeric['saleprice']\n",
    "\n",
    "X_train, X_test, y_train, y_test = train_test_split(X, y, random_state=3792, train_size= .66)"
   ]
  },
  {
   "cell_type": "code",
   "execution_count": 132,
   "id": "466f826c-dd6c-4e17-a817-6a3b09565411",
   "metadata": {},
   "outputs": [
    {
     "data": {
      "text/plain": [
       "LinearRegression()"
      ]
     },
     "execution_count": 132,
     "metadata": {},
     "output_type": "execute_result"
    }
   ],
   "source": [
    "lr = LinearRegression()\n",
    "lr.fit(X_train, y_train)"
   ]
  },
  {
   "cell_type": "code",
   "execution_count": 133,
   "id": "8ee769dd-34f9-403b-bbe1-0678880243f6",
   "metadata": {},
   "outputs": [
    {
     "data": {
      "text/plain": [
       "0.9284"
      ]
     },
     "execution_count": 133,
     "metadata": {},
     "output_type": "execute_result"
    }
   ],
   "source": [
    "round(lr.score(X_train, y_train), 4)"
   ]
  },
  {
   "cell_type": "code",
   "execution_count": 134,
   "id": "2f3f1e6f-b550-4f9f-a9dd-f686b04802db",
   "metadata": {},
   "outputs": [
    {
     "data": {
      "text/plain": [
       "0.8929"
      ]
     },
     "execution_count": 134,
     "metadata": {},
     "output_type": "execute_result"
    }
   ],
   "source": [
    "round(lr.score(X_test, y_test), 4)"
   ]
  },
  {
   "cell_type": "code",
   "execution_count": 135,
   "id": "fc5e7034-50e4-45e2-815d-5e327f4a8a40",
   "metadata": {},
   "outputs": [],
   "source": [
    "# We have an underfit model, it is prediciting higher than some of the other models, but its still a large discrepancy between the train and test"
   ]
  },
  {
   "cell_type": "markdown",
   "id": "49496c40-88dd-48bf-a3e0-72c4ffd01cfa",
   "metadata": {},
   "source": [
    "#### Regularization & Scaling"
   ]
  },
  {
   "cell_type": "code",
   "execution_count": 136,
   "id": "7f3a4ef7-b793-4d63-9341-3b5c5f00b596",
   "metadata": {},
   "outputs": [],
   "source": [
    "#we need to scale our data first before using a Lasso or ridge model\n",
    "sc = StandardScaler ()\n",
    "X_train_sc = sc.fit_transform(X_train)\n",
    "X_test_sc  = sc.fit_transform(X_test)"
   ]
  },
  {
   "cell_type": "code",
   "execution_count": 137,
   "id": "5e09e217-da3b-4036-af2f-9efe36f9ee0f",
   "metadata": {},
   "outputs": [
    {
     "data": {
      "text/plain": [
       "(1351, 168)"
      ]
     },
     "execution_count": 137,
     "metadata": {},
     "output_type": "execute_result"
    }
   ],
   "source": [
    "X_train_sc.shape"
   ]
  },
  {
   "cell_type": "code",
   "execution_count": 138,
   "id": "1c68b6ae-60ed-4eec-a838-b3192df138c6",
   "metadata": {},
   "outputs": [
    {
     "data": {
      "text/plain": [
       "(697, 168)"
      ]
     },
     "execution_count": 138,
     "metadata": {},
     "output_type": "execute_result"
    }
   ],
   "source": [
    "X_test_sc.shape"
   ]
  },
  {
   "cell_type": "code",
   "execution_count": 139,
   "id": "225539fc-4b4b-489f-b116-77e836ccb4a5",
   "metadata": {},
   "outputs": [
    {
     "data": {
      "text/plain": [
       "LinearRegression()"
      ]
     },
     "execution_count": 139,
     "metadata": {},
     "output_type": "execute_result"
    }
   ],
   "source": [
    "#lets check how our scaled data looks before we use regularization\n",
    "lr_sc = LinearRegression()\n",
    "lr_sc.fit(X= X_train_sc, y= y_train)"
   ]
  },
  {
   "cell_type": "code",
   "execution_count": 140,
   "id": "919d5ca7-8531-4554-afff-e11425db5249",
   "metadata": {},
   "outputs": [
    {
     "name": "stdout",
     "output_type": "stream",
     "text": [
      "0.9284\n",
      "-8.252431880959403e+21\n"
     ]
    },
    {
     "data": {
      "text/plain": [
       "(None, None)"
      ]
     },
     "execution_count": 140,
     "metadata": {},
     "output_type": "execute_result"
    }
   ],
   "source": [
    "#still not great\n",
    "print(round(lr_sc.score(X_train_sc, y_train), 4)), print(round(lr_sc.score(X_test_sc, y_test), 4))"
   ]
  },
  {
   "cell_type": "code",
   "execution_count": 141,
   "id": "41434f4a-83b3-4cef-a1f1-a456ffa0b70c",
   "metadata": {},
   "outputs": [
    {
     "name": "stdout",
     "output_type": "stream",
     "text": [
      "0.9277\n",
      "0.8879\n"
     ]
    }
   ],
   "source": [
    "#ridge instaniation\n",
    "ridge_model = RidgeCV(alphas= 10)\n",
    "\n",
    "#fit\n",
    "ridge_model.fit(X_train_sc, y_train)\n",
    "\n",
    "#scores\n",
    "print(round(ridge_model.score(X_train_sc, y_train), 4))\n",
    "print(round(ridge_model.score(X_test_sc, y_test), 4))"
   ]
  },
  {
   "cell_type": "markdown",
   "id": "1763f0d2-ec3d-4b63-892d-4d4d2487da5a",
   "metadata": {},
   "source": [
    "This is a bit of an improvement from the initial model above, but we've still got about a 4% point difference between the test and the training scores. Before moving over to Lasso lets see if we can use a brute force method to improve Ridge further."
   ]
  },
  {
   "cell_type": "code",
   "execution_count": 142,
   "id": "fd4d7ca8-c3cd-4dc7-add2-65241007ce73",
   "metadata": {},
   "outputs": [],
   "source": [
    "#example from the 3.06 regularization lesson\n",
    "#np.logspae will generate 100 values between 0 and 5 and then convert to 10^0 and 10^5\n",
    "r_alphas = np.logspace(0, 5, 100)\n",
    "\n",
    "#cross validate over the list of values\n",
    "ridge_cv = RidgeCV(alphas= r_alphas, scoring= 'r2', cv= 5)\n",
    "\n",
    "#fit the model using the best option from ridge\n",
    "ridge_cv = ridge_model.fit(X_train, y_train)"
   ]
  },
  {
   "cell_type": "code",
   "execution_count": 143,
   "id": "8c38742c-4152-4c4d-b14d-e3b53726539f",
   "metadata": {},
   "outputs": [
    {
     "data": {
      "text/plain": [
       "10"
      ]
     },
     "execution_count": 143,
     "metadata": {},
     "output_type": "execute_result"
    }
   ],
   "source": [
    "#the optimal value of alpha is 10 which is what we used initially, we can move over to LASSO now and see if that improves the model further\n",
    "ridge_cv.alpha_"
   ]
  },
  {
   "cell_type": "code",
   "execution_count": 144,
   "id": "ac2fac31-a566-4d69-b06f-906c520370d9",
   "metadata": {},
   "outputs": [
    {
     "data": {
      "text/plain": [
       "LassoCV(cv=5, max_iter=50000)"
      ]
     },
     "execution_count": 144,
     "metadata": {},
     "output_type": "execute_result"
    }
   ],
   "source": [
    "#lasso model instantiate, set CV to 5, max iterations to 50,000\n",
    "lasso_cv = LassoCV(cv= 5, max_iter= 50_000)\n",
    "\n",
    "#fit the model\n",
    "lasso_cv.fit(X_train_sc, y_train)"
   ]
  },
  {
   "cell_type": "code",
   "execution_count": 145,
   "id": "45777325-d400-4d72-a96c-2761a869570e",
   "metadata": {},
   "outputs": [
    {
     "data": {
      "text/plain": [
       "array([-3.59711553e+03,  1.70379560e+03,  3.65604468e+03, -0.00000000e+00,\n",
       "       -7.88876154e+01,  2.65122489e+02, -1.05092323e+04, -7.74011447e+02,\n",
       "        1.03110141e+04,  4.85893073e+03, -3.00982739e+02,  0.00000000e+00,\n",
       "       -0.00000000e+00, -1.63801159e+03, -9.58117048e+03,  7.52919698e+02,\n",
       "        4.82999497e+02, -2.65920217e+02,  6.06702977e+02, -1.09468091e+03,\n",
       "       -5.06255846e+02,  6.54158665e+03,  2.41266947e+03,  2.43482134e+03,\n",
       "        9.67358911e+02, -1.84999376e+03,  4.76545269e+03, -0.00000000e+00,\n",
       "        1.57217089e+03,  1.00303681e+02,  0.00000000e+00, -7.00731326e+02,\n",
       "        3.23982335e+03,  0.00000000e+00,  1.22293943e+03, -6.41910901e+02,\n",
       "        5.15355371e+01, -0.00000000e+00, -4.78560627e+02,  1.12283841e+03,\n",
       "       -0.00000000e+00,  3.05986710e+02,  5.13428410e+02,  1.00441544e+03,\n",
       "        4.03663596e+02,  0.00000000e+00,  0.00000000e+00, -3.02290023e+02,\n",
       "       -1.63371622e+03, -2.08911224e+03, -2.37701327e+03, -0.00000000e+00,\n",
       "       -0.00000000e+00,  2.67611276e+03,  1.37460548e+01,  0.00000000e+00,\n",
       "        0.00000000e+00, -6.26695854e+02,  4.33629797e+01, -1.11258485e+02,\n",
       "        2.04217698e+03, -1.29968317e+02,  0.00000000e+00,  2.74051476e+03,\n",
       "       -3.89641366e+02, -1.76820014e+02,  2.84895810e+02,  1.17406140e+02,\n",
       "        5.50727471e+02,  6.39100216e+02,  0.00000000e+00, -1.37580764e+03,\n",
       "        1.08477103e+03, -1.80631989e+03, -2.83429431e+02, -0.00000000e+00,\n",
       "       -4.91265179e+02, -1.71040091e+02, -3.15503464e+02, -2.75036375e+03,\n",
       "        9.60045910e+02, -2.29573583e+03,  2.29614150e+03,  6.54889626e+03,\n",
       "       -1.41300329e+03, -0.00000000e+00,  0.00000000e+00, -9.54652119e+02,\n",
       "        5.93844769e+02,  7.40016888e+03,  0.00000000e+00,  2.56251647e+02,\n",
       "        1.18208027e+02,  1.73498429e+03,  2.48571010e+02,  1.76050999e+03,\n",
       "       -1.12862722e+03,  0.00000000e+00,  0.00000000e+00, -0.00000000e+00,\n",
       "        5.13228828e+01,  1.08494861e+03, -0.00000000e+00, -3.22672268e+02,\n",
       "       -2.84533703e+02, -0.00000000e+00,  0.00000000e+00, -5.43265961e+02,\n",
       "       -8.02003011e+02,  9.79978051e+02,  0.00000000e+00, -0.00000000e+00,\n",
       "        0.00000000e+00, -0.00000000e+00, -0.00000000e+00,  1.44644971e+03,\n",
       "       -0.00000000e+00, -0.00000000e+00, -2.10890220e+02, -4.48530328e+02,\n",
       "        6.87054077e+02,  1.65424545e+02,  0.00000000e+00,  2.98496572e+03,\n",
       "        1.27951420e+03, -0.00000000e+00,  0.00000000e+00, -4.44541607e+01,\n",
       "        1.25404657e+02, -0.00000000e+00, -0.00000000e+00,  2.54431577e+02,\n",
       "        0.00000000e+00,  0.00000000e+00, -8.60320231e+02,  0.00000000e+00,\n",
       "        0.00000000e+00, -2.12762382e+03, -4.80225176e+02,  5.30336076e+02,\n",
       "       -1.61255621e+03, -0.00000000e+00,  0.00000000e+00,  0.00000000e+00,\n",
       "       -2.46148367e+02, -2.16672250e+03,  2.83086655e+03,  2.01623580e+03,\n",
       "       -3.14653121e+02,  2.05885209e+03,  1.11577175e+03,  1.19751010e+02,\n",
       "        0.00000000e+00, -2.03224403e+02, -4.19504102e+02, -1.09703519e+03,\n",
       "       -0.00000000e+00, -0.00000000e+00,  7.04442157e+02,  0.00000000e+00,\n",
       "        1.87773669e+02,  8.75853534e+02,  0.00000000e+00,  3.39004925e+04,\n",
       "        1.08249713e+04,  2.34685153e+03,  2.93627874e+03,  4.01300569e+03])"
      ]
     },
     "execution_count": 145,
     "metadata": {},
     "output_type": "execute_result"
    }
   ],
   "source": [
    "#lets check the coefficients first, seems like we have kept the majority of the variables\n",
    "lasso_cv.coef_"
   ]
  },
  {
   "cell_type": "code",
   "execution_count": 146,
   "id": "2f607b72-76b3-44e1-ab0e-5aefc9293e5b",
   "metadata": {},
   "outputs": [
    {
     "name": "stdout",
     "output_type": "stream",
     "text": [
      "0.9233\n",
      "0.893\n"
     ]
    }
   ],
   "source": [
    "#scoring check\n",
    "print(round(lasso_cv.score(X_train_sc, y_train), 4))\n",
    "print(round(lasso_cv.score(X_test_sc, y_test), 4))"
   ]
  },
  {
   "cell_type": "markdown",
   "id": "543c2bc1-66b9-450e-bc0a-7c70187d11ba",
   "metadata": {},
   "source": [
    "We have further improved the model, but we still have a biased and underfit model as we are still about 3% points different between the training score and the test score. Still lets look at which of the long list of Coefficients are positively impacting the model."
   ]
  },
  {
   "cell_type": "code",
   "execution_count": 147,
   "id": "41d69291-94e2-4471-a239-cd6a872d0333",
   "metadata": {},
   "outputs": [],
   "source": [
    "coefficients = pd.DataFrame(zip(X_test.columns, lasso_cv.coef_), columns= ['Feature', 'Coefficient'])"
   ]
  },
  {
   "cell_type": "code",
   "execution_count": 148,
   "id": "59555c20-68f9-4463-be0b-7c2c70ea9a7f",
   "metadata": {},
   "outputs": [
    {
     "data": {
      "text/html": [
       "<div>\n",
       "<style scoped>\n",
       "    .dataframe tbody tr th:only-of-type {\n",
       "        vertical-align: middle;\n",
       "    }\n",
       "\n",
       "    .dataframe tbody tr th {\n",
       "        vertical-align: top;\n",
       "    }\n",
       "\n",
       "    .dataframe thead th {\n",
       "        text-align: right;\n",
       "    }\n",
       "</style>\n",
       "<table border=\"1\" class=\"dataframe\">\n",
       "  <thead>\n",
       "    <tr style=\"text-align: right;\">\n",
       "      <th></th>\n",
       "      <th>Feature</th>\n",
       "      <th>Coefficient</th>\n",
       "    </tr>\n",
       "  </thead>\n",
       "  <tbody>\n",
       "    <tr>\n",
       "      <th>1</th>\n",
       "      <td>lot_frontage</td>\n",
       "      <td>1703.795596</td>\n",
       "    </tr>\n",
       "    <tr>\n",
       "      <th>2</th>\n",
       "      <td>lot_area</td>\n",
       "      <td>3656.044680</td>\n",
       "    </tr>\n",
       "    <tr>\n",
       "      <th>5</th>\n",
       "      <td>land_slope</td>\n",
       "      <td>265.122489</td>\n",
       "    </tr>\n",
       "    <tr>\n",
       "      <th>8</th>\n",
       "      <td>mas_vnr_area</td>\n",
       "      <td>10311.014145</td>\n",
       "    </tr>\n",
       "    <tr>\n",
       "      <th>9</th>\n",
       "      <td>bsmt_exposure</td>\n",
       "      <td>4858.930733</td>\n",
       "    </tr>\n",
       "  </tbody>\n",
       "</table>\n",
       "</div>"
      ],
      "text/plain": [
       "         Feature   Coefficient\n",
       "1   lot_frontage   1703.795596\n",
       "2       lot_area   3656.044680\n",
       "5     land_slope    265.122489\n",
       "8   mas_vnr_area  10311.014145\n",
       "9  bsmt_exposure   4858.930733"
      ]
     },
     "execution_count": 148,
     "metadata": {},
     "output_type": "execute_result"
    }
   ],
   "source": [
    "#lets look at just the positive coefficients\n",
    "positive_coefs = coefficients[coefficients['Coefficient'] > 0]\n",
    "positive_coefs.head()"
   ]
  },
  {
   "cell_type": "code",
   "execution_count": 152,
   "id": "2ebb8067-ae14-4b35-bdd7-9e9fc59089ef",
   "metadata": {},
   "outputs": [
    {
     "data": {
      "text/html": [
       "<div>\n",
       "<style scoped>\n",
       "    .dataframe tbody tr th:only-of-type {\n",
       "        vertical-align: middle;\n",
       "    }\n",
       "\n",
       "    .dataframe tbody tr th {\n",
       "        vertical-align: top;\n",
       "    }\n",
       "\n",
       "    .dataframe thead th {\n",
       "        text-align: right;\n",
       "    }\n",
       "</style>\n",
       "<table border=\"1\" class=\"dataframe\">\n",
       "  <thead>\n",
       "    <tr style=\"text-align: right;\">\n",
       "      <th></th>\n",
       "      <th>count</th>\n",
       "      <th>mean</th>\n",
       "      <th>std</th>\n",
       "      <th>min</th>\n",
       "      <th>25%</th>\n",
       "      <th>50%</th>\n",
       "      <th>75%</th>\n",
       "      <th>max</th>\n",
       "    </tr>\n",
       "  </thead>\n",
       "  <tbody>\n",
       "    <tr>\n",
       "      <th>Coefficient</th>\n",
       "      <td>67.0</td>\n",
       "      <td>2312.357273</td>\n",
       "      <td>4517.790569</td>\n",
       "      <td>13.746055</td>\n",
       "      <td>354.825153</td>\n",
       "      <td>1084.771032</td>\n",
       "      <td>2423.745404</td>\n",
       "      <td>33900.492523</td>\n",
       "    </tr>\n",
       "  </tbody>\n",
       "</table>\n",
       "</div>"
      ],
      "text/plain": [
       "             count         mean          std        min         25%  \\\n",
       "Coefficient   67.0  2312.357273  4517.790569  13.746055  354.825153   \n",
       "\n",
       "                     50%          75%           max  \n",
       "Coefficient  1084.771032  2423.745404  33900.492523  "
      ]
     },
     "execution_count": 152,
     "metadata": {},
     "output_type": "execute_result"
    }
   ],
   "source": [
    "#lets look at a summary of the positive coeffs, out of the 160+ coefficients only 67 were positive\n",
    "positive_coefs.describe().T"
   ]
  },
  {
   "cell_type": "code",
   "execution_count": 153,
   "id": "2a5c6c22-8d2c-4037-b03a-3b3fbb34796c",
   "metadata": {},
   "outputs": [
    {
     "data": {
      "image/png": "[encoded data removed]",
      "text/plain": [
       "<Figure size 432x288 with 1 Axes>"
      ]
     },
     "metadata": {
      "needs_background": "light"
     },
     "output_type": "display_data"
    }
   ],
   "source": [
    "plt.boxplot(positive_coefs['Coefficient'], meanline= True)\n",
    "\n",
    "plt.title('Boxplot of Positive Coefficients')\n",
    "\n",
    "plt.ylabel(ylabel= 'Coef Strength')\n",
    "\n",
    "plt.s;"
   ]
  },
  {
   "cell_type": "markdown",
   "id": "58103907-752c-47eb-9204-063beedd5662",
   "metadata": {},
   "source": [
    "This box plot gives a clear indication that are a number of outliers that appear to be heavily influening the model. The biggest of these appears to be having a huge impact. In the context of this project and predicting housing prices those outliers are likely to be of high importance to understand what is influencing the price of a home in Ames, IA."
   ]
  },
  {
   "cell_type": "code",
   "execution_count": 155,
   "id": "69b2997a-caee-47ee-8cea-2a6ed2d8ced6",
   "metadata": {},
   "outputs": [
    {
     "data": {
      "image/png": "[encoded data removed]",
      "text/plain": [
       "<Figure size 432x288 with 1 Axes>"
      ]
     },
     "metadata": {
      "needs_background": "light"
     },
     "output_type": "display_data"
    }
   ],
   "source": [
    "#Lets zoom in a bit and look at another box plot using only the coefficients that are above the mean (>2440)\n",
    "abv_av_coefs = coefficients[coefficients['Coefficient'] > 2312]\n",
    "\n",
    "plt.boxplot(abv_av_coefs['Coefficient'], meanline= True)\n",
    "\n",
    "plt.title('Boxplot of Above Average Coefficients')\n",
    "\n",
    "plt.ylabel(ylabel= 'Coef Strength');"
   ]
  },
  {
   "cell_type": "code",
   "execution_count": 157,
   "id": "a4650c5a-7622-4ff7-a9a8-e8fef8b4ee7b",
   "metadata": {},
   "outputs": [
    {
     "data": {
      "text/html": [
       "<div>\n",
       "<style scoped>\n",
       "    .dataframe tbody tr th:only-of-type {\n",
       "        vertical-align: middle;\n",
       "    }\n",
       "\n",
       "    .dataframe tbody tr th {\n",
       "        vertical-align: top;\n",
       "    }\n",
       "\n",
       "    .dataframe thead th {\n",
       "        text-align: right;\n",
       "    }\n",
       "</style>\n",
       "<table border=\"1\" class=\"dataframe\">\n",
       "  <thead>\n",
       "    <tr style=\"text-align: right;\">\n",
       "      <th></th>\n",
       "      <th>count</th>\n",
       "      <th>mean</th>\n",
       "      <th>std</th>\n",
       "      <th>min</th>\n",
       "      <th>25%</th>\n",
       "      <th>50%</th>\n",
       "      <th>75%</th>\n",
       "      <th>max</th>\n",
       "    </tr>\n",
       "  </thead>\n",
       "  <tbody>\n",
       "    <tr>\n",
       "      <th>Coefficient</th>\n",
       "      <td>19.0</td>\n",
       "      <td>6180.182515</td>\n",
       "      <td>7192.764595</td>\n",
       "      <td>2346.851531</td>\n",
       "      <td>2785.690652</td>\n",
       "      <td>3656.04468</td>\n",
       "      <td>6545.241453</td>\n",
       "      <td>33900.492523</td>\n",
       "    </tr>\n",
       "  </tbody>\n",
       "</table>\n",
       "</div>"
      ],
      "text/plain": [
       "             count         mean          std          min          25%  \\\n",
       "Coefficient   19.0  6180.182515  7192.764595  2346.851531  2785.690652   \n",
       "\n",
       "                    50%          75%           max  \n",
       "Coefficient  3656.04468  6545.241453  33900.492523  "
      ]
     },
     "execution_count": 157,
     "metadata": {},
     "output_type": "execute_result"
    }
   ],
   "source": [
    "#We only have one outlier remaining from the initial box plot, the rest now appear to be on the final end of the plot line.\n",
    "#we also have gone from 68 positive coefficients to now just 19 that are above the average for the positive coefficients\n",
    "abv_av_coefs.describe().T"
   ]
  },
  {
   "cell_type": "code",
   "execution_count": 158,
   "id": "b7caede8-f64a-410c-a805-bfd5e7b7d20f",
   "metadata": {},
   "outputs": [
    {
     "data": {
      "image/png": "[encoded data removed]",
      "text/plain": [
       "<Figure size 2520x1440 with 1 Axes>"
      ]
     },
     "metadata": {
      "needs_background": "light"
     },
     "output_type": "display_data"
    }
   ],
   "source": [
    "#lets make a bar graph of these coefficients, bit too many features to be fully readable\n",
    "plt.figure(figsize=(35,20))\n",
    "\n",
    "sns.barplot(data=abv_av_coefs.sort_values('Coefficient', ascending= False), \n",
    "            x= 'Feature', y= 'Coefficient')\n",
    "plt.xticks(rotation = 5);"
   ]
  },
  {
   "cell_type": "code",
   "execution_count": 159,
   "id": "7ffab437-330b-4ff0-acc2-63604068e0e5",
   "metadata": {},
   "outputs": [
    {
     "data": {
      "text/html": [
       "<div>\n",
       "<style scoped>\n",
       "    .dataframe tbody tr th:only-of-type {\n",
       "        vertical-align: middle;\n",
       "    }\n",
       "\n",
       "    .dataframe tbody tr th {\n",
       "        vertical-align: top;\n",
       "    }\n",
       "\n",
       "    .dataframe thead th {\n",
       "        text-align: right;\n",
       "    }\n",
       "</style>\n",
       "<table border=\"1\" class=\"dataframe\">\n",
       "  <thead>\n",
       "    <tr style=\"text-align: right;\">\n",
       "      <th></th>\n",
       "      <th>Feature</th>\n",
       "      <th>Coefficient</th>\n",
       "    </tr>\n",
       "  </thead>\n",
       "  <tbody>\n",
       "    <tr>\n",
       "      <th>163</th>\n",
       "      <td>total_sf</td>\n",
       "      <td>33900.492523</td>\n",
       "    </tr>\n",
       "    <tr>\n",
       "      <th>164</th>\n",
       "      <td>overalls</td>\n",
       "      <td>10824.971313</td>\n",
       "    </tr>\n",
       "    <tr>\n",
       "      <th>8</th>\n",
       "      <td>mas_vnr_area</td>\n",
       "      <td>10311.014145</td>\n",
       "    </tr>\n",
       "    <tr>\n",
       "      <th>89</th>\n",
       "      <td>neighborhood__StoneBr</td>\n",
       "      <td>7400.168884</td>\n",
       "    </tr>\n",
       "    <tr>\n",
       "      <th>83</th>\n",
       "      <td>neighborhood__NridgHt</td>\n",
       "      <td>6548.896257</td>\n",
       "    </tr>\n",
       "    <tr>\n",
       "      <th>21</th>\n",
       "      <td>kitchen_qual</td>\n",
       "      <td>6541.586649</td>\n",
       "    </tr>\n",
       "    <tr>\n",
       "      <th>9</th>\n",
       "      <td>bsmt_exposure</td>\n",
       "      <td>4858.930733</td>\n",
       "    </tr>\n",
       "    <tr>\n",
       "      <th>26</th>\n",
       "      <td>garage_area</td>\n",
       "      <td>4765.452691</td>\n",
       "    </tr>\n",
       "    <tr>\n",
       "      <th>167</th>\n",
       "      <td>garage_overalls</td>\n",
       "      <td>4013.005694</td>\n",
       "    </tr>\n",
       "    <tr>\n",
       "      <th>2</th>\n",
       "      <td>lot_area</td>\n",
       "      <td>3656.044680</td>\n",
       "    </tr>\n",
       "    <tr>\n",
       "      <th>32</th>\n",
       "      <td>screen_porch</td>\n",
       "      <td>3239.823351</td>\n",
       "    </tr>\n",
       "    <tr>\n",
       "      <th>123</th>\n",
       "      <td>ext_1__BrkFace</td>\n",
       "      <td>2984.965719</td>\n",
       "    </tr>\n",
       "    <tr>\n",
       "      <th>166</th>\n",
       "      <td>bedbathbynd</td>\n",
       "      <td>2936.278738</td>\n",
       "    </tr>\n",
       "    <tr>\n",
       "      <th>146</th>\n",
       "      <td>mas_vnr_type__None</td>\n",
       "      <td>2830.866548</td>\n",
       "    </tr>\n",
       "    <tr>\n",
       "      <th>63</th>\n",
       "      <td>lot_config__CulDSac</td>\n",
       "      <td>2740.514756</td>\n",
       "    </tr>\n",
       "    <tr>\n",
       "      <th>53</th>\n",
       "      <td>ms_zoning_FV</td>\n",
       "      <td>2676.112764</td>\n",
       "    </tr>\n",
       "    <tr>\n",
       "      <th>23</th>\n",
       "      <td>fireplaces</td>\n",
       "      <td>2434.821336</td>\n",
       "    </tr>\n",
       "    <tr>\n",
       "      <th>22</th>\n",
       "      <td>functional</td>\n",
       "      <td>2412.669473</td>\n",
       "    </tr>\n",
       "    <tr>\n",
       "      <th>165</th>\n",
       "      <td>extr_overalls</td>\n",
       "      <td>2346.851531</td>\n",
       "    </tr>\n",
       "  </tbody>\n",
       "</table>\n",
       "</div>"
      ],
      "text/plain": [
       "                   Feature   Coefficient\n",
       "163               total_sf  33900.492523\n",
       "164               overalls  10824.971313\n",
       "8             mas_vnr_area  10311.014145\n",
       "89   neighborhood__StoneBr   7400.168884\n",
       "83   neighborhood__NridgHt   6548.896257\n",
       "21            kitchen_qual   6541.586649\n",
       "9            bsmt_exposure   4858.930733\n",
       "26             garage_area   4765.452691\n",
       "167        garage_overalls   4013.005694\n",
       "2                 lot_area   3656.044680\n",
       "32            screen_porch   3239.823351\n",
       "123         ext_1__BrkFace   2984.965719\n",
       "166            bedbathbynd   2936.278738\n",
       "146     mas_vnr_type__None   2830.866548\n",
       "63     lot_config__CulDSac   2740.514756\n",
       "53            ms_zoning_FV   2676.112764\n",
       "23              fireplaces   2434.821336\n",
       "22              functional   2412.669473\n",
       "165          extr_overalls   2346.851531"
      ]
     },
     "execution_count": 159,
     "metadata": {},
     "output_type": "execute_result"
    }
   ],
   "source": [
    "#lets look at what the above average coefficients in this model are\n",
    "abv_av_coefs.sort_values('Coefficient', ascending=False)"
   ]
  },
  {
   "cell_type": "markdown",
   "id": "a77bed0a-467f-4a5f-b349-20f9350f7d15",
   "metadata": {},
   "source": [
    "#### Interpretation of the top 19 Coefficients"
   ]
  },
  {
   "cell_type": "markdown",
   "id": "7c096e30-4779-48fd-b38a-de94d2455d1c",
   "metadata": {},
   "source": [
    "These top coefficients are not all that different from the features that were included in the common features model. We can group these features by:\n",
    "1. Total Square Footage of the home\n",
    "1. Varying Neighborhood Locations for the home\n",
    "1. Quality of important parts of the home\n",
    "    * Kitchen most important\n",
    "    * Basement and the garage are next most important\n",
    "    * Having a Brick Exterior\n",
    "1. Size of the lot\n",
    "1. Number of rooms in the home\n",
    "1. Suburban location (Cul De Sac location or A Floating Village Residential Area)"
   ]
  },
  {
   "cell_type": "markdown",
   "id": "76c88d06-8b55-48ab-9b42-de98ae0f78f7",
   "metadata": {},
   "source": [
    "There are two features on this list that stand out as important for a first time home-buyer to consider:\n",
    "1. Having a Screen porch is the 11th most important factor in the price of a home in this dataset. Put another way if someone were looking at ways to save money on a first house looking for a house that doesn't have a screen porch could lower the price of that home.\n",
    "2. Fireplaces were the 17th most important factor in the price of a home. Similar to a screen porch, looking for a home without a fireplace is likely to lower the price as well."
   ]
  },
  {
   "cell_type": "markdown",
   "id": "6ac03c5d-7d4d-4c8a-a8bf-80b1b39ae59b",
   "metadata": {},
   "source": [
    "#### MSE & RMSE of the Training Data"
   ]
  },
  {
   "cell_type": "code",
   "execution_count": 160,
   "id": "568e01f9-9beb-40d0-8bbb-b39f5082553d",
   "metadata": {},
   "outputs": [],
   "source": [
    "preds = lasso_cv.predict(X_test_sc)"
   ]
  },
  {
   "cell_type": "code",
   "execution_count": 161,
   "id": "f66fd588-a967-41e3-89d0-0dacbefa6d58",
   "metadata": {},
   "outputs": [
    {
     "name": "stdout",
     "output_type": "stream",
     "text": [
      "MSE Train: 512977690.8\n",
      "MSE Test: 587625129.5\n"
     ]
    }
   ],
   "source": [
    "#MSE Scores\n",
    "print('MSE Train:', round(mean_squared_error(y_true= y_train, y_pred= lasso_cv.predict(X_train_sc)), 2))\n",
    "print('MSE Test:', round(mean_squared_error(y_true= y_test, y_pred= lasso_cv.predict(X_test_sc)), 2))"
   ]
  },
  {
   "cell_type": "code",
   "execution_count": 162,
   "id": "b599c91f-1319-44a9-998c-bec669d8e12d",
   "metadata": {},
   "outputs": [
    {
     "name": "stdout",
     "output_type": "stream",
     "text": [
      "MSE Train: 22649.01\n",
      "MSE Test: 24240.98\n"
     ]
    }
   ],
   "source": [
    "#RMSE Scores\n",
    "print('MSE Train:', round((mean_squared_error(y_true= y_train, y_pred= lasso_cv.predict(X_train_sc)) ** .5), 2))\n",
    "print('MSE Test:', round((mean_squared_error(y_true= y_test, y_pred= lasso_cv.predict(X_test_sc)) ** .5), 2))"
   ]
  },
  {
   "cell_type": "code",
   "execution_count": 163,
   "id": "e1cb8f8a-450e-45e9-8f7c-550e91f3a2b5",
   "metadata": {},
   "outputs": [],
   "source": [
    "saleprice = lasso_cv.predict(X_test_sc)"
   ]
  },
  {
   "cell_type": "code",
   "execution_count": 164,
   "id": "c66f0021-651e-4a27-9234-c2bca5461adc",
   "metadata": {},
   "outputs": [
    {
     "data": {
      "text/plain": [
       "Index(['ms_subclass', 'lot_frontage', 'lot_area', 'lot_shape', 'utilities',\n",
       "       'land_slope', 'year_built', 'year_remod/add', 'mas_vnr_area',\n",
       "       'bsmt_exposure',\n",
       "       ...\n",
       "       'garage_type_CarPort', 'garage_type_Detchd', 'misc_feat__Othr',\n",
       "       'misc_feat__Shed', 'total_sf', 'overalls', 'extr_overalls',\n",
       "       'bedbathbynd', 'garage_overalls', 'saleprice'],\n",
       "      dtype='object', length=169)"
      ]
     },
     "execution_count": 164,
     "metadata": {},
     "output_type": "execute_result"
    }
   ],
   "source": [
    "train_numeric.columns"
   ]
  },
  {
   "cell_type": "markdown",
   "id": "b12ecbed-423d-4d1f-a6ef-558851c57109",
   "metadata": {},
   "source": [
    "### EDA and Setting Predictions on the Test Data "
   ]
  },
  {
   "cell_type": "code",
   "execution_count": 165,
   "id": "82ba98b6-16f5-4be3-a523-342229077259",
   "metadata": {},
   "outputs": [],
   "source": [
    "test_df = pd.read_csv('./datasets/test.csv')"
   ]
  },
  {
   "cell_type": "code",
   "execution_count": 166,
   "id": "917c1f22-fd37-4a1b-bfcc-1a32aa008aa8",
   "metadata": {},
   "outputs": [],
   "source": [
    "#converting columns\n",
    "test_df.rename(str.lower, axis=1, inplace=True)\n",
    "test_df.columns = test_df.columns.str.replace(' ', '_')"
   ]
  },
  {
   "cell_type": "code",
   "execution_count": 167,
   "id": "01b090c5-577c-4727-b7f7-be277c72ed53",
   "metadata": {},
   "outputs": [],
   "source": [
    "### One Hot Encode or Dummy variables to transform categorical variables into a format that can be used in regression\n",
    "ms_subclass = pd.get_dummies(data=test_df['ms_subclass'], prefix= 'ms_subclass', drop_first=True)\n",
    "ms_zoning   = pd.get_dummies(data=test_df['ms_zoning'], prefix= 'ms_zoning', drop_first=True)\n",
    "street      = pd.get_dummies(data=test_df['street'], prefix= 'access_', drop_first=True)\n",
    "alley       = pd.get_dummies(data=test_df['alley'], prefix= 'alley_', drop_first=True)\n",
    "land_countour = pd.get_dummies(data=test_df['land_contour'], prefix= 'land_contour_', drop_first=True)\n",
    "lot_config  = pd.get_dummies(data=test_df['lot_config'], prefix= 'lot_config_', drop_first=True)\n",
    "neighborhood  = pd.get_dummies(data=test_df['neighborhood'], prefix='neighborhood_', drop_first=True)\n",
    "condition_1 = pd.get_dummies(test_df['condition_1'], prefix= 'cnd_1_', drop_first=True)\n",
    "condition_2 = pd.get_dummies(test_df['condition_2'], prefix= 'cnd_2_', drop_first=True)\n",
    "bldg_type   = pd.get_dummies(test_df['bldg_type'], prefix= 'bldg_type_', drop_first=True)\n",
    "house_style  = pd.get_dummies(test_df['house_style'], prefix= 'house_style_', drop_first=True)\n",
    "roof_style  = pd.get_dummies(test_df['roof_style'], prefix= 'roof_style_', drop_first=True)\n",
    "roof_matl   = pd.get_dummies(test_df['roof_matl'], prefix= 'roof_matl_', drop_first=True)\n",
    "extr_1      = pd.get_dummies(test_df['exterior_1st'], prefix = 'ext_1_', drop_first=True)\n",
    "extr_2      = pd.get_dummies(test_df['exterior_2nd'], prefix = 'ext_2_', drop_first=True)\n",
    "mas_vnr_type = pd.get_dummies(test_df['mas_vnr_type'], prefix = 'mas_vnr_type_', drop_first=True)\n",
    "foundation  = pd.get_dummies(test_df['foundation'], prefix= 'foundation_', drop_first=True)\n",
    "heating     = pd.get_dummies(test_df['heating'], prefix= 'heating_', drop_first=True)\n",
    "central_air = pd.get_dummies(test_df['central_air'], prefix= 'central_air_', drop_first=True)\n",
    "garage_type = pd.get_dummies(test_df['garage_type'], prefix= 'garage_type', drop_first=True)\n",
    "misc_feat   = pd.get_dummies(test_df['misc_feature'], prefix='misc_feat_', drop_first=True)\n",
    "\n",
    "test_dummies=[ms_subclass, ms_zoning, street, alley, land_countour, lot_config, neighborhood, condition_1, condition_2, bldg_type, house_style, roof_style, roof_matl,\n",
    "        extr_1, extr_2, mas_vnr_type, foundation, heating, central_air, garage_type, misc_feat]"
   ]
  },
  {
   "cell_type": "code",
   "execution_count": 168,
   "id": "c8ae4d4d-3fe8-49dc-a559-313cdd98ba12",
   "metadata": {},
   "outputs": [
    {
     "name": "stdout",
     "output_type": "stream",
     "text": [
      "Index(['id', 'pid', 'ms_subclass', 'ms_zoning', 'lot_frontage', 'lot_area',\n",
      "       'street', 'alley', 'lot_shape', 'land_contour',\n",
      "       ...\n",
      "       'heating__GasW', 'heating__Grav', 'central_air__Y',\n",
      "       'garage_type_Attchd', 'garage_type_Basment', 'garage_type_BuiltIn',\n",
      "       'garage_type_CarPort', 'garage_type_Detchd', 'misc_feat__Othr',\n",
      "       'misc_feat__Shed'],\n",
      "      dtype='object', length=211)\n"
     ]
    }
   ],
   "source": [
    "for dummy in test_dummies:\n",
    "    test_df = test_df.join(other=dummy)\n",
    "    \n",
    "print(test_df.columns)"
   ]
  },
  {
   "cell_type": "code",
   "execution_count": 169,
   "id": "2ef67ef3-48dc-456f-82e4-d25b321e3477",
   "metadata": {},
   "outputs": [],
   "source": [
    "# casting/mapping out ordinal variables\n",
    "test_df['lot_shape'] = test_df['lot_shape'].map({'Reg': 4, 'IR1' : 3, 'IR2' : 2, 'IR3' : 1})\n",
    "test_df['utilities'] = test_df['utilities'].map({'AllPub': 1, 'NoSewr' : 0, 'NoSeWa' : 0, 'ELO' : 0})\n",
    "test_df['land_slope'] = test_df['land_slope'].map({'Gtl' : 3, 'Mod': 2, 'Sev': 1})\n",
    "test_df['bsmt_cond'] = test_df['bsmt_cond'].map({'Ex' : 5, 'Gd' : 4, 'TA' : 3, 'Fa' : 2, 'Po': 1,})\n",
    "test_df['bsmt_exposure'] = test_df['bsmt_exposure'].map({'Gd': 3, 'Av' : 2, 'Mn' : 1, 'No' : 0, 0: 0})\n",
    "test_df['bsmtfin_type_1'] = test_df['bsmtfin_type_1'].map({'GLQ' : 4, 'ALQ' : 3, 'BLQ' : 2, 'Rec' : 3, 'LwQ' : 1, 'Unf' : 1, 0 : 0})\n",
    "test_df['bsmtfin_type_2'] = test_df['bsmtfin_type_2'].map({'GLQ' : 4, 'ALQ' : 3, 'BLQ' : 2, 'Rec' : 3, 'LwQ' : 1, 'Unf' : 1, 0 : 0})\n",
    "test_df['heating_qc'] = test_df['heating_qc'].map({'Ex' : 5, 'Gd' : 4, 'TA' : 3, 'Fa' : 2, 'Po': 1})\n",
    "test_df['electrical'] = test_df['electrical'].map({'Sbrkr' : 4, 'FuseA' : 3, 'FuseF' : 2, 'FuseP' : 1, 'Mix' : 2})\n",
    "test_df['kitchen_qual'] = test_df['kitchen_qual'].map({'Ex' : 5, 'Gd' : 4, 'TA' : 3, 'Fa' : 2, 'Po': 1})\n",
    "test_df['functional'] = test_df['functional'].map({'Typ': 7, 'Min1' : 6, 'Min2' : 5, 'Mod' : 4, 'Maj1' : 3, 'Maj2' : 2, 'Sev' : 1, 'Sal' : 0})\n",
    "test_df['fireplace_qu'] = test_df['fireplace_qu'].map({'Ex' : 5, 'Gd' : 4, 'TA' : 3, 'Fa' : 2, 'Po': 1, 0 : 0})\n",
    "test_df['garage_finish'] = test_df['garage_finish'].map({'Fin': 3, 'RFn' : 2, 'Unf' : 1, 0 :0})\n",
    "test_df['garage_qual'] = test_df['garage_qual'].map({'Ex' : 5, 'Gd' : 4, 'TA' : 3, 'Fa' : 2, 'Po': 1})\n",
    "test_df['garage_cond'] = test_df['garage_cond'].map({'Ex' : 5, 'Gd' : 4, 'TA' : 3, 'Fa' : 2, 'Po' : 1, 0 : 0})\n",
    "test_df['paved_drive'] = test_df['paved_drive'].map({'Y' : 2, 'P' : 1, 'N' : 0})\n",
    "test_df['pool_qc'] = test_df['pool_qc'].map({'Ex' : 4, 'Gd' : 3, 'TA' : 2, 'Fa' : 1, 0 : 0})\n",
    "test_df['fence'] = test_df['fence'].map({'GdPrv': 4, 'MnPrv' : 3, 'GdWo' : 2, 'MnWw' : 1, 'no' : 0})\n",
    "test_df['exter_cond'] = test_df['exter_cond'].map({'Ex' : 5, 'Gd' : 4, 'TA' : 3, 'Fa' : 2, 'Po': 1, 0 : 0})\n",
    "test_df['exter_qual'] = test_df['exter_qual'].map({'Ex' : 5, 'Gd' : 4, 'TA' : 3, 'Fa' : 2, 'Po': 1, 0 : 0})"
   ]
  },
  {
   "cell_type": "code",
   "execution_count": 170,
   "id": "bf8e2372-428b-4ec5-b7ec-e9c2fac39a95",
   "metadata": {},
   "outputs": [],
   "source": [
    "mapping_features = ['lot_shape','utilities', 'land_slope','bsmt_cond','bsmt_exposure','bsmtfin_type_1','bsmtfin_type_2', 'heating_qc',\n",
    "                    'electrical', 'kitchen_qual', 'functional', 'fireplace_qu', 'garage_finish', 'garage_qual', 'garage_cond', 'paved_drive',\n",
    "                    'pool_qc', 'fence','exter_cond','exter_qual']"
   ]
  },
  {
   "cell_type": "code",
   "execution_count": 171,
   "id": "1db52036-576e-4927-b0a7-131fa8b46331",
   "metadata": {},
   "outputs": [],
   "source": [
    "def col_to_int_no_nulls2(col):\n",
    "    if test_df[col].isna().sum() <1:\n",
    "            test_df[col] = train[col].map(lambda col : int(col))\n",
    "    else:\n",
    "        test_df[col].fillna(0, inplace = True)\n",
    "        test_df[col] = train[col].map(lambda col : int(col))\n",
    "    \n",
    "    return test_df[col].value_counts()"
   ]
  },
  {
   "cell_type": "code",
   "execution_count": 172,
   "id": "624fba77-dd5e-4a92-8d48-1d127e95ac42",
   "metadata": {},
   "outputs": [
    {
     "data": {
      "text/plain": [
       "[4    554\n",
       " 3    302\n",
       " 2     20\n",
       " 1      2\n",
       " Name: lot_shape, dtype: int64,\n",
       " 1    876\n",
       " 0      2\n",
       " Name: utilities, dtype: int64,\n",
       " 3    832\n",
       " 2     38\n",
       " 1      8\n",
       " Name: land_slope, dtype: int64,\n",
       " 3    782\n",
       " 4     38\n",
       " 2     30\n",
       " 0     24\n",
       " 1      2\n",
       " 5      2\n",
       " Name: bsmt_cond, dtype: int64,\n",
       " 0    614\n",
       " 2    114\n",
       " 3     92\n",
       " 1     58\n",
       " Name: bsmt_exposure, dtype: int64,\n",
       " 1    298\n",
       " 4    265\n",
       " 3    212\n",
       " 2     79\n",
       " 0     24\n",
       " Name: bsmtfin_type_1, dtype: int64,\n",
       " 1    771\n",
       " 3     52\n",
       " 0     24\n",
       " 2     18\n",
       " 4     13\n",
       " Name: bsmtfin_type_2, dtype: int64,\n",
       " 5    463\n",
       " 3    261\n",
       " 4    122\n",
       " 2     31\n",
       " 1      1\n",
       " Name: heating_qc, dtype: int64,\n",
       " 0    798\n",
       " 3     61\n",
       " 2     13\n",
       " 1      6\n",
       " Name: electrical, dtype: int64,\n",
       " 3    448\n",
       " 4    335\n",
       " 5     67\n",
       " 2     28\n",
       " Name: kitchen_qual, dtype: int64,\n",
       " 7    812\n",
       " 4     19\n",
       " 5     18\n",
       " 6     18\n",
       " 3      6\n",
       " 2      3\n",
       " 0      1\n",
       " 1      1\n",
       " Name: functional, dtype: int64,\n",
       " 0    469\n",
       " 4    196\n",
       " 3    159\n",
       " 2     26\n",
       " 5     16\n",
       " 1     12\n",
       " Name: fireplace_qu, dtype: int64,\n",
       " 1    361\n",
       " 2    254\n",
       " 3    211\n",
       " 0     52\n",
       " Name: garage_finish, dtype: int64,\n",
       " 3    778\n",
       " 0     52\n",
       " 2     43\n",
       " 4      4\n",
       " 5      1\n",
       " Name: garage_qual, dtype: int64,\n",
       " 3    799\n",
       " 0     52\n",
       " 2     19\n",
       " 4      4\n",
       " 1      3\n",
       " 5      1\n",
       " Name: garage_cond, dtype: int64,\n",
       " 2    779\n",
       " 0     82\n",
       " 1     17\n",
       " Name: paved_drive, dtype: int64,\n",
       " 0    875\n",
       " 3      2\n",
       " 1      1\n",
       " Name: pool_qc, dtype: int64,\n",
       " 0    704\n",
       " 3     99\n",
       " 2     40\n",
       " 4     31\n",
       " 1      4\n",
       " Name: fence, dtype: int64,\n",
       " 3    748\n",
       " 4     98\n",
       " 2     27\n",
       " 5      3\n",
       " 1      2\n",
       " Name: exter_cond, dtype: int64,\n",
       " 3    545\n",
       " 4    282\n",
       " 5     36\n",
       " 2     15\n",
       " Name: exter_qual, dtype: int64]"
      ]
     },
     "execution_count": 172,
     "metadata": {},
     "output_type": "execute_result"
    }
   ],
   "source": [
    "[col_to_int_no_nulls2(feature) for feature in mapping_features]"
   ]
  },
  {
   "cell_type": "code",
   "execution_count": 173,
   "id": "b5d0b3ff-57fd-42f7-8a8d-bae8fdc973a8",
   "metadata": {},
   "outputs": [],
   "source": [
    "#feature interactions \n",
    "test_df['total_sf'] = test_df['total_bsmt_sf'] + test_df['gr_liv_area']\n",
    "\n",
    "test_df['overalls'] = test_df['overall_cond'] * test_df['overall_qual']\n",
    "\n",
    "test_df['extr_overalls'] = test_df['exter_cond'] * test_df['exter_qual']\n",
    "\n",
    "test_df['bedbathbynd']  = test_df['full_bath'] * test_df['totrms_abvgrd'] * test_df['bedroom_abvgr']\n",
    "\n",
    "test_df['bsmt_overall'] = test_df['bsmt_cond'] * test_df['bsmt_qual']\n",
    "\n",
    "test_df['garage_overalls'] = test_df['garage_qual'] * test_df['garage_cond'] * test_df['garage_finish'] * test_df['garage_cars']"
   ]
  },
  {
   "cell_type": "code",
   "execution_count": 174,
   "id": "5c73fe11-3f33-43eb-926a-35b4f6b7fbd1",
   "metadata": {},
   "outputs": [],
   "source": [
    "#from hackathon find found here (https://stackoverflow.com/questions/25039626/how-do-i-find-numeric-columns-in-pandas)\n",
    "numerics = ['uint8', 'float64', 'int32', 'float16', 'float32', 'int64']\n",
    "\n",
    "test_numeric = test_df.select_dtypes(include=numerics)"
   ]
  },
  {
   "cell_type": "code",
   "execution_count": 175,
   "id": "4881cd40-87f6-420d-86d5-db04d38c5e5f",
   "metadata": {},
   "outputs": [],
   "source": [
    "test_numeric.drop(columns=['total_bsmt_sf', 'gr_liv_area', 'overall_cond', 'overall_qual', 'exter_cond', 'exter_qual', 'full_bath', 'half_bath', 'totrms_abvgrd',\n",
    "                            'bedroom_abvgr', 'bsmt_cond', 'garage_qual', 'garage_cond', 'garage_finish', 'garage_cars', '1st_flr_sf', '2nd_flr_sf'], inplace=True)"
   ]
  },
  {
   "cell_type": "code",
   "execution_count": 176,
   "id": "b2fb38b5-3c4b-422c-89ca-5898253ce648",
   "metadata": {},
   "outputs": [],
   "source": [
    "test_numeric['year_built']     = 2010 - test_numeric['year_built']\n",
    "test_numeric['year_remod/add'] = 2010 - test_numeric['year_remod/add']"
   ]
  },
  {
   "cell_type": "code",
   "execution_count": 177,
   "id": "b523273c-4d00-4105-bcaf-06bdaac7eef9",
   "metadata": {},
   "outputs": [
    {
     "data": {
      "text/plain": [
       "id                   0\n",
       "pid                  0\n",
       "ms_subclass          0\n",
       "lot_frontage       160\n",
       "lot_area             0\n",
       "                  ... \n",
       "total_sf             0\n",
       "overalls             0\n",
       "extr_overalls        0\n",
       "bedbathbynd          0\n",
       "garage_overalls      0\n",
       "Length: 177, dtype: int64"
      ]
     },
     "execution_count": 177,
     "metadata": {},
     "output_type": "execute_result"
    }
   ],
   "source": [
    "test_numeric.isna().sum()"
   ]
  },
  {
   "cell_type": "code",
   "execution_count": 178,
   "id": "4a859246-c2bf-4e2e-b343-dddb83734bcf",
   "metadata": {},
   "outputs": [],
   "source": [
    "test_numeric.fillna(0, inplace= True)"
   ]
  },
  {
   "cell_type": "code",
   "execution_count": 183,
   "id": "15e5e4c7-cbfe-4380-a286-c7ebe46e5a4e",
   "metadata": {},
   "outputs": [
    {
     "data": {
      "text/plain": [
       "['saleprice']"
      ]
     },
     "execution_count": 183,
     "metadata": {},
     "output_type": "execute_result"
    }
   ],
   "source": [
    "[i for i in train_numeric.columns if i not in test_numeric.columns]"
   ]
  },
  {
   "cell_type": "code",
   "execution_count": 184,
   "id": "1cab4b38-e359-4f50-91cd-a9704f152119",
   "metadata": {},
   "outputs": [
    {
     "data": {
      "text/plain": [
       "['id',\n",
       " 'pid',\n",
       " 'roof_matl__Metal',\n",
       " 'roof_matl__Roll',\n",
       " 'ext_1__PreCast',\n",
       " 'ext_2__Other',\n",
       " 'ext_2__PreCast',\n",
       " 'mas_vnr_type__CBlock',\n",
       " 'heating__GasA']"
      ]
     },
     "execution_count": 184,
     "metadata": {},
     "output_type": "execute_result"
    }
   ],
   "source": [
    "[i for i in test_numeric.columns if i not in train_numeric.columns]"
   ]
  },
  {
   "cell_type": "code",
   "execution_count": 186,
   "id": "8f997b6c-9aed-4b35-8008-908b3fdf3f7e",
   "metadata": {},
   "outputs": [],
   "source": [
    "test_numeric.drop(columns=['id',\n",
    " 'pid',\n",
    " 'roof_matl__Metal',\n",
    " 'roof_matl__Roll',\n",
    " 'ext_1__PreCast',\n",
    " 'ext_2__Other',\n",
    " 'ext_2__PreCast',\n",
    " 'mas_vnr_type__CBlock',\n",
    " 'heating__GasA'], inplace=True)"
   ]
  },
  {
   "cell_type": "code",
   "execution_count": 180,
   "id": "0abe0b57-37b4-4371-92ef-9a44641250c0",
   "metadata": {},
   "outputs": [
    {
     "data": {
      "text/plain": [
       "Index(['id', 'pid', 'ms_subclass', 'lot_frontage', 'lot_area', 'lot_shape',\n",
       "       'utilities', 'land_slope', 'year_built', 'year_remod/add',\n",
       "       ...\n",
       "       'garage_type_BuiltIn', 'garage_type_CarPort', 'garage_type_Detchd',\n",
       "       'misc_feat__Othr', 'misc_feat__Shed', 'total_sf', 'overalls',\n",
       "       'extr_overalls', 'bedbathbynd', 'garage_overalls'],\n",
       "      dtype='object', length=177)"
      ]
     },
     "execution_count": 180,
     "metadata": {},
     "output_type": "execute_result"
    }
   ],
   "source": [
    "test_numeric.columns"
   ]
  },
  {
   "cell_type": "code",
   "execution_count": 187,
   "id": "79180995-1c49-469f-a3a8-afc71171dd76",
   "metadata": {},
   "outputs": [],
   "source": [
    "X= test_numeric"
   ]
  },
  {
   "cell_type": "code",
   "execution_count": 190,
   "id": "c39dad71-46ea-41f1-9364-e073b04ceafd",
   "metadata": {},
   "outputs": [],
   "source": [
    "test_numeric['saleprice'] = lr.predict(X)"
   ]
  },
  {
   "cell_type": "code",
   "execution_count": null,
   "id": "aed7971f-8cb6-40c0-8e9d-3b8acc4c732b",
   "metadata": {},
   "outputs": [],
   "source": [
    "test_numeric['i']"
   ]
  },
  {
   "cell_type": "code",
   "execution_count": 192,
   "id": "e5485335-e290-461f-a5a0-680f618cdd0c",
   "metadata": {},
   "outputs": [],
   "source": [
    "test_numeric = test_numeric.join(other=test_df['id'])"
   ]
  },
  {
   "cell_type": "code",
   "execution_count": 194,
   "id": "efd5c0b5-7d31-44f0-8657-20c5d367750a",
   "metadata": {},
   "outputs": [
    {
     "data": {
      "text/plain": [
       "0      2658\n",
       "1      2718\n",
       "2      2414\n",
       "3      1989\n",
       "4       625\n",
       "       ... \n",
       "873    1662\n",
       "874    1234\n",
       "875    1373\n",
       "876    1672\n",
       "877    1939\n",
       "Name: id, Length: 878, dtype: int64"
      ]
     },
     "execution_count": 194,
     "metadata": {},
     "output_type": "execute_result"
    }
   ],
   "source": [
    "test_numeric['id']"
   ]
  },
  {
   "cell_type": "code",
   "execution_count": 195,
   "id": "a39115df-b9f7-447c-8953-39e54cf9e322",
   "metadata": {},
   "outputs": [],
   "source": [
    "complex_model_submit = test_numeric[['id', 'saleprice']]"
   ]
  },
  {
   "cell_type": "code",
   "execution_count": 196,
   "id": "f019b203-a830-4fd4-b85e-eafc7d8798d4",
   "metadata": {},
   "outputs": [],
   "source": [
    "complex_model_submit.set_index('id', inplace=True)"
   ]
  },
  {
   "cell_type": "code",
   "execution_count": 197,
   "id": "4cfd2fe9-cbb2-43d4-b855-0abd03c0b1a9",
   "metadata": {},
   "outputs": [],
   "source": [
    "complex_model_submit.to_csv('./datasets/complex_model_submit.csv')"
   ]
  },
  {
   "cell_type": "code",
   "execution_count": null,
   "id": "55c601ca-8396-48fa-99b0-b6638de9fe7c",
   "metadata": {},
   "outputs": [],
   "source": []
  }
 ],
 "metadata": {
  "kernelspec": {
   "display_name": "Python 3",
   "language": "python",
   "name": "python3"
  },
  "language_info": {
   "codemirror_mode": {
    "name": "ipython",
    "version": 3
   },
   "file_extension": ".py",
   "mimetype": "text/x-python",
   "name": "python",
   "nbconvert_exporter": "python",
   "pygments_lexer": "ipython3",
   "version": "3.8.8"
  }
 },
 "nbformat": 4,
 "nbformat_minor": 5
}
